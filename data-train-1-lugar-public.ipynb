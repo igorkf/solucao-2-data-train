{
 "cells": [
  {
   "cell_type": "code",
   "execution_count": 1,
   "metadata": {
    "execution": {
     "iopub.execute_input": "2020-12-12T01:04:56.995657Z",
     "iopub.status.busy": "2020-12-12T01:04:56.995038Z",
     "iopub.status.idle": "2020-12-12T01:04:58.331730Z",
     "shell.execute_reply": "2020-12-12T01:04:58.331059Z"
    },
    "papermill": {
     "duration": 1.387806,
     "end_time": "2020-12-12T01:04:58.331855",
     "exception": false,
     "start_time": "2020-12-12T01:04:56.944049",
     "status": "completed"
    },
    "tags": []
   },
   "outputs": [
    {
     "data": {
      "text/html": [
       "<style type='text/css'>\n",
       ".datatable table.frame { margin-bottom: 0; }\n",
       ".datatable table.frame thead { border-bottom: none; }\n",
       ".datatable table.frame tr.coltypes td {  color: #FFFFFF;  line-height: 6px;  padding: 0 0.5em;}\n",
       ".datatable .bool    { background: #DDDD99; }\n",
       ".datatable .object  { background: #565656; }\n",
       ".datatable .int     { background: #5D9E5D; }\n",
       ".datatable .float   { background: #4040CC; }\n",
       ".datatable .str     { background: #CC4040; }\n",
       ".datatable .row_index {  background: var(--jp-border-color3);  border-right: 1px solid var(--jp-border-color0);  color: var(--jp-ui-font-color3);  font-size: 9px;}\n",
       ".datatable .frame tr.coltypes .row_index {  background: var(--jp-border-color0);}\n",
       ".datatable th:nth-child(2) { padding-left: 12px; }\n",
       ".datatable .hellipsis {  color: var(--jp-cell-editor-border-color);}\n",
       ".datatable .vellipsis {  background: var(--jp-layout-color0);  color: var(--jp-cell-editor-border-color);}\n",
       ".datatable .na {  color: var(--jp-cell-editor-border-color);  font-size: 80%;}\n",
       ".datatable .footer { font-size: 9px; }\n",
       ".datatable .frame_dimensions {  background: var(--jp-border-color3);  border-top: 1px solid var(--jp-border-color0);  color: var(--jp-ui-font-color3);  display: inline-block;  opacity: 0.6;  padding: 1px 10px 1px 5px;}\n",
       ".datatable .frame thead tr.colnames {  background-image: url('data:image/png;base64,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');  background-repeat: repeat-x;  background-size: 14px;  height: 28px;}\n",
       "</style>\n"
      ],
      "text/plain": [
       "<IPython.core.display.HTML object>"
      ]
     },
     "metadata": {},
     "output_type": "display_data"
    }
   ],
   "source": [
    "import numpy as np\n",
    "import pandas as pd\n",
    "import matplotlib.pyplot as plt\n",
    "import warnings\n",
    "import xgboost as xgb\n",
    "\n",
    "warnings.filterwarnings('ignore')\n",
    "%matplotlib inline"
   ]
  },
  {
   "cell_type": "markdown",
   "metadata": {
    "papermill": {
     "duration": 0.04181,
     "end_time": "2020-12-12T01:04:58.417265",
     "exception": false,
     "start_time": "2020-12-12T01:04:58.375455",
     "status": "completed"
    },
    "tags": []
   },
   "source": [
    "## Lendo dados"
   ]
  },
  {
   "cell_type": "code",
   "execution_count": 2,
   "metadata": {
    "_cell_guid": "79c7e3d0-c299-4dcb-8224-4455121ee9b0",
    "_uuid": "d629ff2d2480ee46fbb7e2d37f6b5fab8052498a",
    "execution": {
     "iopub.execute_input": "2020-12-12T01:04:58.510858Z",
     "iopub.status.busy": "2020-12-12T01:04:58.510223Z",
     "iopub.status.idle": "2020-12-12T01:04:58.569651Z",
     "shell.execute_reply": "2020-12-12T01:04:58.570252Z"
    },
    "papermill": {
     "duration": 0.111292,
     "end_time": "2020-12-12T01:04:58.570386",
     "exception": false,
     "start_time": "2020-12-12T01:04:58.459094",
     "status": "completed"
    },
    "tags": []
   },
   "outputs": [
    {
     "name": "stdout",
     "output_type": "stream",
     "text": [
      "<class 'pandas.core.frame.DataFrame'>\n",
      "RangeIndex: 11389 entries, 0 to 11388\n",
      "Data columns (total 12 columns):\n",
      " #   Column          Non-Null Count  Dtype  \n",
      "---  ------          --------------  -----  \n",
      " 0   id              11389 non-null  int64  \n",
      " 1   idademae        11389 non-null  float64\n",
      " 2   estadocivilmae  11293 non-null  object \n",
      " 3   catprenatal     11349 non-null  object \n",
      " 4   qtdsemanas      11163 non-null  float64\n",
      " 5   tipoparto       11384 non-null  object \n",
      " 6   peso            11387 non-null  float64\n",
      " 7   malformacao     11085 non-null  object \n",
      " 8   sexo            11350 non-null  object \n",
      " 9   apgar1          11289 non-null  float64\n",
      " 10  apgar5          11294 non-null  float64\n",
      " 11  obito           11389 non-null  int64  \n",
      "dtypes: float64(5), int64(2), object(5)\n",
      "memory usage: 1.0+ MB\n"
     ]
    }
   ],
   "source": [
    "dados = pd.read_csv('/kaggle/input/data-train-secitec-ifg/treino.csv')\n",
    "dados.info()"
   ]
  },
  {
   "cell_type": "code",
   "execution_count": 3,
   "metadata": {
    "execution": {
     "iopub.execute_input": "2020-12-12T01:04:58.666184Z",
     "iopub.status.busy": "2020-12-12T01:04:58.665250Z",
     "iopub.status.idle": "2020-12-12T01:04:58.693509Z",
     "shell.execute_reply": "2020-12-12T01:04:58.692612Z"
    },
    "papermill": {
     "duration": 0.078707,
     "end_time": "2020-12-12T01:04:58.693693",
     "exception": false,
     "start_time": "2020-12-12T01:04:58.614986",
     "status": "completed"
    },
    "tags": []
   },
   "outputs": [
    {
     "name": "stdout",
     "output_type": "stream",
     "text": [
      "<class 'pandas.core.frame.DataFrame'>\n",
      "RangeIndex: 4882 entries, 0 to 4881\n",
      "Data columns (total 11 columns):\n",
      " #   Column          Non-Null Count  Dtype  \n",
      "---  ------          --------------  -----  \n",
      " 0   id              4882 non-null   int64  \n",
      " 1   idademae        4881 non-null   float64\n",
      " 2   estadocivilmae  4844 non-null   object \n",
      " 3   catprenatal     4869 non-null   object \n",
      " 4   qtdsemanas      4786 non-null   float64\n",
      " 5   tipoparto       4882 non-null   object \n",
      " 6   peso            4882 non-null   float64\n",
      " 7   malformacao     4739 non-null   object \n",
      " 8   sexo            4870 non-null   object \n",
      " 9   apgar1          4834 non-null   float64\n",
      " 10  apgar5          4833 non-null   float64\n",
      "dtypes: float64(5), int64(1), object(5)\n",
      "memory usage: 419.7+ KB\n"
     ]
    }
   ],
   "source": [
    "teste = pd.read_csv('/kaggle/input/data-train-secitec-ifg/teste.csv')\n",
    "teste.info()"
   ]
  },
  {
   "cell_type": "code",
   "execution_count": 4,
   "metadata": {
    "execution": {
     "iopub.execute_input": "2020-12-12T01:04:58.791913Z",
     "iopub.status.busy": "2020-12-12T01:04:58.791201Z",
     "iopub.status.idle": "2020-12-12T01:04:58.808429Z",
     "shell.execute_reply": "2020-12-12T01:04:58.808957Z"
    },
    "papermill": {
     "duration": 0.070036,
     "end_time": "2020-12-12T01:04:58.809117",
     "exception": false,
     "start_time": "2020-12-12T01:04:58.739081",
     "status": "completed"
    },
    "tags": []
   },
   "outputs": [
    {
     "name": "stdout",
     "output_type": "stream",
     "text": [
      "<class 'pandas.core.frame.DataFrame'>\n",
      "RangeIndex: 4882 entries, 0 to 4881\n",
      "Data columns (total 2 columns):\n",
      " #   Column  Non-Null Count  Dtype  \n",
      "---  ------  --------------  -----  \n",
      " 0   id      4882 non-null   int64  \n",
      " 1   obito   4882 non-null   float64\n",
      "dtypes: float64(1), int64(1)\n",
      "memory usage: 76.4 KB\n"
     ]
    }
   ],
   "source": [
    "submissao = pd.read_csv('/kaggle/input/data-train-secitec-ifg/submission.csv')\n",
    "submissao.info()"
   ]
  },
  {
   "cell_type": "markdown",
   "metadata": {
    "papermill": {
     "duration": 0.04276,
     "end_time": "2020-12-12T01:04:58.894958",
     "exception": false,
     "start_time": "2020-12-12T01:04:58.852198",
     "status": "completed"
    },
    "tags": []
   },
   "source": [
    "Temos datasets pequenos (o dataset de treino tem somente 1 MB), comparados com alguns aqui do Kaggle."
   ]
  },
  {
   "cell_type": "markdown",
   "metadata": {
    "papermill": {
     "duration": 0.04595,
     "end_time": "2020-12-12T01:04:58.984840",
     "exception": false,
     "start_time": "2020-12-12T01:04:58.938890",
     "status": "completed"
    },
    "tags": []
   },
   "source": [
    "## Análise exploratória de dados"
   ]
  },
  {
   "cell_type": "code",
   "execution_count": 5,
   "metadata": {
    "execution": {
     "iopub.execute_input": "2020-12-12T01:04:59.086239Z",
     "iopub.status.busy": "2020-12-12T01:04:59.085556Z",
     "iopub.status.idle": "2020-12-12T01:04:59.096664Z",
     "shell.execute_reply": "2020-12-12T01:04:59.096118Z"
    },
    "papermill": {
     "duration": 0.065757,
     "end_time": "2020-12-12T01:04:59.096772",
     "exception": false,
     "start_time": "2020-12-12T01:04:59.031015",
     "status": "completed"
    },
    "tags": []
   },
   "outputs": [
    {
     "data": {
      "text/html": [
       "<div>\n",
       "<style scoped>\n",
       "    .dataframe tbody tr th:only-of-type {\n",
       "        vertical-align: middle;\n",
       "    }\n",
       "\n",
       "    .dataframe tbody tr th {\n",
       "        vertical-align: top;\n",
       "    }\n",
       "\n",
       "    .dataframe thead th {\n",
       "        text-align: right;\n",
       "    }\n",
       "</style>\n",
       "<table border=\"1\" class=\"dataframe\">\n",
       "  <thead>\n",
       "    <tr style=\"text-align: right;\">\n",
       "      <th></th>\n",
       "      <th>id</th>\n",
       "      <th>idademae</th>\n",
       "      <th>estadocivilmae</th>\n",
       "      <th>catprenatal</th>\n",
       "      <th>qtdsemanas</th>\n",
       "      <th>tipoparto</th>\n",
       "      <th>peso</th>\n",
       "      <th>malformacao</th>\n",
       "      <th>sexo</th>\n",
       "      <th>apgar1</th>\n",
       "      <th>apgar5</th>\n",
       "      <th>obito</th>\n",
       "    </tr>\n",
       "  </thead>\n",
       "  <tbody>\n",
       "    <tr>\n",
       "      <th>0</th>\n",
       "      <td>2708</td>\n",
       "      <td>13.0</td>\n",
       "      <td>solteira</td>\n",
       "      <td>de4a6</td>\n",
       "      <td>36.0</td>\n",
       "      <td>vaginal</td>\n",
       "      <td>2440.0</td>\n",
       "      <td>nao</td>\n",
       "      <td>f</td>\n",
       "      <td>9.0</td>\n",
       "      <td>10.0</td>\n",
       "      <td>0</td>\n",
       "    </tr>\n",
       "    <tr>\n",
       "      <th>1</th>\n",
       "      <td>14097</td>\n",
       "      <td>25.0</td>\n",
       "      <td>casada</td>\n",
       "      <td>7mais</td>\n",
       "      <td>39.0</td>\n",
       "      <td>cesareo</td>\n",
       "      <td>2850.0</td>\n",
       "      <td>nao</td>\n",
       "      <td>f</td>\n",
       "      <td>9.0</td>\n",
       "      <td>10.0</td>\n",
       "      <td>0</td>\n",
       "    </tr>\n",
       "    <tr>\n",
       "      <th>2</th>\n",
       "      <td>5360</td>\n",
       "      <td>27.0</td>\n",
       "      <td>solteira</td>\n",
       "      <td>7mais</td>\n",
       "      <td>38.0</td>\n",
       "      <td>cesareo</td>\n",
       "      <td>3350.0</td>\n",
       "      <td>nao</td>\n",
       "      <td>f</td>\n",
       "      <td>9.0</td>\n",
       "      <td>10.0</td>\n",
       "      <td>0</td>\n",
       "    </tr>\n",
       "    <tr>\n",
       "      <th>3</th>\n",
       "      <td>15902</td>\n",
       "      <td>28.0</td>\n",
       "      <td>solteira</td>\n",
       "      <td>7mais</td>\n",
       "      <td>41.0</td>\n",
       "      <td>vaginal</td>\n",
       "      <td>3065.0</td>\n",
       "      <td>nao</td>\n",
       "      <td>m</td>\n",
       "      <td>8.0</td>\n",
       "      <td>9.0</td>\n",
       "      <td>0</td>\n",
       "    </tr>\n",
       "    <tr>\n",
       "      <th>4</th>\n",
       "      <td>8985</td>\n",
       "      <td>21.0</td>\n",
       "      <td>solteira</td>\n",
       "      <td>de4a6</td>\n",
       "      <td>39.0</td>\n",
       "      <td>cesareo</td>\n",
       "      <td>3085.0</td>\n",
       "      <td>nao</td>\n",
       "      <td>f</td>\n",
       "      <td>8.0</td>\n",
       "      <td>9.0</td>\n",
       "      <td>0</td>\n",
       "    </tr>\n",
       "  </tbody>\n",
       "</table>\n",
       "</div>"
      ],
      "text/plain": [
       "      id  idademae estadocivilmae catprenatal  qtdsemanas tipoparto    peso  \\\n",
       "0   2708      13.0       solteira       de4a6        36.0   vaginal  2440.0   \n",
       "1  14097      25.0         casada       7mais        39.0   cesareo  2850.0   \n",
       "2   5360      27.0       solteira       7mais        38.0   cesareo  3350.0   \n",
       "3  15902      28.0       solteira       7mais        41.0   vaginal  3065.0   \n",
       "4   8985      21.0       solteira       de4a6        39.0   cesareo  3085.0   \n",
       "\n",
       "  malformacao sexo  apgar1  apgar5  obito  \n",
       "0         nao    f     9.0    10.0      0  \n",
       "1         nao    f     9.0    10.0      0  \n",
       "2         nao    f     9.0    10.0      0  \n",
       "3         nao    m     8.0     9.0      0  \n",
       "4         nao    f     8.0     9.0      0  "
      ]
     },
     "execution_count": 5,
     "metadata": {},
     "output_type": "execute_result"
    }
   ],
   "source": [
    "dados.head()"
   ]
  },
  {
   "cell_type": "markdown",
   "metadata": {
    "papermill": {
     "duration": 0.043491,
     "end_time": "2020-12-12T01:04:59.185865",
     "exception": false,
     "start_time": "2020-12-12T01:04:59.142374",
     "status": "completed"
    },
    "tags": []
   },
   "source": [
    "**Dicionário de dados:**\n",
    "       \n",
    "- idademae: Idade da mãe em anos    \n",
    "- estadocivilmae: Estado Civil da Mãe    \n",
    "- catprenatal: Quantidade de Consultas pré-natal realizadas pela mãe    \n",
    "- qtdsemanas: Idade gestacional no momento do parto em semanas    \n",
    "- tipoparto: Tipo do parto    \n",
    "- peso: Peso do recém-nascido no momento do nascimento em gramas    \n",
    "- malformacao: Se foi observada alguma mal formação no bebê    \n",
    "- sexo: Sexo do recém-nascio (f=feminino, m=masculino)    \n",
    "- apgar1: Apgar no 1º Minuto    \n",
    "- apgar5: Apgar no 5º Minuto    \n",
    "- obito: Indica se o recém-nascido veio a óbito antes de completar 1 ano de vida    "
   ]
  },
  {
   "cell_type": "markdown",
   "metadata": {
    "papermill": {
     "duration": 0.044379,
     "end_time": "2020-12-12T01:04:59.274035",
     "exception": false,
     "start_time": "2020-12-12T01:04:59.229656",
     "status": "completed"
    },
    "tags": []
   },
   "source": [
    "### O que é Apgar?   \n",
    "       \n",
    "A Escala ou Índice de Apgar é um teste desenvolvido pela Dra. Virginia Apgar (1909 – 1974), médica norte-americana, que consiste na avaliação por um pediatra de 5 sinais objetivos do recém-nascido, atribuindo-se a cada um dos sinais uma pontuação de 0 a 2. O teste, aplicado duas vezes (no primeiro e no quinto minuto após o nascimento), é utilizado para avaliar o ajuste imediato do recém-nascido à vida extrauterina, sendo que os sinais avaliados são: frequência cardíaca, respiração, tônus muscular, irritabilidade reflexa e cor da pele. O somatório da pontuação (no mínimo 0 e no máximo 10) resultará no Índice de Apgar e o recém-nascido será classificado como:\n",
    "\n",
    "- sem asfixia (Apgar 8 a 10);    \n",
    "- com asfixia leve (Apgar 5 a 7);    \n",
    "- com asfixia moderada (Apgar 3 a 4) ou    \n",
    "- com asfixia grave: Apgar 0 a 2.    \n",
    "    \n",
    "****\n",
    "    \n",
    "**APGAR**:    \n",
    "- **A**parência\n",
    "     \n",
    "- **P**ulso   \n",
    "    \n",
    "- **G**esticulação\n",
    "    \n",
    "- **A**tividade\n",
    "    \n",
    "- **R**espiração\n",
    "      \n",
    "*Fonte: https://pt.wikipedia.org/wiki/Escala_de_Apgar*"
   ]
  },
  {
   "cell_type": "code",
   "execution_count": 6,
   "metadata": {
    "execution": {
     "iopub.execute_input": "2020-12-12T01:04:59.370144Z",
     "iopub.status.busy": "2020-12-12T01:04:59.369440Z",
     "iopub.status.idle": "2020-12-12T01:04:59.374210Z",
     "shell.execute_reply": "2020-12-12T01:04:59.373276Z"
    },
    "papermill": {
     "duration": 0.056681,
     "end_time": "2020-12-12T01:04:59.374330",
     "exception": false,
     "start_time": "2020-12-12T01:04:59.317649",
     "status": "completed"
    },
    "tags": []
   },
   "outputs": [
    {
     "data": {
      "text/plain": [
       "0.0       97\n",
       "1.0      416\n",
       "2.0      349\n",
       "3.0      334\n",
       "4.0      311\n",
       "5.0      318\n",
       "6.0      483\n",
       "7.0      861\n",
       "8.0     2750\n",
       "9.0     4865\n",
       "10.0     505\n",
       "NaN      100\n",
       "Name: apgar1, dtype: int64"
      ]
     },
     "execution_count": 6,
     "metadata": {},
     "output_type": "execute_result"
    }
   ],
   "source": [
    "dados['apgar1'].value_counts(dropna=False).sort_index()"
   ]
  },
  {
   "cell_type": "code",
   "execution_count": 7,
   "metadata": {
    "execution": {
     "iopub.execute_input": "2020-12-12T01:04:59.468305Z",
     "iopub.status.busy": "2020-12-12T01:04:59.467722Z",
     "iopub.status.idle": "2020-12-12T01:04:59.475178Z",
     "shell.execute_reply": "2020-12-12T01:04:59.474495Z"
    },
    "papermill": {
     "duration": 0.056865,
     "end_time": "2020-12-12T01:04:59.475290",
     "exception": false,
     "start_time": "2020-12-12T01:04:59.418425",
     "status": "completed"
    },
    "tags": []
   },
   "outputs": [
    {
     "data": {
      "text/plain": [
       "0.0      125\n",
       "1.0      190\n",
       "2.0      119\n",
       "3.0      134\n",
       "4.0      174\n",
       "5.0      208\n",
       "6.0      296\n",
       "7.0      480\n",
       "8.0      918\n",
       "9.0     3100\n",
       "10.0    5550\n",
       "NaN       95\n",
       "Name: apgar5, dtype: int64"
      ]
     },
     "execution_count": 7,
     "metadata": {},
     "output_type": "execute_result"
    }
   ],
   "source": [
    "dados['apgar5'].value_counts(dropna=False).sort_index()"
   ]
  },
  {
   "cell_type": "markdown",
   "metadata": {
    "papermill": {
     "duration": 0.04625,
     "end_time": "2020-12-12T01:04:59.567340",
     "exception": false,
     "start_time": "2020-12-12T01:04:59.521090",
     "status": "completed"
    },
    "tags": []
   },
   "source": [
    "Podemos ver que temos crianças com `asfixia grave` (Apgar 0 a 2), por exemplo.   \n",
    "Temos alguns valores `NaN` também."
   ]
  },
  {
   "cell_type": "code",
   "execution_count": 8,
   "metadata": {
    "execution": {
     "iopub.execute_input": "2020-12-12T01:04:59.666228Z",
     "iopub.status.busy": "2020-12-12T01:04:59.665642Z",
     "iopub.status.idle": "2020-12-12T01:04:59.995101Z",
     "shell.execute_reply": "2020-12-12T01:04:59.994451Z"
    },
    "papermill": {
     "duration": 0.381848,
     "end_time": "2020-12-12T01:04:59.995212",
     "exception": false,
     "start_time": "2020-12-12T01:04:59.613364",
     "status": "completed"
    },
    "tags": []
   },
   "outputs": [
    {
     "data": {
      "image/png": "[encoded data removed]",
      "text/plain": [
       "<Figure size 1152x432 with 2 Axes>"
      ]
     },
     "metadata": {
      "needs_background": "light"
     },
     "output_type": "display_data"
    }
   ],
   "source": [
    "fig, axes = plt.subplots(1, 2, figsize=(16, 6), sharey=True)\n",
    "\n",
    "for name, ax in zip(['apgar1', 'apgar5'], axes):\n",
    "    ax.hist(dados[name])\n",
    "    ax.set_title(f'APGAR ({name[-1]}º segundo)')\n",
    "\n",
    "fig.show();"
   ]
  },
  {
   "cell_type": "markdown",
   "metadata": {
    "papermill": {
     "duration": 0.045678,
     "end_time": "2020-12-12T01:05:00.086570",
     "exception": false,
     "start_time": "2020-12-12T01:05:00.040892",
     "status": "completed"
    },
    "tags": []
   },
   "source": [
    "## Visualizando frequências das *features* categóricas"
   ]
  },
  {
   "cell_type": "code",
   "execution_count": 9,
   "metadata": {
    "execution": {
     "iopub.execute_input": "2020-12-12T01:05:00.201800Z",
     "iopub.status.busy": "2020-12-12T01:05:00.201136Z",
     "iopub.status.idle": "2020-12-12T01:05:00.946781Z",
     "shell.execute_reply": "2020-12-12T01:05:00.947776Z"
    },
    "papermill": {
     "duration": 0.816278,
     "end_time": "2020-12-12T01:05:00.947935",
     "exception": false,
     "start_time": "2020-12-12T01:05:00.131657",
     "status": "completed"
    },
    "tags": []
   },
   "outputs": [
    {
     "data": {
      "image/png": "[encoded data removed]",
      "text/plain": [
       "<Figure size 1728x1152 with 6 Axes>"
      ]
     },
     "metadata": {
      "needs_background": "light"
     },
     "output_type": "display_data"
    }
   ],
   "source": [
    "cat_features = ['estadocivilmae', 'catprenatal', 'tipoparto', 'malformacao', 'sexo', 'obito']\n",
    "\n",
    "fig, axes = plt.subplots(2, 3, figsize=(24, 16), sharey=True, gridspec_kw={'wspace': .05, 'hspace': .18})\n",
    "\n",
    "axes = axes.ravel()\n",
    "\n",
    "for name, ax in zip(cat_features, axes):\n",
    "    \n",
    "    counts = dados[name].value_counts(dropna=False)\n",
    "    ax.bar(counts.index.astype(str), counts)\n",
    "    ax.set_title(name, fontname='Times New Roman', fontweight='bold')\n",
    "    ax.set_axisbelow(True)\n",
    "    \n",
    "    for x, y in enumerate(counts):\n",
    "        ax.text(x=x, y=y+100, s=str(y), horizontalalignment='center')\n",
    "\n",
    "fig.show();"
   ]
  },
  {
   "cell_type": "markdown",
   "metadata": {
    "papermill": {
     "duration": 0.049402,
     "end_time": "2020-12-12T01:05:01.049196",
     "exception": false,
     "start_time": "2020-12-12T01:05:00.999794",
     "status": "completed"
    },
    "tags": []
   },
   "source": [
    "Todas as *features* categóricas possuem `NaN` (apesar de serem poucos valores). \n",
    "    \n",
    "### Outra coisa importante é que nossa *target* está bem desbalanceada (há muito mais sobrevivências do que óbitos)."
   ]
  },
  {
   "cell_type": "markdown",
   "metadata": {
    "papermill": {
     "duration": 0.046774,
     "end_time": "2020-12-12T01:05:01.143788",
     "exception": false,
     "start_time": "2020-12-12T01:05:01.097014",
     "status": "completed"
    },
    "tags": []
   },
   "source": [
    "## Visualizando *features* numéricas"
   ]
  },
  {
   "cell_type": "code",
   "execution_count": 10,
   "metadata": {
    "execution": {
     "iopub.execute_input": "2020-12-12T01:05:01.260829Z",
     "iopub.status.busy": "2020-12-12T01:05:01.260111Z",
     "iopub.status.idle": "2020-12-12T01:05:01.728684Z",
     "shell.execute_reply": "2020-12-12T01:05:01.728105Z"
    },
    "papermill": {
     "duration": 0.537897,
     "end_time": "2020-12-12T01:05:01.728852",
     "exception": false,
     "start_time": "2020-12-12T01:05:01.190955",
     "status": "completed"
    },
    "tags": []
   },
   "outputs": [
    {
     "data": {
      "image/png": "[encoded data removed]",
      "text/plain": [
       "<Figure size 1728x576 with 3 Axes>"
      ]
     },
     "metadata": {
      "needs_background": "light"
     },
     "output_type": "display_data"
    }
   ],
   "source": [
    "num_features = ['idademae', 'qtdsemanas', 'peso']\n",
    "\n",
    "fig, axes = plt.subplots(1, 3, figsize=(24, 8), sharey=True)\n",
    "\n",
    "for name, ax in zip(num_features, axes):\n",
    "    ax.hist(dados[name], bins=20)\n",
    "    ax.set_title(name, fontname='Times New Roman', fontweight='bold')\n",
    "\n",
    "fig.show();"
   ]
  },
  {
   "cell_type": "markdown",
   "metadata": {
    "papermill": {
     "duration": 0.051208,
     "end_time": "2020-12-12T01:05:01.831912",
     "exception": false,
     "start_time": "2020-12-12T01:05:01.780704",
     "status": "completed"
    },
    "tags": []
   },
   "source": [
    "A *feature* `idademae` é assimétrica à esquerda, enquanto `qtdsemanas` é assimétrica à direta. Já `peso` parece ter duas modas.    "
   ]
  },
  {
   "cell_type": "code",
   "execution_count": 11,
   "metadata": {
    "execution": {
     "iopub.execute_input": "2020-12-12T01:05:01.942093Z",
     "iopub.status.busy": "2020-12-12T01:05:01.940639Z",
     "iopub.status.idle": "2020-12-12T01:05:01.946248Z",
     "shell.execute_reply": "2020-12-12T01:05:01.945644Z"
    },
    "papermill": {
     "duration": 0.062525,
     "end_time": "2020-12-12T01:05:01.946359",
     "exception": false,
     "start_time": "2020-12-12T01:05:01.883834",
     "status": "completed"
    },
    "tags": []
   },
   "outputs": [
    {
     "data": {
      "text/plain": [
       "idademae        0\n",
       "qtdsemanas    226\n",
       "peso            2\n",
       "dtype: int64"
      ]
     },
     "execution_count": 11,
     "metadata": {},
     "output_type": "execute_result"
    }
   ],
   "source": [
    "# temos NaN?\n",
    "dados[num_features].isna().sum()"
   ]
  },
  {
   "cell_type": "code",
   "execution_count": 12,
   "metadata": {
    "execution": {
     "iopub.execute_input": "2020-12-12T01:05:02.056617Z",
     "iopub.status.busy": "2020-12-12T01:05:02.053132Z",
     "iopub.status.idle": "2020-12-12T01:05:02.078269Z",
     "shell.execute_reply": "2020-12-12T01:05:02.077728Z"
    },
    "papermill": {
     "duration": 0.082675,
     "end_time": "2020-12-12T01:05:02.078400",
     "exception": false,
     "start_time": "2020-12-12T01:05:01.995725",
     "status": "completed"
    },
    "tags": []
   },
   "outputs": [
    {
     "data": {
      "text/html": [
       "<div>\n",
       "<style scoped>\n",
       "    .dataframe tbody tr th:only-of-type {\n",
       "        vertical-align: middle;\n",
       "    }\n",
       "\n",
       "    .dataframe tbody tr th {\n",
       "        vertical-align: top;\n",
       "    }\n",
       "\n",
       "    .dataframe thead th {\n",
       "        text-align: right;\n",
       "    }\n",
       "</style>\n",
       "<table border=\"1\" class=\"dataframe\">\n",
       "  <thead>\n",
       "    <tr style=\"text-align: right;\">\n",
       "      <th></th>\n",
       "      <th>count</th>\n",
       "      <th>mean</th>\n",
       "      <th>std</th>\n",
       "      <th>min</th>\n",
       "      <th>25%</th>\n",
       "      <th>50%</th>\n",
       "      <th>75%</th>\n",
       "      <th>max</th>\n",
       "    </tr>\n",
       "  </thead>\n",
       "  <tbody>\n",
       "    <tr>\n",
       "      <th>idademae</th>\n",
       "      <td>11389.0</td>\n",
       "      <td>25.793748</td>\n",
       "      <td>6.468443</td>\n",
       "      <td>11.0</td>\n",
       "      <td>21.0</td>\n",
       "      <td>25.0</td>\n",
       "      <td>30.0</td>\n",
       "      <td>52.0</td>\n",
       "    </tr>\n",
       "    <tr>\n",
       "      <th>qtdsemanas</th>\n",
       "      <td>11163.0</td>\n",
       "      <td>36.952611</td>\n",
       "      <td>4.421121</td>\n",
       "      <td>19.0</td>\n",
       "      <td>37.0</td>\n",
       "      <td>38.0</td>\n",
       "      <td>39.0</td>\n",
       "      <td>45.0</td>\n",
       "    </tr>\n",
       "    <tr>\n",
       "      <th>peso</th>\n",
       "      <td>11387.0</td>\n",
       "      <td>2818.527883</td>\n",
       "      <td>930.575296</td>\n",
       "      <td>150.0</td>\n",
       "      <td>2550.0</td>\n",
       "      <td>3060.0</td>\n",
       "      <td>3412.0</td>\n",
       "      <td>6651.0</td>\n",
       "    </tr>\n",
       "  </tbody>\n",
       "</table>\n",
       "</div>"
      ],
      "text/plain": [
       "              count         mean         std    min     25%     50%     75%  \\\n",
       "idademae    11389.0    25.793748    6.468443   11.0    21.0    25.0    30.0   \n",
       "qtdsemanas  11163.0    36.952611    4.421121   19.0    37.0    38.0    39.0   \n",
       "peso        11387.0  2818.527883  930.575296  150.0  2550.0  3060.0  3412.0   \n",
       "\n",
       "               max  \n",
       "idademae      52.0  \n",
       "qtdsemanas    45.0  \n",
       "peso        6651.0  "
      ]
     },
     "execution_count": 12,
     "metadata": {},
     "output_type": "execute_result"
    }
   ],
   "source": [
    "pd.DataFrame(dados[num_features].describe()).T"
   ]
  },
  {
   "cell_type": "markdown",
   "metadata": {
    "papermill": {
     "duration": 0.04825,
     "end_time": "2020-12-12T01:05:02.174843",
     "exception": false,
     "start_time": "2020-12-12T01:05:02.126593",
     "status": "completed"
    },
    "tags": []
   },
   "source": [
    "## Transformando variáveis categóricas\n",
    "   \n",
    "Antes de fazer o *split* em treino/validação, podemos transformar as variáveis categóricas para os dados completos, porque uma `categoria=0` dos dados de treino\n",
    "precisa ser a mesma categoria nos dados de validação, senão estaríamos \"bagunçando\" toda a lógica dos dados.   \n",
    "    \n",
    "Mas precisamos tomar cuidado: algumas variáveis só podem ser transformadas depois do *split*. Por exemplo, se transformarmos a variável `idademae` para\n",
    "os dados completos, estaríamos \"interferindo\" na distribuição desta variável nos dados de validação. Isso é um problema, porque teoricamente os dados de \n",
    "validação precisam ser totalmente desconhecidos pelo modelo. Se categorizarmos usando os dados completos, então informações dos dados de validação serão usados\n",
    "para treinar o modelo, podendo causar uma boa performance em dados de treino e/ou validação, porém má performance em dados desconhecidos. Esse é um exemplo de *data leakage* (vazamento de dados).    \n",
    "        \n",
    "Se eu quisesse transformar a variável `idademae` em classes, o correto seria fazer isso usando somente os dados de treino, e usar estas mesmas categorias criadas para categorizar os dados de validação.   \n",
    "    \n",
    "Para valores faltantes, vamos manter o `NaN`."
   ]
  },
  {
   "cell_type": "code",
   "execution_count": 13,
   "metadata": {
    "execution": {
     "iopub.execute_input": "2020-12-12T01:05:02.280194Z",
     "iopub.status.busy": "2020-12-12T01:05:02.279650Z",
     "iopub.status.idle": "2020-12-12T01:05:02.294857Z",
     "shell.execute_reply": "2020-12-12T01:05:02.295296Z"
    },
    "papermill": {
     "duration": 0.069487,
     "end_time": "2020-12-12T01:05:02.295443",
     "exception": false,
     "start_time": "2020-12-12T01:05:02.225956",
     "status": "completed"
    },
    "tags": []
   },
   "outputs": [
    {
     "data": {
      "text/html": [
       "<div>\n",
       "<style scoped>\n",
       "    .dataframe tbody tr th:only-of-type {\n",
       "        vertical-align: middle;\n",
       "    }\n",
       "\n",
       "    .dataframe tbody tr th {\n",
       "        vertical-align: top;\n",
       "    }\n",
       "\n",
       "    .dataframe thead th {\n",
       "        text-align: right;\n",
       "    }\n",
       "</style>\n",
       "<table border=\"1\" class=\"dataframe\">\n",
       "  <thead>\n",
       "    <tr style=\"text-align: right;\">\n",
       "      <th></th>\n",
       "      <th>id</th>\n",
       "      <th>idademae</th>\n",
       "      <th>estadocivilmae</th>\n",
       "      <th>catprenatal</th>\n",
       "      <th>qtdsemanas</th>\n",
       "      <th>tipoparto</th>\n",
       "      <th>peso</th>\n",
       "      <th>malformacao</th>\n",
       "      <th>sexo</th>\n",
       "      <th>apgar1</th>\n",
       "      <th>apgar5</th>\n",
       "      <th>obito</th>\n",
       "    </tr>\n",
       "  </thead>\n",
       "  <tbody>\n",
       "    <tr>\n",
       "      <th>0</th>\n",
       "      <td>2708</td>\n",
       "      <td>13.0</td>\n",
       "      <td>solteira</td>\n",
       "      <td>de4a6</td>\n",
       "      <td>36.0</td>\n",
       "      <td>vaginal</td>\n",
       "      <td>2440.0</td>\n",
       "      <td>nao</td>\n",
       "      <td>f</td>\n",
       "      <td>9.0</td>\n",
       "      <td>10.0</td>\n",
       "      <td>0</td>\n",
       "    </tr>\n",
       "    <tr>\n",
       "      <th>1</th>\n",
       "      <td>14097</td>\n",
       "      <td>25.0</td>\n",
       "      <td>casada</td>\n",
       "      <td>7mais</td>\n",
       "      <td>39.0</td>\n",
       "      <td>cesareo</td>\n",
       "      <td>2850.0</td>\n",
       "      <td>nao</td>\n",
       "      <td>f</td>\n",
       "      <td>9.0</td>\n",
       "      <td>10.0</td>\n",
       "      <td>0</td>\n",
       "    </tr>\n",
       "    <tr>\n",
       "      <th>2</th>\n",
       "      <td>5360</td>\n",
       "      <td>27.0</td>\n",
       "      <td>solteira</td>\n",
       "      <td>7mais</td>\n",
       "      <td>38.0</td>\n",
       "      <td>cesareo</td>\n",
       "      <td>3350.0</td>\n",
       "      <td>nao</td>\n",
       "      <td>f</td>\n",
       "      <td>9.0</td>\n",
       "      <td>10.0</td>\n",
       "      <td>0</td>\n",
       "    </tr>\n",
       "    <tr>\n",
       "      <th>3</th>\n",
       "      <td>15902</td>\n",
       "      <td>28.0</td>\n",
       "      <td>solteira</td>\n",
       "      <td>7mais</td>\n",
       "      <td>41.0</td>\n",
       "      <td>vaginal</td>\n",
       "      <td>3065.0</td>\n",
       "      <td>nao</td>\n",
       "      <td>m</td>\n",
       "      <td>8.0</td>\n",
       "      <td>9.0</td>\n",
       "      <td>0</td>\n",
       "    </tr>\n",
       "    <tr>\n",
       "      <th>4</th>\n",
       "      <td>8985</td>\n",
       "      <td>21.0</td>\n",
       "      <td>solteira</td>\n",
       "      <td>de4a6</td>\n",
       "      <td>39.0</td>\n",
       "      <td>cesareo</td>\n",
       "      <td>3085.0</td>\n",
       "      <td>nao</td>\n",
       "      <td>f</td>\n",
       "      <td>8.0</td>\n",
       "      <td>9.0</td>\n",
       "      <td>0</td>\n",
       "    </tr>\n",
       "  </tbody>\n",
       "</table>\n",
       "</div>"
      ],
      "text/plain": [
       "      id  idademae estadocivilmae catprenatal  qtdsemanas tipoparto    peso  \\\n",
       "0   2708      13.0       solteira       de4a6        36.0   vaginal  2440.0   \n",
       "1  14097      25.0         casada       7mais        39.0   cesareo  2850.0   \n",
       "2   5360      27.0       solteira       7mais        38.0   cesareo  3350.0   \n",
       "3  15902      28.0       solteira       7mais        41.0   vaginal  3065.0   \n",
       "4   8985      21.0       solteira       de4a6        39.0   cesareo  3085.0   \n",
       "\n",
       "  malformacao sexo  apgar1  apgar5  obito  \n",
       "0         nao    f     9.0    10.0      0  \n",
       "1         nao    f     9.0    10.0      0  \n",
       "2         nao    f     9.0    10.0      0  \n",
       "3         nao    m     8.0     9.0      0  \n",
       "4         nao    f     8.0     9.0      0  "
      ]
     },
     "execution_count": 13,
     "metadata": {},
     "output_type": "execute_result"
    }
   ],
   "source": [
    "dados.head()"
   ]
  },
  {
   "cell_type": "code",
   "execution_count": 14,
   "metadata": {
    "execution": {
     "iopub.execute_input": "2020-12-12T01:05:02.397442Z",
     "iopub.status.busy": "2020-12-12T01:05:02.396857Z",
     "iopub.status.idle": "2020-12-12T01:05:02.428224Z",
     "shell.execute_reply": "2020-12-12T01:05:02.428668Z"
    },
    "papermill": {
     "duration": 0.083713,
     "end_time": "2020-12-12T01:05:02.428813",
     "exception": false,
     "start_time": "2020-12-12T01:05:02.345100",
     "status": "completed"
    },
    "tags": []
   },
   "outputs": [
    {
     "data": {
      "text/plain": [
       "estadocivilmae    0.008429\n",
       "tipoparto         0.000439\n",
       "malformacao       0.026692\n",
       "sexo              0.003424\n",
       "dtype: float64"
      ]
     },
     "execution_count": 14,
     "metadata": {},
     "output_type": "execute_result"
    }
   ],
   "source": [
    "# proporção de NaN\n",
    "dados[['estadocivilmae', 'tipoparto', 'malformacao', 'sexo']].isnull().sum() / dados.shape[0]"
   ]
  },
  {
   "cell_type": "code",
   "execution_count": 15,
   "metadata": {
    "execution": {
     "iopub.execute_input": "2020-12-12T01:05:02.532147Z",
     "iopub.status.busy": "2020-12-12T01:05:02.531527Z",
     "iopub.status.idle": "2020-12-12T01:05:02.540405Z",
     "shell.execute_reply": "2020-12-12T01:05:02.540841Z"
    },
    "papermill": {
     "duration": 0.063333,
     "end_time": "2020-12-12T01:05:02.540995",
     "exception": false,
     "start_time": "2020-12-12T01:05:02.477662",
     "status": "completed"
    },
    "tags": []
   },
   "outputs": [
    {
     "data": {
      "text/plain": [
       "solteira    4214\n",
       "casada      4163\n",
       "uniao       2784\n",
       "separada     111\n",
       "NaN           96\n",
       "viuva         21\n",
       "Name: estadocivilmae, dtype: int64"
      ]
     },
     "execution_count": 15,
     "metadata": {},
     "output_type": "execute_result"
    }
   ],
   "source": [
    "dados['estadocivilmae'].value_counts(dropna=False)"
   ]
  },
  {
   "cell_type": "code",
   "execution_count": 16,
   "metadata": {
    "execution": {
     "iopub.execute_input": "2020-12-12T01:05:02.647509Z",
     "iopub.status.busy": "2020-12-12T01:05:02.646516Z",
     "iopub.status.idle": "2020-12-12T01:05:02.670709Z",
     "shell.execute_reply": "2020-12-12T01:05:02.671214Z"
    },
    "papermill": {
     "duration": 0.0795,
     "end_time": "2020-12-12T01:05:02.671351",
     "exception": false,
     "start_time": "2020-12-12T01:05:02.591851",
     "status": "completed"
    },
    "tags": []
   },
   "outputs": [
    {
     "data": {
      "text/html": [
       "<div>\n",
       "<style scoped>\n",
       "    .dataframe tbody tr th:only-of-type {\n",
       "        vertical-align: middle;\n",
       "    }\n",
       "\n",
       "    .dataframe tbody tr th {\n",
       "        vertical-align: top;\n",
       "    }\n",
       "\n",
       "    .dataframe thead th {\n",
       "        text-align: right;\n",
       "    }\n",
       "</style>\n",
       "<table border=\"1\" class=\"dataframe\">\n",
       "  <thead>\n",
       "    <tr style=\"text-align: right;\">\n",
       "      <th></th>\n",
       "      <th>id</th>\n",
       "      <th>idademae</th>\n",
       "      <th>estadocivilmae</th>\n",
       "      <th>catprenatal</th>\n",
       "      <th>qtdsemanas</th>\n",
       "      <th>tipoparto</th>\n",
       "      <th>peso</th>\n",
       "      <th>malformacao</th>\n",
       "      <th>sexo</th>\n",
       "      <th>apgar1</th>\n",
       "      <th>apgar5</th>\n",
       "      <th>obito</th>\n",
       "      <th>estadocivil_casada</th>\n",
       "      <th>estadocivil_separada</th>\n",
       "      <th>estadocivil_solteira</th>\n",
       "      <th>estadocivil_uniao</th>\n",
       "      <th>estadocivil_viuva</th>\n",
       "    </tr>\n",
       "  </thead>\n",
       "  <tbody>\n",
       "    <tr>\n",
       "      <th>0</th>\n",
       "      <td>2708</td>\n",
       "      <td>13.0</td>\n",
       "      <td>solteira</td>\n",
       "      <td>de4a6</td>\n",
       "      <td>36.0</td>\n",
       "      <td>vaginal</td>\n",
       "      <td>2440.0</td>\n",
       "      <td>nao</td>\n",
       "      <td>f</td>\n",
       "      <td>9.0</td>\n",
       "      <td>10.0</td>\n",
       "      <td>0</td>\n",
       "      <td>0</td>\n",
       "      <td>0</td>\n",
       "      <td>1</td>\n",
       "      <td>0</td>\n",
       "      <td>0</td>\n",
       "    </tr>\n",
       "    <tr>\n",
       "      <th>1</th>\n",
       "      <td>14097</td>\n",
       "      <td>25.0</td>\n",
       "      <td>casada</td>\n",
       "      <td>7mais</td>\n",
       "      <td>39.0</td>\n",
       "      <td>cesareo</td>\n",
       "      <td>2850.0</td>\n",
       "      <td>nao</td>\n",
       "      <td>f</td>\n",
       "      <td>9.0</td>\n",
       "      <td>10.0</td>\n",
       "      <td>0</td>\n",
       "      <td>1</td>\n",
       "      <td>0</td>\n",
       "      <td>0</td>\n",
       "      <td>0</td>\n",
       "      <td>0</td>\n",
       "    </tr>\n",
       "    <tr>\n",
       "      <th>2</th>\n",
       "      <td>5360</td>\n",
       "      <td>27.0</td>\n",
       "      <td>solteira</td>\n",
       "      <td>7mais</td>\n",
       "      <td>38.0</td>\n",
       "      <td>cesareo</td>\n",
       "      <td>3350.0</td>\n",
       "      <td>nao</td>\n",
       "      <td>f</td>\n",
       "      <td>9.0</td>\n",
       "      <td>10.0</td>\n",
       "      <td>0</td>\n",
       "      <td>0</td>\n",
       "      <td>0</td>\n",
       "      <td>1</td>\n",
       "      <td>0</td>\n",
       "      <td>0</td>\n",
       "    </tr>\n",
       "    <tr>\n",
       "      <th>3</th>\n",
       "      <td>15902</td>\n",
       "      <td>28.0</td>\n",
       "      <td>solteira</td>\n",
       "      <td>7mais</td>\n",
       "      <td>41.0</td>\n",
       "      <td>vaginal</td>\n",
       "      <td>3065.0</td>\n",
       "      <td>nao</td>\n",
       "      <td>m</td>\n",
       "      <td>8.0</td>\n",
       "      <td>9.0</td>\n",
       "      <td>0</td>\n",
       "      <td>0</td>\n",
       "      <td>0</td>\n",
       "      <td>1</td>\n",
       "      <td>0</td>\n",
       "      <td>0</td>\n",
       "    </tr>\n",
       "    <tr>\n",
       "      <th>4</th>\n",
       "      <td>8985</td>\n",
       "      <td>21.0</td>\n",
       "      <td>solteira</td>\n",
       "      <td>de4a6</td>\n",
       "      <td>39.0</td>\n",
       "      <td>cesareo</td>\n",
       "      <td>3085.0</td>\n",
       "      <td>nao</td>\n",
       "      <td>f</td>\n",
       "      <td>8.0</td>\n",
       "      <td>9.0</td>\n",
       "      <td>0</td>\n",
       "      <td>0</td>\n",
       "      <td>0</td>\n",
       "      <td>1</td>\n",
       "      <td>0</td>\n",
       "      <td>0</td>\n",
       "    </tr>\n",
       "  </tbody>\n",
       "</table>\n",
       "</div>"
      ],
      "text/plain": [
       "      id  idademae estadocivilmae catprenatal  qtdsemanas tipoparto    peso  \\\n",
       "0   2708      13.0       solteira       de4a6        36.0   vaginal  2440.0   \n",
       "1  14097      25.0         casada       7mais        39.0   cesareo  2850.0   \n",
       "2   5360      27.0       solteira       7mais        38.0   cesareo  3350.0   \n",
       "3  15902      28.0       solteira       7mais        41.0   vaginal  3065.0   \n",
       "4   8985      21.0       solteira       de4a6        39.0   cesareo  3085.0   \n",
       "\n",
       "  malformacao sexo  apgar1  apgar5  obito  estadocivil_casada  \\\n",
       "0         nao    f     9.0    10.0      0                   0   \n",
       "1         nao    f     9.0    10.0      0                   1   \n",
       "2         nao    f     9.0    10.0      0                   0   \n",
       "3         nao    m     8.0     9.0      0                   0   \n",
       "4         nao    f     8.0     9.0      0                   0   \n",
       "\n",
       "   estadocivil_separada  estadocivil_solteira  estadocivil_uniao  \\\n",
       "0                     0                     1                  0   \n",
       "1                     0                     0                  0   \n",
       "2                     0                     1                  0   \n",
       "3                     0                     1                  0   \n",
       "4                     0                     1                  0   \n",
       "\n",
       "   estadocivil_viuva  \n",
       "0                  0  \n",
       "1                  0  \n",
       "2                  0  \n",
       "3                  0  \n",
       "4                  0  "
      ]
     },
     "execution_count": 16,
     "metadata": {},
     "output_type": "execute_result"
    }
   ],
   "source": [
    "# transformando estadocivilmae\n",
    "dados = dados.assign(**pd.get_dummies(dados['estadocivilmae'], prefix='estadocivil'))\n",
    "dados.head()"
   ]
  },
  {
   "cell_type": "code",
   "execution_count": 17,
   "metadata": {
    "execution": {
     "iopub.execute_input": "2020-12-12T01:05:02.775301Z",
     "iopub.status.busy": "2020-12-12T01:05:02.774704Z",
     "iopub.status.idle": "2020-12-12T01:05:02.797935Z",
     "shell.execute_reply": "2020-12-12T01:05:02.797381Z"
    },
    "papermill": {
     "duration": 0.076016,
     "end_time": "2020-12-12T01:05:02.798053",
     "exception": false,
     "start_time": "2020-12-12T01:05:02.722037",
     "status": "completed"
    },
    "tags": []
   },
   "outputs": [
    {
     "data": {
      "text/html": [
       "<div>\n",
       "<style scoped>\n",
       "    .dataframe tbody tr th:only-of-type {\n",
       "        vertical-align: middle;\n",
       "    }\n",
       "\n",
       "    .dataframe tbody tr th {\n",
       "        vertical-align: top;\n",
       "    }\n",
       "\n",
       "    .dataframe thead th {\n",
       "        text-align: right;\n",
       "    }\n",
       "</style>\n",
       "<table border=\"1\" class=\"dataframe\">\n",
       "  <thead>\n",
       "    <tr style=\"text-align: right;\">\n",
       "      <th></th>\n",
       "      <th>id</th>\n",
       "      <th>idademae</th>\n",
       "      <th>estadocivilmae</th>\n",
       "      <th>catprenatal</th>\n",
       "      <th>qtdsemanas</th>\n",
       "      <th>tipoparto</th>\n",
       "      <th>peso</th>\n",
       "      <th>malformacao</th>\n",
       "      <th>sexo</th>\n",
       "      <th>apgar1</th>\n",
       "      <th>apgar5</th>\n",
       "      <th>obito</th>\n",
       "      <th>estadocivil_casada</th>\n",
       "      <th>estadocivil_separada</th>\n",
       "      <th>estadocivil_solteira</th>\n",
       "      <th>estadocivil_uniao</th>\n",
       "      <th>estadocivil_viuva</th>\n",
       "      <th>binario_sexo</th>\n",
       "    </tr>\n",
       "  </thead>\n",
       "  <tbody>\n",
       "    <tr>\n",
       "      <th>0</th>\n",
       "      <td>2708</td>\n",
       "      <td>13.0</td>\n",
       "      <td>solteira</td>\n",
       "      <td>de4a6</td>\n",
       "      <td>36.0</td>\n",
       "      <td>vaginal</td>\n",
       "      <td>2440.0</td>\n",
       "      <td>nao</td>\n",
       "      <td>f</td>\n",
       "      <td>9.0</td>\n",
       "      <td>10.0</td>\n",
       "      <td>0</td>\n",
       "      <td>0</td>\n",
       "      <td>0</td>\n",
       "      <td>1</td>\n",
       "      <td>0</td>\n",
       "      <td>0</td>\n",
       "      <td>0.0</td>\n",
       "    </tr>\n",
       "    <tr>\n",
       "      <th>1</th>\n",
       "      <td>14097</td>\n",
       "      <td>25.0</td>\n",
       "      <td>casada</td>\n",
       "      <td>7mais</td>\n",
       "      <td>39.0</td>\n",
       "      <td>cesareo</td>\n",
       "      <td>2850.0</td>\n",
       "      <td>nao</td>\n",
       "      <td>f</td>\n",
       "      <td>9.0</td>\n",
       "      <td>10.0</td>\n",
       "      <td>0</td>\n",
       "      <td>1</td>\n",
       "      <td>0</td>\n",
       "      <td>0</td>\n",
       "      <td>0</td>\n",
       "      <td>0</td>\n",
       "      <td>0.0</td>\n",
       "    </tr>\n",
       "    <tr>\n",
       "      <th>2</th>\n",
       "      <td>5360</td>\n",
       "      <td>27.0</td>\n",
       "      <td>solteira</td>\n",
       "      <td>7mais</td>\n",
       "      <td>38.0</td>\n",
       "      <td>cesareo</td>\n",
       "      <td>3350.0</td>\n",
       "      <td>nao</td>\n",
       "      <td>f</td>\n",
       "      <td>9.0</td>\n",
       "      <td>10.0</td>\n",
       "      <td>0</td>\n",
       "      <td>0</td>\n",
       "      <td>0</td>\n",
       "      <td>1</td>\n",
       "      <td>0</td>\n",
       "      <td>0</td>\n",
       "      <td>0.0</td>\n",
       "    </tr>\n",
       "    <tr>\n",
       "      <th>3</th>\n",
       "      <td>15902</td>\n",
       "      <td>28.0</td>\n",
       "      <td>solteira</td>\n",
       "      <td>7mais</td>\n",
       "      <td>41.0</td>\n",
       "      <td>vaginal</td>\n",
       "      <td>3065.0</td>\n",
       "      <td>nao</td>\n",
       "      <td>m</td>\n",
       "      <td>8.0</td>\n",
       "      <td>9.0</td>\n",
       "      <td>0</td>\n",
       "      <td>0</td>\n",
       "      <td>0</td>\n",
       "      <td>1</td>\n",
       "      <td>0</td>\n",
       "      <td>0</td>\n",
       "      <td>1.0</td>\n",
       "    </tr>\n",
       "    <tr>\n",
       "      <th>4</th>\n",
       "      <td>8985</td>\n",
       "      <td>21.0</td>\n",
       "      <td>solteira</td>\n",
       "      <td>de4a6</td>\n",
       "      <td>39.0</td>\n",
       "      <td>cesareo</td>\n",
       "      <td>3085.0</td>\n",
       "      <td>nao</td>\n",
       "      <td>f</td>\n",
       "      <td>8.0</td>\n",
       "      <td>9.0</td>\n",
       "      <td>0</td>\n",
       "      <td>0</td>\n",
       "      <td>0</td>\n",
       "      <td>1</td>\n",
       "      <td>0</td>\n",
       "      <td>0</td>\n",
       "      <td>0.0</td>\n",
       "    </tr>\n",
       "  </tbody>\n",
       "</table>\n",
       "</div>"
      ],
      "text/plain": [
       "      id  idademae estadocivilmae catprenatal  qtdsemanas tipoparto    peso  \\\n",
       "0   2708      13.0       solteira       de4a6        36.0   vaginal  2440.0   \n",
       "1  14097      25.0         casada       7mais        39.0   cesareo  2850.0   \n",
       "2   5360      27.0       solteira       7mais        38.0   cesareo  3350.0   \n",
       "3  15902      28.0       solteira       7mais        41.0   vaginal  3065.0   \n",
       "4   8985      21.0       solteira       de4a6        39.0   cesareo  3085.0   \n",
       "\n",
       "  malformacao sexo  apgar1  apgar5  obito  estadocivil_casada  \\\n",
       "0         nao    f     9.0    10.0      0                   0   \n",
       "1         nao    f     9.0    10.0      0                   1   \n",
       "2         nao    f     9.0    10.0      0                   0   \n",
       "3         nao    m     8.0     9.0      0                   0   \n",
       "4         nao    f     8.0     9.0      0                   0   \n",
       "\n",
       "   estadocivil_separada  estadocivil_solteira  estadocivil_uniao  \\\n",
       "0                     0                     1                  0   \n",
       "1                     0                     0                  0   \n",
       "2                     0                     1                  0   \n",
       "3                     0                     1                  0   \n",
       "4                     0                     1                  0   \n",
       "\n",
       "   estadocivil_viuva  binario_sexo  \n",
       "0                  0           0.0  \n",
       "1                  0           0.0  \n",
       "2                  0           0.0  \n",
       "3                  0           1.0  \n",
       "4                  0           0.0  "
      ]
     },
     "execution_count": 17,
     "metadata": {},
     "output_type": "execute_result"
    }
   ],
   "source": [
    "# transformando sexo\n",
    "dados['binario_sexo'] = dados['sexo'].map({'f': 0, 'm': 1}, na_action='ignore')\n",
    "dados.head()"
   ]
  },
  {
   "cell_type": "code",
   "execution_count": 18,
   "metadata": {
    "execution": {
     "iopub.execute_input": "2020-12-12T01:05:02.923990Z",
     "iopub.status.busy": "2020-12-12T01:05:02.910116Z",
     "iopub.status.idle": "2020-12-12T01:05:02.927826Z",
     "shell.execute_reply": "2020-12-12T01:05:02.927175Z"
    },
    "papermill": {
     "duration": 0.077759,
     "end_time": "2020-12-12T01:05:02.927937",
     "exception": false,
     "start_time": "2020-12-12T01:05:02.850178",
     "status": "completed"
    },
    "tags": []
   },
   "outputs": [
    {
     "data": {
      "text/html": [
       "<div>\n",
       "<style scoped>\n",
       "    .dataframe tbody tr th:only-of-type {\n",
       "        vertical-align: middle;\n",
       "    }\n",
       "\n",
       "    .dataframe tbody tr th {\n",
       "        vertical-align: top;\n",
       "    }\n",
       "\n",
       "    .dataframe thead th {\n",
       "        text-align: right;\n",
       "    }\n",
       "</style>\n",
       "<table border=\"1\" class=\"dataframe\">\n",
       "  <thead>\n",
       "    <tr style=\"text-align: right;\">\n",
       "      <th></th>\n",
       "      <th>id</th>\n",
       "      <th>idademae</th>\n",
       "      <th>estadocivilmae</th>\n",
       "      <th>catprenatal</th>\n",
       "      <th>qtdsemanas</th>\n",
       "      <th>tipoparto</th>\n",
       "      <th>peso</th>\n",
       "      <th>malformacao</th>\n",
       "      <th>sexo</th>\n",
       "      <th>apgar1</th>\n",
       "      <th>apgar5</th>\n",
       "      <th>obito</th>\n",
       "      <th>estadocivil_casada</th>\n",
       "      <th>estadocivil_separada</th>\n",
       "      <th>estadocivil_solteira</th>\n",
       "      <th>estadocivil_uniao</th>\n",
       "      <th>estadocivil_viuva</th>\n",
       "      <th>binario_sexo</th>\n",
       "      <th>binario_tipoparto</th>\n",
       "    </tr>\n",
       "  </thead>\n",
       "  <tbody>\n",
       "    <tr>\n",
       "      <th>0</th>\n",
       "      <td>2708</td>\n",
       "      <td>13.0</td>\n",
       "      <td>solteira</td>\n",
       "      <td>de4a6</td>\n",
       "      <td>36.0</td>\n",
       "      <td>vaginal</td>\n",
       "      <td>2440.0</td>\n",
       "      <td>nao</td>\n",
       "      <td>f</td>\n",
       "      <td>9.0</td>\n",
       "      <td>10.0</td>\n",
       "      <td>0</td>\n",
       "      <td>0</td>\n",
       "      <td>0</td>\n",
       "      <td>1</td>\n",
       "      <td>0</td>\n",
       "      <td>0</td>\n",
       "      <td>0.0</td>\n",
       "      <td>0.0</td>\n",
       "    </tr>\n",
       "    <tr>\n",
       "      <th>1</th>\n",
       "      <td>14097</td>\n",
       "      <td>25.0</td>\n",
       "      <td>casada</td>\n",
       "      <td>7mais</td>\n",
       "      <td>39.0</td>\n",
       "      <td>cesareo</td>\n",
       "      <td>2850.0</td>\n",
       "      <td>nao</td>\n",
       "      <td>f</td>\n",
       "      <td>9.0</td>\n",
       "      <td>10.0</td>\n",
       "      <td>0</td>\n",
       "      <td>1</td>\n",
       "      <td>0</td>\n",
       "      <td>0</td>\n",
       "      <td>0</td>\n",
       "      <td>0</td>\n",
       "      <td>0.0</td>\n",
       "      <td>1.0</td>\n",
       "    </tr>\n",
       "    <tr>\n",
       "      <th>2</th>\n",
       "      <td>5360</td>\n",
       "      <td>27.0</td>\n",
       "      <td>solteira</td>\n",
       "      <td>7mais</td>\n",
       "      <td>38.0</td>\n",
       "      <td>cesareo</td>\n",
       "      <td>3350.0</td>\n",
       "      <td>nao</td>\n",
       "      <td>f</td>\n",
       "      <td>9.0</td>\n",
       "      <td>10.0</td>\n",
       "      <td>0</td>\n",
       "      <td>0</td>\n",
       "      <td>0</td>\n",
       "      <td>1</td>\n",
       "      <td>0</td>\n",
       "      <td>0</td>\n",
       "      <td>0.0</td>\n",
       "      <td>1.0</td>\n",
       "    </tr>\n",
       "    <tr>\n",
       "      <th>3</th>\n",
       "      <td>15902</td>\n",
       "      <td>28.0</td>\n",
       "      <td>solteira</td>\n",
       "      <td>7mais</td>\n",
       "      <td>41.0</td>\n",
       "      <td>vaginal</td>\n",
       "      <td>3065.0</td>\n",
       "      <td>nao</td>\n",
       "      <td>m</td>\n",
       "      <td>8.0</td>\n",
       "      <td>9.0</td>\n",
       "      <td>0</td>\n",
       "      <td>0</td>\n",
       "      <td>0</td>\n",
       "      <td>1</td>\n",
       "      <td>0</td>\n",
       "      <td>0</td>\n",
       "      <td>1.0</td>\n",
       "      <td>0.0</td>\n",
       "    </tr>\n",
       "    <tr>\n",
       "      <th>4</th>\n",
       "      <td>8985</td>\n",
       "      <td>21.0</td>\n",
       "      <td>solteira</td>\n",
       "      <td>de4a6</td>\n",
       "      <td>39.0</td>\n",
       "      <td>cesareo</td>\n",
       "      <td>3085.0</td>\n",
       "      <td>nao</td>\n",
       "      <td>f</td>\n",
       "      <td>8.0</td>\n",
       "      <td>9.0</td>\n",
       "      <td>0</td>\n",
       "      <td>0</td>\n",
       "      <td>0</td>\n",
       "      <td>1</td>\n",
       "      <td>0</td>\n",
       "      <td>0</td>\n",
       "      <td>0.0</td>\n",
       "      <td>1.0</td>\n",
       "    </tr>\n",
       "  </tbody>\n",
       "</table>\n",
       "</div>"
      ],
      "text/plain": [
       "      id  idademae estadocivilmae catprenatal  qtdsemanas tipoparto    peso  \\\n",
       "0   2708      13.0       solteira       de4a6        36.0   vaginal  2440.0   \n",
       "1  14097      25.0         casada       7mais        39.0   cesareo  2850.0   \n",
       "2   5360      27.0       solteira       7mais        38.0   cesareo  3350.0   \n",
       "3  15902      28.0       solteira       7mais        41.0   vaginal  3065.0   \n",
       "4   8985      21.0       solteira       de4a6        39.0   cesareo  3085.0   \n",
       "\n",
       "  malformacao sexo  apgar1  apgar5  obito  estadocivil_casada  \\\n",
       "0         nao    f     9.0    10.0      0                   0   \n",
       "1         nao    f     9.0    10.0      0                   1   \n",
       "2         nao    f     9.0    10.0      0                   0   \n",
       "3         nao    m     8.0     9.0      0                   0   \n",
       "4         nao    f     8.0     9.0      0                   0   \n",
       "\n",
       "   estadocivil_separada  estadocivil_solteira  estadocivil_uniao  \\\n",
       "0                     0                     1                  0   \n",
       "1                     0                     0                  0   \n",
       "2                     0                     1                  0   \n",
       "3                     0                     1                  0   \n",
       "4                     0                     1                  0   \n",
       "\n",
       "   estadocivil_viuva  binario_sexo  binario_tipoparto  \n",
       "0                  0           0.0                0.0  \n",
       "1                  0           0.0                1.0  \n",
       "2                  0           0.0                1.0  \n",
       "3                  0           1.0                0.0  \n",
       "4                  0           0.0                1.0  "
      ]
     },
     "execution_count": 18,
     "metadata": {},
     "output_type": "execute_result"
    }
   ],
   "source": [
    "# transformando tipoparto\n",
    "dados['binario_tipoparto'] = dados['tipoparto'].map({'vaginal': 0, 'cesareo': 1}, na_action='ignore')\n",
    "dados.head()"
   ]
  },
  {
   "cell_type": "code",
   "execution_count": 19,
   "metadata": {
    "execution": {
     "iopub.execute_input": "2020-12-12T01:05:03.071324Z",
     "iopub.status.busy": "2020-12-12T01:05:03.070480Z",
     "iopub.status.idle": "2020-12-12T01:05:03.112810Z",
     "shell.execute_reply": "2020-12-12T01:05:03.112191Z"
    },
    "papermill": {
     "duration": 0.116069,
     "end_time": "2020-12-12T01:05:03.112975",
     "exception": false,
     "start_time": "2020-12-12T01:05:02.996906",
     "status": "completed"
    },
    "tags": []
   },
   "outputs": [
    {
     "data": {
      "text/html": [
       "<div>\n",
       "<style scoped>\n",
       "    .dataframe tbody tr th:only-of-type {\n",
       "        vertical-align: middle;\n",
       "    }\n",
       "\n",
       "    .dataframe tbody tr th {\n",
       "        vertical-align: top;\n",
       "    }\n",
       "\n",
       "    .dataframe thead th {\n",
       "        text-align: right;\n",
       "    }\n",
       "</style>\n",
       "<table border=\"1\" class=\"dataframe\">\n",
       "  <thead>\n",
       "    <tr style=\"text-align: right;\">\n",
       "      <th></th>\n",
       "      <th>id</th>\n",
       "      <th>idademae</th>\n",
       "      <th>estadocivilmae</th>\n",
       "      <th>catprenatal</th>\n",
       "      <th>qtdsemanas</th>\n",
       "      <th>tipoparto</th>\n",
       "      <th>peso</th>\n",
       "      <th>malformacao</th>\n",
       "      <th>sexo</th>\n",
       "      <th>apgar1</th>\n",
       "      <th>apgar5</th>\n",
       "      <th>obito</th>\n",
       "      <th>estadocivil_casada</th>\n",
       "      <th>estadocivil_separada</th>\n",
       "      <th>estadocivil_solteira</th>\n",
       "      <th>estadocivil_uniao</th>\n",
       "      <th>estadocivil_viuva</th>\n",
       "      <th>binario_sexo</th>\n",
       "      <th>binario_tipoparto</th>\n",
       "      <th>binario_malformacao</th>\n",
       "    </tr>\n",
       "  </thead>\n",
       "  <tbody>\n",
       "    <tr>\n",
       "      <th>0</th>\n",
       "      <td>2708</td>\n",
       "      <td>13.0</td>\n",
       "      <td>solteira</td>\n",
       "      <td>de4a6</td>\n",
       "      <td>36.0</td>\n",
       "      <td>vaginal</td>\n",
       "      <td>2440.0</td>\n",
       "      <td>nao</td>\n",
       "      <td>f</td>\n",
       "      <td>9.0</td>\n",
       "      <td>10.0</td>\n",
       "      <td>0</td>\n",
       "      <td>0</td>\n",
       "      <td>0</td>\n",
       "      <td>1</td>\n",
       "      <td>0</td>\n",
       "      <td>0</td>\n",
       "      <td>0.0</td>\n",
       "      <td>0.0</td>\n",
       "      <td>0.0</td>\n",
       "    </tr>\n",
       "    <tr>\n",
       "      <th>1</th>\n",
       "      <td>14097</td>\n",
       "      <td>25.0</td>\n",
       "      <td>casada</td>\n",
       "      <td>7mais</td>\n",
       "      <td>39.0</td>\n",
       "      <td>cesareo</td>\n",
       "      <td>2850.0</td>\n",
       "      <td>nao</td>\n",
       "      <td>f</td>\n",
       "      <td>9.0</td>\n",
       "      <td>10.0</td>\n",
       "      <td>0</td>\n",
       "      <td>1</td>\n",
       "      <td>0</td>\n",
       "      <td>0</td>\n",
       "      <td>0</td>\n",
       "      <td>0</td>\n",
       "      <td>0.0</td>\n",
       "      <td>1.0</td>\n",
       "      <td>0.0</td>\n",
       "    </tr>\n",
       "    <tr>\n",
       "      <th>2</th>\n",
       "      <td>5360</td>\n",
       "      <td>27.0</td>\n",
       "      <td>solteira</td>\n",
       "      <td>7mais</td>\n",
       "      <td>38.0</td>\n",
       "      <td>cesareo</td>\n",
       "      <td>3350.0</td>\n",
       "      <td>nao</td>\n",
       "      <td>f</td>\n",
       "      <td>9.0</td>\n",
       "      <td>10.0</td>\n",
       "      <td>0</td>\n",
       "      <td>0</td>\n",
       "      <td>0</td>\n",
       "      <td>1</td>\n",
       "      <td>0</td>\n",
       "      <td>0</td>\n",
       "      <td>0.0</td>\n",
       "      <td>1.0</td>\n",
       "      <td>0.0</td>\n",
       "    </tr>\n",
       "    <tr>\n",
       "      <th>3</th>\n",
       "      <td>15902</td>\n",
       "      <td>28.0</td>\n",
       "      <td>solteira</td>\n",
       "      <td>7mais</td>\n",
       "      <td>41.0</td>\n",
       "      <td>vaginal</td>\n",
       "      <td>3065.0</td>\n",
       "      <td>nao</td>\n",
       "      <td>m</td>\n",
       "      <td>8.0</td>\n",
       "      <td>9.0</td>\n",
       "      <td>0</td>\n",
       "      <td>0</td>\n",
       "      <td>0</td>\n",
       "      <td>1</td>\n",
       "      <td>0</td>\n",
       "      <td>0</td>\n",
       "      <td>1.0</td>\n",
       "      <td>0.0</td>\n",
       "      <td>0.0</td>\n",
       "    </tr>\n",
       "    <tr>\n",
       "      <th>4</th>\n",
       "      <td>8985</td>\n",
       "      <td>21.0</td>\n",
       "      <td>solteira</td>\n",
       "      <td>de4a6</td>\n",
       "      <td>39.0</td>\n",
       "      <td>cesareo</td>\n",
       "      <td>3085.0</td>\n",
       "      <td>nao</td>\n",
       "      <td>f</td>\n",
       "      <td>8.0</td>\n",
       "      <td>9.0</td>\n",
       "      <td>0</td>\n",
       "      <td>0</td>\n",
       "      <td>0</td>\n",
       "      <td>1</td>\n",
       "      <td>0</td>\n",
       "      <td>0</td>\n",
       "      <td>0.0</td>\n",
       "      <td>1.0</td>\n",
       "      <td>0.0</td>\n",
       "    </tr>\n",
       "  </tbody>\n",
       "</table>\n",
       "</div>"
      ],
      "text/plain": [
       "      id  idademae estadocivilmae catprenatal  qtdsemanas tipoparto    peso  \\\n",
       "0   2708      13.0       solteira       de4a6        36.0   vaginal  2440.0   \n",
       "1  14097      25.0         casada       7mais        39.0   cesareo  2850.0   \n",
       "2   5360      27.0       solteira       7mais        38.0   cesareo  3350.0   \n",
       "3  15902      28.0       solteira       7mais        41.0   vaginal  3065.0   \n",
       "4   8985      21.0       solteira       de4a6        39.0   cesareo  3085.0   \n",
       "\n",
       "  malformacao sexo  apgar1  apgar5  obito  estadocivil_casada  \\\n",
       "0         nao    f     9.0    10.0      0                   0   \n",
       "1         nao    f     9.0    10.0      0                   1   \n",
       "2         nao    f     9.0    10.0      0                   0   \n",
       "3         nao    m     8.0     9.0      0                   0   \n",
       "4         nao    f     8.0     9.0      0                   0   \n",
       "\n",
       "   estadocivil_separada  estadocivil_solteira  estadocivil_uniao  \\\n",
       "0                     0                     1                  0   \n",
       "1                     0                     0                  0   \n",
       "2                     0                     1                  0   \n",
       "3                     0                     1                  0   \n",
       "4                     0                     1                  0   \n",
       "\n",
       "   estadocivil_viuva  binario_sexo  binario_tipoparto  binario_malformacao  \n",
       "0                  0           0.0                0.0                  0.0  \n",
       "1                  0           0.0                1.0                  0.0  \n",
       "2                  0           0.0                1.0                  0.0  \n",
       "3                  0           1.0                0.0                  0.0  \n",
       "4                  0           0.0                1.0                  0.0  "
      ]
     },
     "execution_count": 19,
     "metadata": {},
     "output_type": "execute_result"
    }
   ],
   "source": [
    "# transformando malformacao\n",
    "dados['binario_malformacao'] = dados['malformacao'].map({'nao': 0, 'sim': 1}, na_action='ignore')\n",
    "dados.head()"
   ]
  },
  {
   "cell_type": "markdown",
   "metadata": {
    "papermill": {
     "duration": 0.056751,
     "end_time": "2020-12-12T01:05:03.244930",
     "exception": false,
     "start_time": "2020-12-12T01:05:03.188179",
     "status": "completed"
    },
    "tags": []
   },
   "source": [
    "Relembrando:  \n",
    "    \n",
    "`catprenatal`: Quantidade de Consultas pré-natal realizadas pela mãe   \n",
    "   \n",
    "Portanto essa variável é categórica **ordinal**, ou seja, a ordem aqui importa, pois `nenhuma` < `de1a3` < `de4a6` < `7mais`.    \n",
    "Precisamos levar isso em consideração na hora de transformar."
   ]
  },
  {
   "cell_type": "code",
   "execution_count": 20,
   "metadata": {
    "execution": {
     "iopub.execute_input": "2020-12-12T01:05:03.386180Z",
     "iopub.status.busy": "2020-12-12T01:05:03.385220Z",
     "iopub.status.idle": "2020-12-12T01:05:03.423470Z",
     "shell.execute_reply": "2020-12-12T01:05:03.422453Z"
    },
    "papermill": {
     "duration": 0.103596,
     "end_time": "2020-12-12T01:05:03.423682",
     "exception": false,
     "start_time": "2020-12-12T01:05:03.320086",
     "status": "completed"
    },
    "tags": []
   },
   "outputs": [
    {
     "data": {
      "text/html": [
       "<div>\n",
       "<style scoped>\n",
       "    .dataframe tbody tr th:only-of-type {\n",
       "        vertical-align: middle;\n",
       "    }\n",
       "\n",
       "    .dataframe tbody tr th {\n",
       "        vertical-align: top;\n",
       "    }\n",
       "\n",
       "    .dataframe thead th {\n",
       "        text-align: right;\n",
       "    }\n",
       "</style>\n",
       "<table border=\"1\" class=\"dataframe\">\n",
       "  <thead>\n",
       "    <tr style=\"text-align: right;\">\n",
       "      <th></th>\n",
       "      <th>id</th>\n",
       "      <th>idademae</th>\n",
       "      <th>estadocivilmae</th>\n",
       "      <th>catprenatal</th>\n",
       "      <th>qtdsemanas</th>\n",
       "      <th>tipoparto</th>\n",
       "      <th>peso</th>\n",
       "      <th>malformacao</th>\n",
       "      <th>sexo</th>\n",
       "      <th>apgar1</th>\n",
       "      <th>...</th>\n",
       "      <th>obito</th>\n",
       "      <th>estadocivil_casada</th>\n",
       "      <th>estadocivil_separada</th>\n",
       "      <th>estadocivil_solteira</th>\n",
       "      <th>estadocivil_uniao</th>\n",
       "      <th>estadocivil_viuva</th>\n",
       "      <th>binario_sexo</th>\n",
       "      <th>binario_tipoparto</th>\n",
       "      <th>binario_malformacao</th>\n",
       "      <th>ord_catprenatal</th>\n",
       "    </tr>\n",
       "  </thead>\n",
       "  <tbody>\n",
       "    <tr>\n",
       "      <th>0</th>\n",
       "      <td>2708</td>\n",
       "      <td>13.0</td>\n",
       "      <td>solteira</td>\n",
       "      <td>de4a6</td>\n",
       "      <td>36.0</td>\n",
       "      <td>vaginal</td>\n",
       "      <td>2440.0</td>\n",
       "      <td>nao</td>\n",
       "      <td>f</td>\n",
       "      <td>9.0</td>\n",
       "      <td>...</td>\n",
       "      <td>0</td>\n",
       "      <td>0</td>\n",
       "      <td>0</td>\n",
       "      <td>1</td>\n",
       "      <td>0</td>\n",
       "      <td>0</td>\n",
       "      <td>0.0</td>\n",
       "      <td>0.0</td>\n",
       "      <td>0.0</td>\n",
       "      <td>2.0</td>\n",
       "    </tr>\n",
       "    <tr>\n",
       "      <th>1</th>\n",
       "      <td>14097</td>\n",
       "      <td>25.0</td>\n",
       "      <td>casada</td>\n",
       "      <td>7mais</td>\n",
       "      <td>39.0</td>\n",
       "      <td>cesareo</td>\n",
       "      <td>2850.0</td>\n",
       "      <td>nao</td>\n",
       "      <td>f</td>\n",
       "      <td>9.0</td>\n",
       "      <td>...</td>\n",
       "      <td>0</td>\n",
       "      <td>1</td>\n",
       "      <td>0</td>\n",
       "      <td>0</td>\n",
       "      <td>0</td>\n",
       "      <td>0</td>\n",
       "      <td>0.0</td>\n",
       "      <td>1.0</td>\n",
       "      <td>0.0</td>\n",
       "      <td>3.0</td>\n",
       "    </tr>\n",
       "    <tr>\n",
       "      <th>2</th>\n",
       "      <td>5360</td>\n",
       "      <td>27.0</td>\n",
       "      <td>solteira</td>\n",
       "      <td>7mais</td>\n",
       "      <td>38.0</td>\n",
       "      <td>cesareo</td>\n",
       "      <td>3350.0</td>\n",
       "      <td>nao</td>\n",
       "      <td>f</td>\n",
       "      <td>9.0</td>\n",
       "      <td>...</td>\n",
       "      <td>0</td>\n",
       "      <td>0</td>\n",
       "      <td>0</td>\n",
       "      <td>1</td>\n",
       "      <td>0</td>\n",
       "      <td>0</td>\n",
       "      <td>0.0</td>\n",
       "      <td>1.0</td>\n",
       "      <td>0.0</td>\n",
       "      <td>3.0</td>\n",
       "    </tr>\n",
       "    <tr>\n",
       "      <th>3</th>\n",
       "      <td>15902</td>\n",
       "      <td>28.0</td>\n",
       "      <td>solteira</td>\n",
       "      <td>7mais</td>\n",
       "      <td>41.0</td>\n",
       "      <td>vaginal</td>\n",
       "      <td>3065.0</td>\n",
       "      <td>nao</td>\n",
       "      <td>m</td>\n",
       "      <td>8.0</td>\n",
       "      <td>...</td>\n",
       "      <td>0</td>\n",
       "      <td>0</td>\n",
       "      <td>0</td>\n",
       "      <td>1</td>\n",
       "      <td>0</td>\n",
       "      <td>0</td>\n",
       "      <td>1.0</td>\n",
       "      <td>0.0</td>\n",
       "      <td>0.0</td>\n",
       "      <td>3.0</td>\n",
       "    </tr>\n",
       "    <tr>\n",
       "      <th>4</th>\n",
       "      <td>8985</td>\n",
       "      <td>21.0</td>\n",
       "      <td>solteira</td>\n",
       "      <td>de4a6</td>\n",
       "      <td>39.0</td>\n",
       "      <td>cesareo</td>\n",
       "      <td>3085.0</td>\n",
       "      <td>nao</td>\n",
       "      <td>f</td>\n",
       "      <td>8.0</td>\n",
       "      <td>...</td>\n",
       "      <td>0</td>\n",
       "      <td>0</td>\n",
       "      <td>0</td>\n",
       "      <td>1</td>\n",
       "      <td>0</td>\n",
       "      <td>0</td>\n",
       "      <td>0.0</td>\n",
       "      <td>1.0</td>\n",
       "      <td>0.0</td>\n",
       "      <td>2.0</td>\n",
       "    </tr>\n",
       "  </tbody>\n",
       "</table>\n",
       "<p>5 rows × 21 columns</p>\n",
       "</div>"
      ],
      "text/plain": [
       "      id  idademae estadocivilmae catprenatal  qtdsemanas tipoparto    peso  \\\n",
       "0   2708      13.0       solteira       de4a6        36.0   vaginal  2440.0   \n",
       "1  14097      25.0         casada       7mais        39.0   cesareo  2850.0   \n",
       "2   5360      27.0       solteira       7mais        38.0   cesareo  3350.0   \n",
       "3  15902      28.0       solteira       7mais        41.0   vaginal  3065.0   \n",
       "4   8985      21.0       solteira       de4a6        39.0   cesareo  3085.0   \n",
       "\n",
       "  malformacao sexo  apgar1  ...  obito  estadocivil_casada  \\\n",
       "0         nao    f     9.0  ...      0                   0   \n",
       "1         nao    f     9.0  ...      0                   1   \n",
       "2         nao    f     9.0  ...      0                   0   \n",
       "3         nao    m     8.0  ...      0                   0   \n",
       "4         nao    f     8.0  ...      0                   0   \n",
       "\n",
       "   estadocivil_separada  estadocivil_solteira  estadocivil_uniao  \\\n",
       "0                     0                     1                  0   \n",
       "1                     0                     0                  0   \n",
       "2                     0                     1                  0   \n",
       "3                     0                     1                  0   \n",
       "4                     0                     1                  0   \n",
       "\n",
       "   estadocivil_viuva  binario_sexo  binario_tipoparto  binario_malformacao  \\\n",
       "0                  0           0.0                0.0                  0.0   \n",
       "1                  0           0.0                1.0                  0.0   \n",
       "2                  0           0.0                1.0                  0.0   \n",
       "3                  0           1.0                0.0                  0.0   \n",
       "4                  0           0.0                1.0                  0.0   \n",
       "\n",
       "   ord_catprenatal  \n",
       "0              2.0  \n",
       "1              3.0  \n",
       "2              3.0  \n",
       "3              3.0  \n",
       "4              2.0  \n",
       "\n",
       "[5 rows x 21 columns]"
      ]
     },
     "execution_count": 20,
     "metadata": {},
     "output_type": "execute_result"
    }
   ],
   "source": [
    "dados['ord_catprenatal'] = dados['catprenatal'].map({'nenhuma': 0, 'de1a3': 1, 'de4a6': 2, '7mais': 3}, na_action='ignore')\n",
    "dados.head()"
   ]
  },
  {
   "cell_type": "markdown",
   "metadata": {
    "papermill": {
     "duration": 0.057175,
     "end_time": "2020-12-12T01:05:03.539876",
     "exception": false,
     "start_time": "2020-12-12T01:05:03.482701",
     "status": "completed"
    },
    "tags": []
   },
   "source": [
    "## Valores atípicos (*outliers*)\n",
    "     \n",
    "Pode acontecer de existirem valores muitos diferentes da distribuição original dos dados, que podem afetar nosso modelo."
   ]
  },
  {
   "cell_type": "code",
   "execution_count": 21,
   "metadata": {
    "execution": {
     "iopub.execute_input": "2020-12-12T01:05:03.658431Z",
     "iopub.status.busy": "2020-12-12T01:05:03.657857Z",
     "iopub.status.idle": "2020-12-12T01:05:03.923990Z",
     "shell.execute_reply": "2020-12-12T01:05:03.923087Z"
    },
    "papermill": {
     "duration": 0.3249,
     "end_time": "2020-12-12T01:05:03.924235",
     "exception": false,
     "start_time": "2020-12-12T01:05:03.599335",
     "status": "completed"
    },
    "tags": []
   },
   "outputs": [
    {
     "data": {
      "image/png": "[encoded data removed]",
      "text/plain": [
       "<Figure size 432x288 with 1 Axes>"
      ]
     },
     "metadata": {
      "needs_background": "light"
     },
     "output_type": "display_data"
    }
   ],
   "source": [
    "import seaborn as sns\n",
    "\n",
    "sns.boxplot(data=dados, x='obito', y='idademae');"
   ]
  },
  {
   "cell_type": "markdown",
   "metadata": {
    "papermill": {
     "duration": 0.054261,
     "end_time": "2020-12-12T01:05:04.033942",
     "exception": false,
     "start_time": "2020-12-12T01:05:03.979681",
     "status": "completed"
    },
    "tags": []
   },
   "source": [
    "Para esta variável, a distribuição da `idademae` é bem parecida para as duas classes, apesar da classe 0 possuir mais *outliers*."
   ]
  },
  {
   "cell_type": "code",
   "execution_count": 22,
   "metadata": {
    "execution": {
     "iopub.execute_input": "2020-12-12T01:05:04.147564Z",
     "iopub.status.busy": "2020-12-12T01:05:04.146973Z",
     "iopub.status.idle": "2020-12-12T01:05:04.264956Z",
     "shell.execute_reply": "2020-12-12T01:05:04.264285Z"
    },
    "papermill": {
     "duration": 0.177396,
     "end_time": "2020-12-12T01:05:04.265115",
     "exception": false,
     "start_time": "2020-12-12T01:05:04.087719",
     "status": "completed"
    },
    "tags": []
   },
   "outputs": [
    {
     "data": {
      "image/png": "[encoded data removed]",
      "text/plain": [
       "<Figure size 432x288 with 1 Axes>"
      ]
     },
     "metadata": {
      "needs_background": "light"
     },
     "output_type": "display_data"
    }
   ],
   "source": [
    "sns.boxplot(data=dados, x='obito', y='qtdsemanas');"
   ]
  },
  {
   "cell_type": "markdown",
   "metadata": {
    "papermill": {
     "duration": 0.053621,
     "end_time": "2020-12-12T01:05:04.373704",
     "exception": false,
     "start_time": "2020-12-12T01:05:04.320083",
     "status": "completed"
    },
    "tags": []
   },
   "source": [
    "Já para a variável `qtdsemanas`, temos uma discriminação muito maior. Veja que o 3º quartil da classe 1 é praticamente o 1º quartil da classe 0. As medianas estão muito longes. Esse pode ser um indício de que essa variável pode ser boa para o modelo.    "
   ]
  },
  {
   "cell_type": "code",
   "execution_count": 23,
   "metadata": {
    "execution": {
     "iopub.execute_input": "2020-12-12T01:05:04.491240Z",
     "iopub.status.busy": "2020-12-12T01:05:04.490262Z",
     "iopub.status.idle": "2020-12-12T01:05:04.608128Z",
     "shell.execute_reply": "2020-12-12T01:05:04.607558Z"
    },
    "papermill": {
     "duration": 0.177612,
     "end_time": "2020-12-12T01:05:04.608236",
     "exception": false,
     "start_time": "2020-12-12T01:05:04.430624",
     "status": "completed"
    },
    "tags": []
   },
   "outputs": [
    {
     "data": {
      "image/png": "[encoded data removed]",
      "text/plain": [
       "<Figure size 432x288 with 1 Axes>"
      ]
     },
     "metadata": {
      "needs_background": "light"
     },
     "output_type": "display_data"
    }
   ],
   "source": [
    "sns.boxplot(data=dados, x='obito', y='peso');"
   ]
  },
  {
   "cell_type": "markdown",
   "metadata": {
    "papermill": {
     "duration": 0.058184,
     "end_time": "2020-12-12T01:05:04.723834",
     "exception": false,
     "start_time": "2020-12-12T01:05:04.665650",
     "status": "completed"
    },
    "tags": []
   },
   "source": [
    "O peso também parece discriminar de forma clara as duas classes. Novamente, várias crianças que sobreviveram são *outliers* quanto ao `peso`."
   ]
  },
  {
   "cell_type": "markdown",
   "metadata": {
    "papermill": {
     "duration": 0.056185,
     "end_time": "2020-12-12T01:05:04.836289",
     "exception": false,
     "start_time": "2020-12-12T01:05:04.780104",
     "status": "completed"
    },
    "tags": []
   },
   "source": [
    "Podemos fazer um teste: rodar modelos com os *outliers* e modelos sem os *outliers* posteriormente.    \n",
    "Obs.: eu fiz isso porém não obtive melhoras,então não prossegui com essa abordagem."
   ]
  },
  {
   "cell_type": "code",
   "execution_count": 24,
   "metadata": {
    "execution": {
     "iopub.execute_input": "2020-12-12T01:05:04.955221Z",
     "iopub.status.busy": "2020-12-12T01:05:04.954508Z",
     "iopub.status.idle": "2020-12-12T01:05:04.973424Z",
     "shell.execute_reply": "2020-12-12T01:05:04.972605Z"
    },
    "papermill": {
     "duration": 0.080058,
     "end_time": "2020-12-12T01:05:04.973573",
     "exception": false,
     "start_time": "2020-12-12T01:05:04.893515",
     "status": "completed"
    },
    "tags": []
   },
   "outputs": [
    {
     "data": {
      "text/html": [
       "<div>\n",
       "<style scoped>\n",
       "    .dataframe tbody tr th:only-of-type {\n",
       "        vertical-align: middle;\n",
       "    }\n",
       "\n",
       "    .dataframe tbody tr th {\n",
       "        vertical-align: top;\n",
       "    }\n",
       "\n",
       "    .dataframe thead th {\n",
       "        text-align: right;\n",
       "    }\n",
       "</style>\n",
       "<table border=\"1\" class=\"dataframe\">\n",
       "  <thead>\n",
       "    <tr style=\"text-align: right;\">\n",
       "      <th></th>\n",
       "      <th>idademae</th>\n",
       "      <th>qtdsemanas</th>\n",
       "      <th>peso</th>\n",
       "      <th>apgar1</th>\n",
       "      <th>apgar5</th>\n",
       "      <th>estadocivil_casada</th>\n",
       "      <th>estadocivil_separada</th>\n",
       "      <th>estadocivil_solteira</th>\n",
       "      <th>estadocivil_uniao</th>\n",
       "      <th>binario_sexo</th>\n",
       "      <th>binario_tipoparto</th>\n",
       "      <th>binario_malformacao</th>\n",
       "      <th>ord_catprenatal</th>\n",
       "    </tr>\n",
       "  </thead>\n",
       "  <tbody>\n",
       "    <tr>\n",
       "      <th>0</th>\n",
       "      <td>13.0</td>\n",
       "      <td>36.0</td>\n",
       "      <td>2440.0</td>\n",
       "      <td>9.0</td>\n",
       "      <td>10.0</td>\n",
       "      <td>0</td>\n",
       "      <td>0</td>\n",
       "      <td>1</td>\n",
       "      <td>0</td>\n",
       "      <td>0.0</td>\n",
       "      <td>0.0</td>\n",
       "      <td>0.0</td>\n",
       "      <td>2.0</td>\n",
       "    </tr>\n",
       "    <tr>\n",
       "      <th>1</th>\n",
       "      <td>25.0</td>\n",
       "      <td>39.0</td>\n",
       "      <td>2850.0</td>\n",
       "      <td>9.0</td>\n",
       "      <td>10.0</td>\n",
       "      <td>1</td>\n",
       "      <td>0</td>\n",
       "      <td>0</td>\n",
       "      <td>0</td>\n",
       "      <td>0.0</td>\n",
       "      <td>1.0</td>\n",
       "      <td>0.0</td>\n",
       "      <td>3.0</td>\n",
       "    </tr>\n",
       "    <tr>\n",
       "      <th>2</th>\n",
       "      <td>27.0</td>\n",
       "      <td>38.0</td>\n",
       "      <td>3350.0</td>\n",
       "      <td>9.0</td>\n",
       "      <td>10.0</td>\n",
       "      <td>0</td>\n",
       "      <td>0</td>\n",
       "      <td>1</td>\n",
       "      <td>0</td>\n",
       "      <td>0.0</td>\n",
       "      <td>1.0</td>\n",
       "      <td>0.0</td>\n",
       "      <td>3.0</td>\n",
       "    </tr>\n",
       "    <tr>\n",
       "      <th>3</th>\n",
       "      <td>28.0</td>\n",
       "      <td>41.0</td>\n",
       "      <td>3065.0</td>\n",
       "      <td>8.0</td>\n",
       "      <td>9.0</td>\n",
       "      <td>0</td>\n",
       "      <td>0</td>\n",
       "      <td>1</td>\n",
       "      <td>0</td>\n",
       "      <td>1.0</td>\n",
       "      <td>0.0</td>\n",
       "      <td>0.0</td>\n",
       "      <td>3.0</td>\n",
       "    </tr>\n",
       "    <tr>\n",
       "      <th>4</th>\n",
       "      <td>21.0</td>\n",
       "      <td>39.0</td>\n",
       "      <td>3085.0</td>\n",
       "      <td>8.0</td>\n",
       "      <td>9.0</td>\n",
       "      <td>0</td>\n",
       "      <td>0</td>\n",
       "      <td>1</td>\n",
       "      <td>0</td>\n",
       "      <td>0.0</td>\n",
       "      <td>1.0</td>\n",
       "      <td>0.0</td>\n",
       "      <td>2.0</td>\n",
       "    </tr>\n",
       "  </tbody>\n",
       "</table>\n",
       "</div>"
      ],
      "text/plain": [
       "   idademae  qtdsemanas    peso  apgar1  apgar5  estadocivil_casada  \\\n",
       "0      13.0        36.0  2440.0     9.0    10.0                   0   \n",
       "1      25.0        39.0  2850.0     9.0    10.0                   1   \n",
       "2      27.0        38.0  3350.0     9.0    10.0                   0   \n",
       "3      28.0        41.0  3065.0     8.0     9.0                   0   \n",
       "4      21.0        39.0  3085.0     8.0     9.0                   0   \n",
       "\n",
       "   estadocivil_separada  estadocivil_solteira  estadocivil_uniao  \\\n",
       "0                     0                     1                  0   \n",
       "1                     0                     0                  0   \n",
       "2                     0                     1                  0   \n",
       "3                     0                     1                  0   \n",
       "4                     0                     1                  0   \n",
       "\n",
       "   binario_sexo  binario_tipoparto  binario_malformacao  ord_catprenatal  \n",
       "0           0.0                0.0                  0.0              2.0  \n",
       "1           0.0                1.0                  0.0              3.0  \n",
       "2           0.0                1.0                  0.0              3.0  \n",
       "3           1.0                0.0                  0.0              3.0  \n",
       "4           0.0                1.0                  0.0              2.0  "
      ]
     },
     "execution_count": 24,
     "metadata": {},
     "output_type": "execute_result"
    }
   ],
   "source": [
    "# temos pouquíssima observações de \"viúvas\", então vou eliminar essa feature\n",
    "# separando X e y\n",
    "X = dados.drop(['id', 'estadocivilmae', 'catprenatal', 'tipoparto', 'sexo', 'malformacao', 'obito', 'estadocivil_viuva'], axis=1)\n",
    "y = dados['obito']\n",
    "\n",
    "X.head()"
   ]
  },
  {
   "cell_type": "markdown",
   "metadata": {
    "papermill": {
     "duration": 0.058885,
     "end_time": "2020-12-12T01:05:05.089413",
     "exception": false,
     "start_time": "2020-12-12T01:05:05.030528",
     "status": "completed"
    },
    "tags": []
   },
   "source": [
    "## Treinamento"
   ]
  },
  {
   "cell_type": "markdown",
   "metadata": {
    "papermill": {
     "duration": 0.057403,
     "end_time": "2020-12-12T01:05:05.206071",
     "exception": false,
     "start_time": "2020-12-12T01:05:05.148668",
     "status": "completed"
    },
    "tags": []
   },
   "source": [
    "## Qual validação escolher?    \n",
    "       \n",
    "Eu acho que podem acontecer duas coisas aqui:\n",
    "      \n",
    "- Os dados que estão na *leaderboard* foram *splitados* de forma que a porcentagem das classes da resposta `óbito` seja respeitada. Isso significa que \n",
    "se nos dados completos temos 80% de crianças sobreviventes e 20% de óbitos, então na *leaderboard* essa proporção é mantida. Isso se faz usando *estratificação*.    \n",
    "    \n",
    "- Os dados que estão na *leaderboard* foram *splitados* de forma aleatória. Neste caso, a porcentagem das classes da resposta `óbito` não é mantida, logo nos dados\n",
    "completos podemos ter uma proporção 80/20, porém na leaderboard essa proporção ser de 95/5, por exemplo.\n",
    "      \n",
    "Pode ser que existam outras formas de tentar simular esse *split*, porém eu vou tentar esses dois.\n",
    "    \n",
    "Link legal para entender melhor os *splits* do *sklearn*:    \n",
    "https://scikit-learn.org/stable/auto_examples/model_selection/plot_cv_indices.html#sphx-glr-auto-examples-model-selection-plot-cv-indices-py"
   ]
  },
  {
   "cell_type": "code",
   "execution_count": 25,
   "metadata": {
    "execution": {
     "iopub.execute_input": "2020-12-12T01:05:05.330060Z",
     "iopub.status.busy": "2020-12-12T01:05:05.329087Z",
     "iopub.status.idle": "2020-12-12T01:05:05.337604Z",
     "shell.execute_reply": "2020-12-12T01:05:05.337085Z"
    },
    "papermill": {
     "duration": 0.069619,
     "end_time": "2020-12-12T01:05:05.337730",
     "exception": false,
     "start_time": "2020-12-12T01:05:05.268111",
     "status": "completed"
    },
    "tags": []
   },
   "outputs": [
    {
     "data": {
      "text/plain": [
       "idademae                  0\n",
       "qtdsemanas              226\n",
       "peso                      2\n",
       "apgar1                  100\n",
       "apgar5                   95\n",
       "estadocivil_casada        0\n",
       "estadocivil_separada      0\n",
       "estadocivil_solteira      0\n",
       "estadocivil_uniao         0\n",
       "binario_sexo             39\n",
       "binario_tipoparto         5\n",
       "binario_malformacao     304\n",
       "ord_catprenatal          40\n",
       "dtype: int64"
      ]
     },
     "execution_count": 25,
     "metadata": {},
     "output_type": "execute_result"
    }
   ],
   "source": [
    "# relembrando quantidade de NaN para cada coluna\n",
    "X.isnull().sum()"
   ]
  },
  {
   "cell_type": "markdown",
   "metadata": {
    "papermill": {
     "duration": 0.063061,
     "end_time": "2020-12-12T01:05:05.458380",
     "exception": false,
     "start_time": "2020-12-12T01:05:05.395319",
     "status": "completed"
    },
    "tags": []
   },
   "source": [
    "## Validação com StratifiedKFold"
   ]
  },
  {
   "cell_type": "code",
   "execution_count": 26,
   "metadata": {
    "execution": {
     "iopub.execute_input": "2020-12-12T01:05:05.586656Z",
     "iopub.status.busy": "2020-12-12T01:05:05.585880Z",
     "iopub.status.idle": "2020-12-12T01:05:05.630396Z",
     "shell.execute_reply": "2020-12-12T01:05:05.629605Z"
    },
    "papermill": {
     "duration": 0.111207,
     "end_time": "2020-12-12T01:05:05.630572",
     "exception": false,
     "start_time": "2020-12-12T01:05:05.519365",
     "status": "completed"
    },
    "tags": []
   },
   "outputs": [
    {
     "name": "stdout",
     "output_type": "stream",
     "text": [
      "Índices treino: [    2     3     5 ... 11386 11387 11388] -> Índices validação: [    0     1     4 ... 11356 11368 11375]\n",
      "Porcentagem obito = 1 (treino): 0.26045439578531443 Porcentagem obito = 0 (treino): 0.7395456042146855\n",
      "Porcentagem obito = 1 (val): 0.2603160667251975 Porcentagem obito = 0 (val): 0.7396839332748024\n",
      "\n",
      "Índices treino: [    0     1     2 ... 11384 11385 11386] -> Índices validação: [    7     9    12 ... 11383 11387 11388]\n",
      "Porcentagem obito = 1 (treino): 0.26045439578531443 Porcentagem obito = 0 (treino): 0.7395456042146855\n",
      "Porcentagem obito = 1 (val): 0.2603160667251975 Porcentagem obito = 0 (val): 0.7396839332748024\n",
      "\n",
      "Índices treino: [    0     1     2 ... 11385 11387 11388] -> Índices validação: [    8    10    14 ... 11381 11382 11386]\n",
      "Porcentagem obito = 1 (treino): 0.26045439578531443 Porcentagem obito = 0 (treino): 0.7395456042146855\n",
      "Porcentagem obito = 1 (val): 0.2603160667251975 Porcentagem obito = 0 (val): 0.7396839332748024\n",
      "\n",
      "Índices treino: [    0     1     3 ... 11386 11387 11388] -> Índices validação: [    2     5    11 ... 11378 11380 11385]\n",
      "Porcentagem obito = 1 (treino): 0.26034463834924815 Porcentagem obito = 0 (treino): 0.7396553616507519\n",
      "Porcentagem obito = 1 (val): 0.2607550482879719 Porcentagem obito = 0 (val): 0.7392449517120281\n",
      "\n",
      "Índices treino: [    0     1     2 ... 11386 11387 11388] -> Índices validação: [    3     6    18 ... 11377 11379 11384]\n",
      "Porcentagem obito = 1 (treino): 0.2604258121158911 Porcentagem obito = 0 (treino): 0.7395741878841089\n",
      "Porcentagem obito = 1 (val): 0.2604303908651735 Porcentagem obito = 0 (val): 0.7395696091348265\n",
      "\n"
     ]
    }
   ],
   "source": [
    "from sklearn.model_selection import StratifiedKFold\n",
    "\n",
    "for tr, val in StratifiedKFold(n_splits=5, shuffle=True, random_state=0).split(X, y):\n",
    "    \n",
    "    y_train, y_val = y.iloc[tr], y.iloc[val]\n",
    "    \n",
    "    print('Índices treino:', tr, '-> Índices validação:', val)\n",
    "    print('Porcentagem obito = 1 (treino):', len(y_train[y_train == 1]) / len(y_train), 'Porcentagem obito = 0 (treino):', len(y_train[y_train == 0]) / len(y_train))\n",
    "    print('Porcentagem obito = 1 (val):', len(y_val[y_val == 1]) / len(y_val), 'Porcentagem obito = 0 (val):', len(y_val[y_val == 0]) / len(y_val))\n",
    "    print()\n",
    "    \n",
    "    # esta linha verifica se exista alguma intersecção entre os valores de treino e teste\n",
    "    assert len(list(set(tr) & set(val))) == 0"
   ]
  },
  {
   "cell_type": "markdown",
   "metadata": {
    "papermill": {
     "duration": 0.060508,
     "end_time": "2020-12-12T01:05:05.751613",
     "exception": false,
     "start_time": "2020-12-12T01:05:05.691105",
     "status": "completed"
    },
    "tags": []
   },
   "source": [
    "Como é possível notar, a porcentagem de `obito=1` para cada *fold* de treino e validação são aproximadamente iguais.    \n",
    "Isso se deve à estratificação, que foi usada aqui."
   ]
  },
  {
   "cell_type": "markdown",
   "metadata": {
    "papermill": {
     "duration": 0.057018,
     "end_time": "2020-12-12T01:05:05.866812",
     "exception": false,
     "start_time": "2020-12-12T01:05:05.809794",
     "status": "completed"
    },
    "tags": []
   },
   "source": [
    "## Validação com KFold"
   ]
  },
  {
   "cell_type": "code",
   "execution_count": 27,
   "metadata": {
    "execution": {
     "iopub.execute_input": "2020-12-12T01:05:05.990277Z",
     "iopub.status.busy": "2020-12-12T01:05:05.989397Z",
     "iopub.status.idle": "2020-12-12T01:05:06.032105Z",
     "shell.execute_reply": "2020-12-12T01:05:06.032808Z"
    },
    "papermill": {
     "duration": 0.109051,
     "end_time": "2020-12-12T01:05:06.032953",
     "exception": false,
     "start_time": "2020-12-12T01:05:05.923902",
     "status": "completed"
    },
    "tags": []
   },
   "outputs": [
    {
     "name": "stdout",
     "output_type": "stream",
     "text": [
      "Índices treino: [    0     1     2 ... 11385 11386 11387] -> Índices validação: [    9    14    16 ... 11380 11384 11388]\n",
      "Porcentagem obito = 1 (treino): 0.26155197014597736 Porcentagem obito = 0 (treino): 0.7384480298540226\n",
      "Porcentagem obito = 1 (val): 0.2559262510974539 Porcentagem obito = 0 (val): 0.7440737489025461\n",
      "\n",
      "Índices treino: [    0     1     2 ... 11386 11387 11388] -> Índices validação: [    5    15    20 ... 11373 11382 11383]\n",
      "Porcentagem obito = 1 (treino): 0.2593568214246515 Porcentagem obito = 0 (treino): 0.7406431785753484\n",
      "Porcentagem obito = 1 (val): 0.2647058823529412 Porcentagem obito = 0 (val): 0.7352941176470589\n",
      "\n",
      "Índices treino: [    0     2     3 ... 11386 11387 11388] -> Índices validação: [    1     4     6 ... 11376 11378 11385]\n",
      "Porcentagem obito = 1 (treino): 0.2610031829656459 Porcentagem obito = 0 (treino): 0.738996817034354\n",
      "Porcentagem obito = 1 (val): 0.2581211589113257 Porcentagem obito = 0 (val): 0.7418788410886743\n",
      "\n",
      "Índices treino: [    0     1     4 ... 11385 11386 11388] -> Índices validação: [    2     3     7 ... 11377 11381 11387]\n",
      "Porcentagem obito = 1 (treino): 0.26078366809351333 Porcentagem obito = 0 (treino): 0.7392163319064866\n",
      "Porcentagem obito = 1 (val): 0.2589991220368745 Porcentagem obito = 0 (val): 0.7410008779631255\n",
      "\n",
      "Índices treino: [    1     2     3 ... 11385 11387 11388] -> Índices validação: [    0    13    21 ... 11368 11371 11386]\n",
      "Porcentagem obito = 1 (treino): 0.2594381035996488 Porcentagem obito = 0 (treino): 0.7405618964003512\n",
      "Porcentagem obito = 1 (val): 0.26438296003513395 Porcentagem obito = 0 (val): 0.735617039964866\n",
      "\n"
     ]
    }
   ],
   "source": [
    "from sklearn.model_selection import KFold\n",
    "\n",
    "for tr, val in KFold(n_splits=5, shuffle=True, random_state=0).split(X, y):\n",
    "    \n",
    "    y_train, y_val = y.iloc[tr], y.iloc[val]\n",
    "    \n",
    "    print('Índices treino:', tr, '-> Índices validação:', val)\n",
    "    print('Porcentagem obito = 1 (treino):', len(y_train[y_train == 1]) / len(y_train), 'Porcentagem obito = 0 (treino):', len(y_train[y_train == 0]) / len(y_train))\n",
    "    print('Porcentagem obito = 1 (val):', len(y_val[y_val == 1]) / len(y_val), 'Porcentagem obito = 0 (val):', len(y_val[y_val == 0]) / len(y_val))\n",
    "    print()\n",
    "    \n",
    "    # esta linha verifica se exista alguma intersecção entre os valores de treino e teste\n",
    "    assert len(list(set(tr) & set(val))) == 0"
   ]
  },
  {
   "cell_type": "markdown",
   "metadata": {
    "papermill": {
     "duration": 0.062522,
     "end_time": "2020-12-12T01:05:06.155849",
     "exception": false,
     "start_time": "2020-12-12T01:05:06.093327",
     "status": "completed"
    },
    "tags": []
   },
   "source": [
    "Neste caso, a proporção ainda se manteve muito perto (eu pensei que as proporções iam ser bem distantes rsrs).      \n",
    "Dá para notar que os índices mudaram: isso deve ser porque agora ele não está preocupado em manter a proporção exata, e talvez pegue outras observações da amostra que não sejam da mesma classe."
   ]
  },
  {
   "cell_type": "code",
   "execution_count": 28,
   "metadata": {
    "execution": {
     "iopub.execute_input": "2020-12-12T01:05:06.285428Z",
     "iopub.status.busy": "2020-12-12T01:05:06.284405Z",
     "iopub.status.idle": "2020-12-12T01:05:06.289020Z",
     "shell.execute_reply": "2020-12-12T01:05:06.288373Z"
    },
    "papermill": {
     "duration": 0.071092,
     "end_time": "2020-12-12T01:05:06.289175",
     "exception": false,
     "start_time": "2020-12-12T01:05:06.218083",
     "status": "completed"
    },
    "tags": []
   },
   "outputs": [
    {
     "data": {
      "text/plain": [
       "0    0.739573\n",
       "1    0.260427\n",
       "Name: obito, dtype: float64"
      ]
     },
     "execution_count": 28,
     "metadata": {},
     "output_type": "execute_result"
    }
   ],
   "source": [
    "# proporção das classes na target\n",
    "y.value_counts() / len(y)"
   ]
  },
  {
   "cell_type": "markdown",
   "metadata": {
    "papermill": {
     "duration": 0.056267,
     "end_time": "2020-12-12T01:05:06.403322",
     "exception": false,
     "start_time": "2020-12-12T01:05:06.347055",
     "status": "completed"
    },
    "tags": []
   },
   "source": [
    "## Baseline usando KFold"
   ]
  },
  {
   "cell_type": "code",
   "execution_count": 29,
   "metadata": {
    "execution": {
     "iopub.execute_input": "2020-12-12T01:05:06.533331Z",
     "iopub.status.busy": "2020-12-12T01:05:06.532722Z",
     "iopub.status.idle": "2020-12-12T01:05:10.163348Z",
     "shell.execute_reply": "2020-12-12T01:05:10.162769Z"
    },
    "papermill": {
     "duration": 3.703421,
     "end_time": "2020-12-12T01:05:10.163450",
     "exception": false,
     "start_time": "2020-12-12T01:05:06.460029",
     "status": "completed"
    },
    "tags": []
   },
   "outputs": [
    {
     "name": "stdout",
     "output_type": "stream",
     "text": [
      "AUC (treino): 0.9562011034363005  AUC (val): 0.9474921193906\n",
      "Acurácia (treino): 0.9373285040061464  Acurácia (val): 0.9253731343283582\n",
      "Log loss (treino): 0.18817252061000997 Log loss (val): 0.22240708079610544\n",
      "\n",
      "AUC (treino): 0.9555670920566799  AUC (val): 0.949397292146234\n",
      "Acurácia (treino): 0.9353528701569531  Acurácia (val): 0.9284460052677788\n",
      "Log loss (treino): 0.19280526812876062 Log loss (val): 0.20555863549472747\n",
      "\n",
      "AUC (treino): 0.9557206156189149  AUC (val): 0.9446041138348831\n",
      "Acurácia (treino): 0.9348040829766217  Acurácia (val): 0.9319578577699736\n",
      "Log loss (treino): 0.19090209336526723 Log loss (val): 0.21366873754177457\n",
      "\n",
      "AUC (treino): 0.9546768726612824  AUC (val): 0.9479265402843601\n",
      "Acurácia (treino): 0.9342552957962902  Acurácia (val): 0.9328358208955224\n",
      "Log loss (treino): 0.1953362246131084 Log loss (val): 0.19633490713096285\n",
      "\n",
      "AUC (treino): 0.9557245826801348  AUC (val): 0.9498294243070363\n",
      "Acurácia (treino): 0.9343722563652327  Acurácia (val): 0.9341238471673254\n",
      "Log loss (treino): 0.1933061152821904 Log loss (val): 0.19823167497208902\n",
      "\n",
      "Média AUC (treino): 0.9555780532906624\n",
      "Média AUC (val): 0.9478498979926228\n",
      "Média Acurácia (treino): 0.9352226018602489\n",
      "Média Acurácia (val): 0.9305473330857919\n",
      "Média Log-loss (treino): 0.19210444439986735\n",
      "Média Log-loss (val): 0.20724020718713185\n"
     ]
    }
   ],
   "source": [
    "from sklearn.ensemble import RandomForestClassifier\n",
    "from sklearn.tree import DecisionTreeClassifier\n",
    "from sklearn.linear_model import LogisticRegression, SGDClassifier\n",
    "from sklearn.naive_bayes import BernoulliNB\n",
    "from sklearn.neural_network import MLPClassifier\n",
    "from sklearn.metrics import accuracy_score, roc_auc_score, average_precision_score, brier_score_loss, log_loss, confusion_matrix\n",
    "from sklearn.calibration import calibration_curve\n",
    "from sklearn.pipeline import make_pipeline\n",
    "from sklearn.preprocessing import StandardScaler, MinMaxScaler\n",
    "from lightgbm import LGBMClassifier\n",
    "\n",
    "\n",
    "auc_treino = []\n",
    "auc_validacao = []\n",
    "acc_treino = []\n",
    "acc_validacao = []\n",
    "logloss_treino = []\n",
    "logloss_validacao = []\n",
    "\n",
    "\n",
    "kf = KFold(n_splits=5, shuffle=True, random_state=0)\n",
    "\n",
    "for tr, val in kf.split(X, y):\n",
    "    \n",
    "    # splita em treino/validação\n",
    "    X_train, X_val = X.iloc[tr], X.iloc[val]\n",
    "    y_train, y_val = y.iloc[tr], y.iloc[val]    \n",
    "    \n",
    "    \n",
    "    # imputando NaN para dados de treino e validação usando a média\n",
    "    # for col in ['qtdsemanas', 'peso', 'apgar1', 'apgar5']:\n",
    "    #    X_train[col] = X_train[col].fillna(X_train[col].mean())\n",
    "    \n",
    "    # for col in ['qtdsemanas', 'peso', 'apgar1', 'apgar5']:\n",
    "    #    X_val[col] = X_val[col].fillna(X_val[col].mean())  \n",
    "    \n",
    "    \n",
    "    # treina nos folds de treino\n",
    "    clf = xgb.XGBClassifier(random_state=1, missing=np.nan)\n",
    "    clf.fit(X_train, y_train)\n",
    "    \n",
    "    # calcula probabilidades para treino e validação\n",
    "    # pega segunda coluna: P(Y = 1)\n",
    "    prob_tr = clf.predict_proba(X_train)[:, 1]\n",
    "    prob_val = clf.predict_proba(X_val)[:, 1]\n",
    "    \n",
    "    # calcula AUC\n",
    "    auc_tr = roc_auc_score(y_train, prob_tr)\n",
    "    auc_val = roc_auc_score(y_val, prob_val)\n",
    "    \n",
    "    # calcula acurácia\n",
    "    acc_tr = accuracy_score(y_train, (prob_tr > .5).astype(int))\n",
    "    acc_val = accuracy_score(y_val, (prob_val > .5).astype(int))\n",
    "    \n",
    "    # calcula log-loss\n",
    "    logloss_tr = log_loss(y_train, prob_tr)\n",
    "    logloss_val = log_loss(y_val, prob_val)\n",
    "    \n",
    "    # guarda resultados\n",
    "    auc_treino.append(auc_tr)\n",
    "    auc_validacao.append(auc_val)\n",
    "    acc_treino.append(acc_tr)\n",
    "    acc_validacao.append(acc_val)\n",
    "    logloss_treino.append(logloss_tr)\n",
    "    logloss_validacao.append(logloss_val)\n",
    "    \n",
    "    print('AUC (treino):', auc_tr, ' AUC (val):', auc_val)\n",
    "    print('Acurácia (treino):', acc_tr, ' Acurácia (val):', acc_val)\n",
    "    print('Log loss (treino):', logloss_tr, 'Log loss (val):', logloss_val)\n",
    "    print()\n",
    "    \n",
    "    \n",
    "print('Média AUC (treino):', np.mean(auc_treino))\n",
    "print('Média AUC (val):', np.mean(auc_validacao))\n",
    "print('Média Acurácia (treino):', np.mean(acc_treino))\n",
    "print('Média Acurácia (val):', np.mean(acc_validacao))\n",
    "print('Média Log-loss (treino):', np.mean(logloss_treino))\n",
    "print('Média Log-loss (val):', np.mean(logloss_validacao))"
   ]
  },
  {
   "cell_type": "markdown",
   "metadata": {
    "papermill": {
     "duration": 0.057059,
     "end_time": "2020-12-12T01:05:10.278326",
     "exception": false,
     "start_time": "2020-12-12T01:05:10.221267",
     "status": "completed"
    },
    "tags": []
   },
   "source": [
    "## Baseline usando StratifiedKFold"
   ]
  },
  {
   "cell_type": "code",
   "execution_count": 30,
   "metadata": {
    "execution": {
     "iopub.execute_input": "2020-12-12T01:05:10.408506Z",
     "iopub.status.busy": "2020-12-12T01:05:10.407467Z",
     "iopub.status.idle": "2020-12-12T01:05:13.798662Z",
     "shell.execute_reply": "2020-12-12T01:05:13.798091Z"
    },
    "papermill": {
     "duration": 3.463139,
     "end_time": "2020-12-12T01:05:13.798784",
     "exception": false,
     "start_time": "2020-12-12T01:05:10.335645",
     "status": "completed"
    },
    "tags": []
   },
   "outputs": [
    {
     "name": "stdout",
     "output_type": "stream",
     "text": [
      "AUC (treino): 0.954537179111447  AUC (val): 0.9520794031254848\n",
      "Acurácia (treino): 0.9339260234880913  Acurácia (val): 0.935908691834943\n",
      "Log loss (treino): 0.1947944399389362 Log loss (val): 0.19583072336251867\n",
      "\n",
      "AUC (treino): 0.9560083528495416  AUC (val): 0.9513553274853509\n",
      "Acurácia (treino): 0.9350235978487542  Acurácia (val): 0.9284460052677788\n",
      "Log loss (treino): 0.1920983792725421 Log loss (val): 0.20464274724906842\n",
      "\n",
      "AUC (treino): 0.954740815624274  AUC (val): 0.9512252240531223\n",
      "Acurácia (treino): 0.9346943255405554  Acurácia (val): 0.9266900790166813\n",
      "Log loss (treino): 0.1916633676918763 Log loss (val): 0.21020966420032583\n",
      "\n",
      "AUC (treino): 0.9572163005254706  AUC (val): 0.9412763821908714\n",
      "Acurácia (treino): 0.9348040829766217  Acurácia (val): 0.9319578577699736\n",
      "Log loss (treino): 0.19052899281853114 Log loss (val): 0.21159662981517613\n",
      "\n",
      "AUC (treino): 0.9564122132010544  AUC (val): 0.9455098676963626\n",
      "Acurácia (treino): 0.934811237928007  Acurácia (val): 0.930171277997365\n",
      "Log loss (treino): 0.1918813986354057 Log loss (val): 0.2065498147929117\n",
      "\n",
      "Média AUC (treino): 0.9557829722623575\n",
      "Média AUC (val): 0.9482892409102384\n",
      "Média Acurácia (treino): 0.934651853556406\n",
      "Média Acurácia (val): 0.9306347823773484\n",
      "Média Log-loss (treino): 0.1921933156714583\n",
      "Média Log-loss (val): 0.20576591588400017\n"
     ]
    }
   ],
   "source": [
    "auc_treino = []\n",
    "auc_validacao = []\n",
    "acc_treino = []\n",
    "acc_validacao = []\n",
    "logloss_treino = []\n",
    "logloss_validacao = []\n",
    "\n",
    "skf = StratifiedKFold(n_splits=5, shuffle=True, random_state=0)\n",
    "\n",
    "for tr, val in skf.split(X, y):\n",
    "    \n",
    "    # splita em treino/validação\n",
    "    X_train, X_val = X.iloc[tr], X.iloc[val]\n",
    "    y_train, y_val = y.iloc[tr], y.iloc[val]    \n",
    "    \n",
    "    \n",
    "    # imputando NaN para dados de treino e validação usando a média\n",
    "    # for col in ['qtdsemanas', 'peso', 'apgar1', 'apgar5']:\n",
    "    #    X_train[col] = X_train[col].fillna(X_train[col].mean())\n",
    "    \n",
    "    # for col in ['qtdsemanas', 'peso', 'apgar1', 'apgar5']:\n",
    "    #    X_val[col] = X_val[col].fillna(X_val[col].mean()) \n",
    "    \n",
    "    \n",
    "    # treina nos folds de treino\n",
    "    clf = xgb.XGBClassifier(random_state=1, missing=np.nan)\n",
    "    clf.fit(X_train, y_train)\n",
    "    \n",
    "    # calcula probabilidades para treino e validação\n",
    "    # pega segunda coluna: P(Y = 1)\n",
    "    prob_tr = clf.predict_proba(X_train)[:, 1]\n",
    "    prob_val = clf.predict_proba(X_val)[:, 1]\n",
    "    \n",
    "    # calcula AUC\n",
    "    auc_tr = roc_auc_score(y_train, prob_tr)\n",
    "    auc_val = roc_auc_score(y_val, prob_val)\n",
    "    \n",
    "    # calcula acurácia\n",
    "    acc_tr = accuracy_score(y_train, (prob_tr > .5).astype(int))\n",
    "    acc_val = accuracy_score(y_val, (prob_val > .5).astype(int))\n",
    "    \n",
    "    # calcula log-loss\n",
    "    logloss_tr = log_loss(y_train, prob_tr)\n",
    "    logloss_val = log_loss(y_val, prob_val)\n",
    "    \n",
    "    # guarda resultados\n",
    "    auc_treino.append(auc_tr)\n",
    "    auc_validacao.append(auc_val)\n",
    "    acc_treino.append(acc_tr)\n",
    "    acc_validacao.append(acc_val)\n",
    "    logloss_treino.append(logloss_tr)\n",
    "    logloss_validacao.append(logloss_val)\n",
    "    \n",
    "    print('AUC (treino):', auc_tr, ' AUC (val):', auc_val)\n",
    "    print('Acurácia (treino):', acc_tr, ' Acurácia (val):', acc_val)\n",
    "    print('Log loss (treino):', logloss_tr, 'Log loss (val):', logloss_val)\n",
    "    print()\n",
    "    \n",
    "    \n",
    "print('Média AUC (treino):', np.mean(auc_treino))\n",
    "print('Média AUC (val):', np.mean(auc_validacao))\n",
    "print('Média Acurácia (treino):', np.mean(acc_treino))\n",
    "print('Média Acurácia (val):', np.mean(acc_validacao))\n",
    "print('Média Log-loss (treino):', np.mean(logloss_treino))\n",
    "print('Média Log-loss (val):', np.mean(logloss_validacao))"
   ]
  },
  {
   "cell_type": "markdown",
   "metadata": {
    "papermill": {
     "duration": 0.059147,
     "end_time": "2020-12-12T01:05:13.916859",
     "exception": false,
     "start_time": "2020-12-12T01:05:13.857712",
     "status": "completed"
    },
    "tags": []
   },
   "source": [
    "Esse será nosso baseline, que por enquanto não possui nenhum tunning de hiperparâmetros. "
   ]
  },
  {
   "cell_type": "markdown",
   "metadata": {
    "papermill": {
     "duration": 0.06014,
     "end_time": "2020-12-12T01:05:14.039307",
     "exception": false,
     "start_time": "2020-12-12T01:05:13.979167",
     "status": "completed"
    },
    "tags": []
   },
   "source": [
    "## Gerando submissão\n",
    "    \n",
    "Para gerar a submissão, precisamos fazer as mesmas transformações nos dados de teste.   "
   ]
  },
  {
   "cell_type": "code",
   "execution_count": 31,
   "metadata": {
    "execution": {
     "iopub.execute_input": "2020-12-12T01:05:14.203394Z",
     "iopub.status.busy": "2020-12-12T01:05:14.202193Z",
     "iopub.status.idle": "2020-12-12T01:05:14.216099Z",
     "shell.execute_reply": "2020-12-12T01:05:14.215154Z"
    },
    "papermill": {
     "duration": 0.11178,
     "end_time": "2020-12-12T01:05:14.216261",
     "exception": false,
     "start_time": "2020-12-12T01:05:14.104481",
     "status": "completed"
    },
    "tags": []
   },
   "outputs": [
    {
     "data": {
      "text/plain": [
       "id                  0\n",
       "idademae            1\n",
       "estadocivilmae     38\n",
       "catprenatal        13\n",
       "qtdsemanas         96\n",
       "tipoparto           0\n",
       "peso                0\n",
       "malformacao       143\n",
       "sexo               12\n",
       "apgar1             48\n",
       "apgar5             49\n",
       "dtype: int64"
      ]
     },
     "execution_count": 31,
     "metadata": {},
     "output_type": "execute_result"
    }
   ],
   "source": [
    "teste.isnull().sum()"
   ]
  },
  {
   "cell_type": "code",
   "execution_count": 32,
   "metadata": {
    "execution": {
     "iopub.execute_input": "2020-12-12T01:05:14.380621Z",
     "iopub.status.busy": "2020-12-12T01:05:14.379461Z",
     "iopub.status.idle": "2020-12-12T01:05:14.411465Z",
     "shell.execute_reply": "2020-12-12T01:05:14.410973Z"
    },
    "papermill": {
     "duration": 0.100453,
     "end_time": "2020-12-12T01:05:14.411608",
     "exception": false,
     "start_time": "2020-12-12T01:05:14.311155",
     "status": "completed"
    },
    "tags": []
   },
   "outputs": [
    {
     "data": {
      "text/html": [
       "<div>\n",
       "<style scoped>\n",
       "    .dataframe tbody tr th:only-of-type {\n",
       "        vertical-align: middle;\n",
       "    }\n",
       "\n",
       "    .dataframe tbody tr th {\n",
       "        vertical-align: top;\n",
       "    }\n",
       "\n",
       "    .dataframe thead th {\n",
       "        text-align: right;\n",
       "    }\n",
       "</style>\n",
       "<table border=\"1\" class=\"dataframe\">\n",
       "  <thead>\n",
       "    <tr style=\"text-align: right;\">\n",
       "      <th></th>\n",
       "      <th>id</th>\n",
       "      <th>idademae</th>\n",
       "      <th>estadocivilmae</th>\n",
       "      <th>catprenatal</th>\n",
       "      <th>qtdsemanas</th>\n",
       "      <th>tipoparto</th>\n",
       "      <th>peso</th>\n",
       "      <th>malformacao</th>\n",
       "      <th>sexo</th>\n",
       "      <th>apgar1</th>\n",
       "      <th>apgar5</th>\n",
       "      <th>estadocivil_casada</th>\n",
       "      <th>estadocivil_separada</th>\n",
       "      <th>estadocivil_solteira</th>\n",
       "      <th>estadocivil_uniao</th>\n",
       "      <th>estadocivil_viuva</th>\n",
       "      <th>binario_sexo</th>\n",
       "      <th>binario_tipoparto</th>\n",
       "      <th>binario_malformacao</th>\n",
       "      <th>ord_catprenatal</th>\n",
       "    </tr>\n",
       "  </thead>\n",
       "  <tbody>\n",
       "    <tr>\n",
       "      <th>0</th>\n",
       "      <td>5493</td>\n",
       "      <td>24.0</td>\n",
       "      <td>casada</td>\n",
       "      <td>7mais</td>\n",
       "      <td>40.0</td>\n",
       "      <td>cesareo</td>\n",
       "      <td>3120.0</td>\n",
       "      <td>nao</td>\n",
       "      <td>f</td>\n",
       "      <td>9.0</td>\n",
       "      <td>10.0</td>\n",
       "      <td>1</td>\n",
       "      <td>0</td>\n",
       "      <td>0</td>\n",
       "      <td>0</td>\n",
       "      <td>0</td>\n",
       "      <td>0.0</td>\n",
       "      <td>1</td>\n",
       "      <td>0.0</td>\n",
       "      <td>3.0</td>\n",
       "    </tr>\n",
       "    <tr>\n",
       "      <th>1</th>\n",
       "      <td>12311</td>\n",
       "      <td>25.0</td>\n",
       "      <td>uniao</td>\n",
       "      <td>7mais</td>\n",
       "      <td>38.0</td>\n",
       "      <td>cesareo</td>\n",
       "      <td>2805.0</td>\n",
       "      <td>nao</td>\n",
       "      <td>f</td>\n",
       "      <td>9.0</td>\n",
       "      <td>10.0</td>\n",
       "      <td>0</td>\n",
       "      <td>0</td>\n",
       "      <td>0</td>\n",
       "      <td>1</td>\n",
       "      <td>0</td>\n",
       "      <td>0.0</td>\n",
       "      <td>1</td>\n",
       "      <td>0.0</td>\n",
       "      <td>3.0</td>\n",
       "    </tr>\n",
       "    <tr>\n",
       "      <th>2</th>\n",
       "      <td>15520</td>\n",
       "      <td>16.0</td>\n",
       "      <td>solteira</td>\n",
       "      <td>de4a6</td>\n",
       "      <td>39.0</td>\n",
       "      <td>cesareo</td>\n",
       "      <td>3600.0</td>\n",
       "      <td>nao</td>\n",
       "      <td>f</td>\n",
       "      <td>9.0</td>\n",
       "      <td>10.0</td>\n",
       "      <td>0</td>\n",
       "      <td>0</td>\n",
       "      <td>1</td>\n",
       "      <td>0</td>\n",
       "      <td>0</td>\n",
       "      <td>0.0</td>\n",
       "      <td>1</td>\n",
       "      <td>0.0</td>\n",
       "      <td>2.0</td>\n",
       "    </tr>\n",
       "    <tr>\n",
       "      <th>3</th>\n",
       "      <td>15095</td>\n",
       "      <td>22.0</td>\n",
       "      <td>uniao</td>\n",
       "      <td>de1a3</td>\n",
       "      <td>26.0</td>\n",
       "      <td>vaginal</td>\n",
       "      <td>635.0</td>\n",
       "      <td>nao</td>\n",
       "      <td>f</td>\n",
       "      <td>7.0</td>\n",
       "      <td>8.0</td>\n",
       "      <td>0</td>\n",
       "      <td>0</td>\n",
       "      <td>0</td>\n",
       "      <td>1</td>\n",
       "      <td>0</td>\n",
       "      <td>0.0</td>\n",
       "      <td>0</td>\n",
       "      <td>0.0</td>\n",
       "      <td>1.0</td>\n",
       "    </tr>\n",
       "    <tr>\n",
       "      <th>4</th>\n",
       "      <td>2275</td>\n",
       "      <td>29.0</td>\n",
       "      <td>casada</td>\n",
       "      <td>de1a3</td>\n",
       "      <td>26.0</td>\n",
       "      <td>cesareo</td>\n",
       "      <td>442.0</td>\n",
       "      <td>nao</td>\n",
       "      <td>m</td>\n",
       "      <td>3.0</td>\n",
       "      <td>8.0</td>\n",
       "      <td>1</td>\n",
       "      <td>0</td>\n",
       "      <td>0</td>\n",
       "      <td>0</td>\n",
       "      <td>0</td>\n",
       "      <td>1.0</td>\n",
       "      <td>1</td>\n",
       "      <td>0.0</td>\n",
       "      <td>1.0</td>\n",
       "    </tr>\n",
       "  </tbody>\n",
       "</table>\n",
       "</div>"
      ],
      "text/plain": [
       "      id  idademae estadocivilmae catprenatal  qtdsemanas tipoparto    peso  \\\n",
       "0   5493      24.0         casada       7mais        40.0   cesareo  3120.0   \n",
       "1  12311      25.0          uniao       7mais        38.0   cesareo  2805.0   \n",
       "2  15520      16.0       solteira       de4a6        39.0   cesareo  3600.0   \n",
       "3  15095      22.0          uniao       de1a3        26.0   vaginal   635.0   \n",
       "4   2275      29.0         casada       de1a3        26.0   cesareo   442.0   \n",
       "\n",
       "  malformacao sexo  apgar1  apgar5  estadocivil_casada  estadocivil_separada  \\\n",
       "0         nao    f     9.0    10.0                   1                     0   \n",
       "1         nao    f     9.0    10.0                   0                     0   \n",
       "2         nao    f     9.0    10.0                   0                     0   \n",
       "3         nao    f     7.0     8.0                   0                     0   \n",
       "4         nao    m     3.0     8.0                   1                     0   \n",
       "\n",
       "   estadocivil_solteira  estadocivil_uniao  estadocivil_viuva  binario_sexo  \\\n",
       "0                     0                  0                  0           0.0   \n",
       "1                     0                  1                  0           0.0   \n",
       "2                     1                  0                  0           0.0   \n",
       "3                     0                  1                  0           0.0   \n",
       "4                     0                  0                  0           1.0   \n",
       "\n",
       "   binario_tipoparto  binario_malformacao  ord_catprenatal  \n",
       "0                  1                  0.0              3.0  \n",
       "1                  1                  0.0              3.0  \n",
       "2                  1                  0.0              2.0  \n",
       "3                  0                  0.0              1.0  \n",
       "4                  1                  0.0              1.0  "
      ]
     },
     "execution_count": 32,
     "metadata": {},
     "output_type": "execute_result"
    }
   ],
   "source": [
    "# transformando categóricas nos dados de tete  \n",
    "teste = teste.assign(**pd.get_dummies(teste['estadocivilmae'], prefix='estadocivil'))\n",
    "teste['binario_sexo'] = teste['sexo'].map({'f': 0, 'm': 1}, na_action='ignore')\n",
    "teste['binario_tipoparto'] = teste['tipoparto'].map({'vaginal': 0, 'cesareo': 1}, na_action='ignore')\n",
    "teste['binario_malformacao'] = teste['malformacao'].map({'nao': 0, 'sim': 1}, na_action='ignore')\n",
    "teste['ord_catprenatal'] = teste['catprenatal'].map({'nenhuma': 0, 'de1a3': 1, 'de4a6': 2, '7mais': 3}, na_action='ignore')\n",
    "\n",
    "teste.head()"
   ]
  },
  {
   "cell_type": "code",
   "execution_count": 33,
   "metadata": {
    "execution": {
     "iopub.execute_input": "2020-12-12T01:05:14.544358Z",
     "iopub.status.busy": "2020-12-12T01:05:14.543726Z",
     "iopub.status.idle": "2020-12-12T01:05:14.549821Z",
     "shell.execute_reply": "2020-12-12T01:05:14.549158Z"
    },
    "papermill": {
     "duration": 0.075162,
     "end_time": "2020-12-12T01:05:14.549934",
     "exception": false,
     "start_time": "2020-12-12T01:05:14.474772",
     "status": "completed"
    },
    "tags": []
   },
   "outputs": [
    {
     "data": {
      "text/plain": [
       "id                        0\n",
       "idademae                  1\n",
       "estadocivilmae           38\n",
       "catprenatal              13\n",
       "qtdsemanas               96\n",
       "tipoparto                 0\n",
       "peso                      0\n",
       "malformacao             143\n",
       "sexo                     12\n",
       "apgar1                   48\n",
       "apgar5                   49\n",
       "estadocivil_casada        0\n",
       "estadocivil_separada      0\n",
       "estadocivil_solteira      0\n",
       "estadocivil_uniao         0\n",
       "estadocivil_viuva         0\n",
       "binario_sexo             12\n",
       "binario_tipoparto         0\n",
       "binario_malformacao     143\n",
       "ord_catprenatal          13\n",
       "dtype: int64"
      ]
     },
     "execution_count": 33,
     "metadata": {},
     "output_type": "execute_result"
    }
   ],
   "source": [
    "teste.isnull().sum()"
   ]
  },
  {
   "cell_type": "markdown",
   "metadata": {
    "papermill": {
     "duration": 0.06068,
     "end_time": "2020-12-12T01:05:14.670957",
     "exception": false,
     "start_time": "2020-12-12T01:05:14.610277",
     "status": "completed"
    },
    "tags": []
   },
   "source": [
    "## 1ª Submissão"
   ]
  },
  {
   "cell_type": "code",
   "execution_count": 34,
   "metadata": {
    "execution": {
     "iopub.execute_input": "2020-12-12T01:05:14.819395Z",
     "iopub.status.busy": "2020-12-12T01:05:14.818782Z",
     "iopub.status.idle": "2020-12-12T01:05:15.612567Z",
     "shell.execute_reply": "2020-12-12T01:05:15.611955Z"
    },
    "papermill": {
     "duration": 0.863561,
     "end_time": "2020-12-12T01:05:15.612695",
     "exception": false,
     "start_time": "2020-12-12T01:05:14.749134",
     "status": "completed"
    },
    "tags": []
   },
   "outputs": [
    {
     "name": "stdout",
     "output_type": "stream",
     "text": [
      "Modelo treinado\n",
      "Gerando probabilidades...\n",
      "[[0.9809207  0.01907935]\n",
      " [0.9678376  0.03216244]\n",
      " [0.9703326  0.02966739]\n",
      " ...\n",
      " [0.97209775 0.02790222]\n",
      " [0.9748806  0.0251194 ]\n",
      " [0.8786505  0.12134954]]\n",
      "Gerando submissão...\n",
      "OK\n"
     ]
    }
   ],
   "source": [
    "def gera_submissao():\n",
    "    \n",
    "    # guarda ids\n",
    "    sub = teste.copy()\n",
    "    ids = sub['id']\n",
    "    \n",
    "    # dropa colunas não utilizadas pelo modelo\n",
    "    sub = sub.drop(['id', 'estadocivilmae', 'catprenatal', 'tipoparto', 'sexo', 'malformacao', 'estadocivil_viuva'], axis=1)\n",
    "\n",
    "    # imputando NaN\n",
    "    # for col in ['idademae', 'qtdsemanas', 'apgar1', 'apgar5']:\n",
    "    #    sub[col] = sub[col].fillna(sub[col].mean())\n",
    "    \n",
    "    \n",
    "    # treina nos dados completos\n",
    "    X_train = X.copy()\n",
    "    y_train = y.copy()\n",
    "    # for col in ['qtdsemanas', 'peso', 'apgar1', 'apgar5']:\n",
    "    #    X_train[col] = X_train[col].fillna(X_train[col].mean())\n",
    "    \n",
    "    clf = xgb.XGBClassifier(random_state=1, missing=np.nan)\n",
    "    clf.fit(X_train, y_train)\n",
    "    print('Modelo treinado')\n",
    "    \n",
    "    # gera probabilidades\n",
    "    print('Gerando probabilidades...')\n",
    "    probs = clf.predict_proba(sub)\n",
    "    print(probs)\n",
    "    \n",
    "    # gerando submissão\n",
    "    print('Gerando submissão...')\n",
    "    print('OK')\n",
    "    \n",
    "    return pd.DataFrame({'id': ids, 'obito': probs[:, 1]})  \n",
    "    \n",
    "    \n",
    "sub1 = gera_submissao()"
   ]
  },
  {
   "cell_type": "code",
   "execution_count": 35,
   "metadata": {
    "execution": {
     "iopub.execute_input": "2020-12-12T01:05:15.745649Z",
     "iopub.status.busy": "2020-12-12T01:05:15.744987Z",
     "iopub.status.idle": "2020-12-12T01:05:16.131434Z",
     "shell.execute_reply": "2020-12-12T01:05:16.130648Z"
    },
    "papermill": {
     "duration": 0.460158,
     "end_time": "2020-12-12T01:05:16.136472",
     "exception": false,
     "start_time": "2020-12-12T01:05:15.676314",
     "status": "completed"
    },
    "tags": []
   },
   "outputs": [],
   "source": [
    "sub1.to_csv('sub1_xgboost_sem_tunning_missing_np.nan_sem_imputer.csv', index=False)"
   ]
  },
  {
   "cell_type": "markdown",
   "metadata": {
    "papermill": {
     "duration": 0.062226,
     "end_time": "2020-12-12T01:05:16.262923",
     "exception": false,
     "start_time": "2020-12-12T01:05:16.200697",
     "status": "completed"
    },
    "tags": []
   },
   "source": [
    "## Resultado\n",
    "      \n",
    "- Baseline notebook (KFold): 0.9478498979926228  \n",
    "     \n",
    "- Baseline notebook (StratifiedKFold): 0.9482892409102384\n",
    "           \n",
    "- Baseline public leaderboard: 0.94295\n",
    "      \n",
    "Fiquei contente com esse resultado, pois parece que de fato não houve nenhum vazamento de dados de validação para dados de treino, pois o AUC local ficou próximo do AUC da *leaderboard*.     \n",
    "       \n",
    "Parece que o cenário usando validação KFold ficou mais próximo do AUC da *public leaderboard*.      \n",
    "Pode ser que eu esteja errado, porém pode ser que os dados da *leaderboard* não foram *splitados* por estratificação."
   ]
  },
  {
   "cell_type": "markdown",
   "metadata": {
    "papermill": {
     "duration": 0.063615,
     "end_time": "2020-12-12T01:05:16.392395",
     "exception": false,
     "start_time": "2020-12-12T01:05:16.328780",
     "status": "completed"
    },
    "tags": []
   },
   "source": [
    "****"
   ]
  },
  {
   "cell_type": "markdown",
   "metadata": {
    "papermill": {
     "duration": 0.062306,
     "end_time": "2020-12-12T01:05:16.518829",
     "exception": false,
     "start_time": "2020-12-12T01:05:16.456523",
     "status": "completed"
    },
    "tags": []
   },
   "source": [
    "## Feature Engineering\n",
    "      \n",
    "Podemos criar duas *features* relacionadas a quantidade de semanas de gestação:\n",
    "    \n",
    "- prematuro: o bebê nasceu antes de 37 semanas\n",
    "   \n",
    "- pós-termo: o bebê nasceu depois de 42 semanas\n",
    "    \n",
    "Eu peguei essa referência de alguns sites de notícias, pois não consegui achar em fontes oficiais como SIM, por exemplo.\n",
    "     \n",
    "Outra ideia que eu tive também foi tentar usar as probabilidades condicionais (conjuntas) de `apgar1` e `apgar5` como *feature*."
   ]
  },
  {
   "cell_type": "code",
   "execution_count": 36,
   "metadata": {
    "execution": {
     "iopub.execute_input": "2020-12-12T01:05:16.654580Z",
     "iopub.status.busy": "2020-12-12T01:05:16.652745Z",
     "iopub.status.idle": "2020-12-12T01:05:16.662150Z",
     "shell.execute_reply": "2020-12-12T01:05:16.661653Z"
    },
    "papermill": {
     "duration": 0.077561,
     "end_time": "2020-12-12T01:05:16.662263",
     "exception": false,
     "start_time": "2020-12-12T01:05:16.584702",
     "status": "completed"
    },
    "tags": []
   },
   "outputs": [
    {
     "data": {
      "text/plain": [
       "19.0      15\n",
       "20.0      28\n",
       "21.0      39\n",
       "22.0      70\n",
       "23.0     117\n",
       "24.0     129\n",
       "25.0     113\n",
       "26.0     135\n",
       "27.0     126\n",
       "28.0     167\n",
       "29.0     119\n",
       "30.0     134\n",
       "31.0     140\n",
       "32.0     156\n",
       "33.0     156\n",
       "34.0     215\n",
       "35.0     319\n",
       "36.0     516\n",
       "37.0     907\n",
       "38.0    2218\n",
       "39.0    2849\n",
       "40.0    1570\n",
       "41.0     653\n",
       "42.0     176\n",
       "43.0      56\n",
       "44.0      31\n",
       "45.0       9\n",
       "NaN      226\n",
       "Name: qtdsemanas, dtype: int64"
      ]
     },
     "execution_count": 36,
     "metadata": {},
     "output_type": "execute_result"
    }
   ],
   "source": [
    "X['qtdsemanas'].value_counts(dropna=False).sort_index()"
   ]
  },
  {
   "cell_type": "markdown",
   "metadata": {
    "papermill": {
     "duration": 0.063409,
     "end_time": "2020-12-12T01:05:16.790457",
     "exception": false,
     "start_time": "2020-12-12T01:05:16.727048",
     "status": "completed"
    },
    "tags": []
   },
   "source": [
    "Há vários casos de bebês prematuros, assim também como casos de pós-termo. Talvez essas duas features possam ajudar o modelo."
   ]
  },
  {
   "cell_type": "code",
   "execution_count": 37,
   "metadata": {
    "execution": {
     "iopub.execute_input": "2020-12-12T01:05:16.923013Z",
     "iopub.status.busy": "2020-12-12T01:05:16.921982Z",
     "iopub.status.idle": "2020-12-12T01:05:16.929344Z",
     "shell.execute_reply": "2020-12-12T01:05:16.929891Z"
    },
    "papermill": {
     "duration": 0.074287,
     "end_time": "2020-12-12T01:05:16.930047",
     "exception": false,
     "start_time": "2020-12-12T01:05:16.855760",
     "status": "completed"
    },
    "tags": []
   },
   "outputs": [
    {
     "data": {
      "text/plain": [
       "0.2604267275441215"
      ]
     },
     "execution_count": 37,
     "metadata": {},
     "output_type": "execute_result"
    }
   ],
   "source": [
    "# qual a probabilidade de escolher um obito=1 na amostra?\n",
    "prob_obito = len(y[y == 1]) / len(y)\n",
    "prob_obito"
   ]
  },
  {
   "cell_type": "markdown",
   "metadata": {
    "papermill": {
     "duration": 0.064362,
     "end_time": "2020-12-12T01:05:17.057812",
     "exception": false,
     "start_time": "2020-12-12T01:05:16.993450",
     "status": "completed"
    },
    "tags": []
   },
   "source": [
    "E as probabilidades condicionais?      \n",
    "    \n",
    "$P(Y = 1 | \\ apgar1 = 0, apgar5 = 0)$   \n",
    "$P(Y = 1 | \\ apgar1 = 1, apgar5 = 0)$   \n",
    "             $\\vdots$  \n",
    "$P(Y = 1 | \\ apgar1 = 10, apgar5 = 10)$"
   ]
  },
  {
   "cell_type": "code",
   "execution_count": 38,
   "metadata": {
    "execution": {
     "iopub.execute_input": "2020-12-12T01:05:17.208518Z",
     "iopub.status.busy": "2020-12-12T01:05:17.207431Z",
     "iopub.status.idle": "2020-12-12T01:05:17.215070Z",
     "shell.execute_reply": "2020-12-12T01:05:17.215642Z"
    },
    "papermill": {
     "duration": 0.094507,
     "end_time": "2020-12-12T01:05:17.215795",
     "exception": false,
     "start_time": "2020-12-12T01:05:17.121288",
     "status": "completed"
    },
    "tags": []
   },
   "outputs": [],
   "source": [
    "from itertools import permutations\n",
    "\n",
    "\n",
    "# função para calcular probabilidades condicionais\n",
    "def gera_probabilidades(dataset):\n",
    "    \n",
    "    # criando permutações:\n",
    "    # [0, 0]\n",
    "    # [0, 1]\n",
    "    # ...\n",
    "    # [0, 10]\n",
    "    # [1, 0]\n",
    "    # [1, 1]\n",
    "    # ....\n",
    "    # [1, 10]\n",
    "    # ...\n",
    "\n",
    "    primeira_combinacao = [(0, 0)]\n",
    "    ultima_combinacao = [(10, 10)]\n",
    "    permutacoes = list(permutations(range(0, 11), 2))\n",
    "    permutacoes = primeira_combinacao + permutacoes + ultima_combinacao\n",
    "    \n",
    "    \n",
    "    # cria mapa da probabilidades\n",
    "    # vamos nos basear nos dados completos, porque em dados de teste não temos a informação de obito\n",
    "    # ou seja, não é possível calcular a probabilidade lá\n",
    "    mapa_probs_obito = dict()\n",
    "    for a1, a5 in permutacoes:\n",
    "        prob_numerador = ((dados['obito'] == 1) & (dados['apgar1'] == a1) & (dados['apgar5'] == a5)).sum()\n",
    "        prob_denominador = ((dados['apgar1'] == a1) & (dados['apgar5'] == a5)).sum()\n",
    "        prob = prob_numerador / prob_denominador\n",
    "\n",
    "        mapa_probs_obito[str(a1)+str(a5)] = prob        \n",
    "        \n",
    "    # mapeia com o dataset  \n",
    "    probs_features = np.zeros((len(dataset), 1))\n",
    "    for i, (a1, a5) in enumerate(dataset[['apgar1', 'apgar5']].values):\n",
    "\n",
    "        if pd.isna(a1) or pd.isna(a5):\n",
    "            probs_features[i, 0] = 0.5\n",
    "        else:\n",
    "            probs_features[i, 0] = mapa_probs_obito.get(str(int(a1))+str(int(a5)), 0.5)\n",
    "        \n",
    "    for i in range(len(probs_features)):\n",
    "        if pd.isna(probs_features[i, 0]):\n",
    "            probs_features[i, 0] = np.nan            \n",
    "            \n",
    "    prob_obito = (dados['obito'] == 1).sum() / len(dados) \n",
    "            \n",
    "    return probs_features / prob_obito"
   ]
  },
  {
   "cell_type": "code",
   "execution_count": 39,
   "metadata": {
    "execution": {
     "iopub.execute_input": "2020-12-12T01:05:17.359463Z",
     "iopub.status.busy": "2020-12-12T01:05:17.358435Z",
     "iopub.status.idle": "2020-12-12T01:05:17.696330Z",
     "shell.execute_reply": "2020-12-12T01:05:17.695480Z"
    },
    "papermill": {
     "duration": 0.408493,
     "end_time": "2020-12-12T01:05:17.696530",
     "exception": false,
     "start_time": "2020-12-12T01:05:17.288037",
     "status": "completed"
    },
    "tags": []
   },
   "outputs": [
    {
     "data": {
      "text/plain": [
       "array([[0.19034706],\n",
       "       [0.19034706],\n",
       "       [0.19034706],\n",
       "       ...,\n",
       "       [0.19034706],\n",
       "       [0.98337664],\n",
       "       [0.49514907]])"
      ]
     },
     "execution_count": 39,
     "metadata": {},
     "output_type": "execute_result"
    }
   ],
   "source": [
    "gera_probabilidades(X)"
   ]
  },
  {
   "cell_type": "code",
   "execution_count": 40,
   "metadata": {
    "execution": {
     "iopub.execute_input": "2020-12-12T01:05:17.837518Z",
     "iopub.status.busy": "2020-12-12T01:05:17.836912Z",
     "iopub.status.idle": "2020-12-12T01:05:17.844872Z",
     "shell.execute_reply": "2020-12-12T01:05:17.845302Z"
    },
    "papermill": {
     "duration": 0.078245,
     "end_time": "2020-12-12T01:05:17.845444",
     "exception": false,
     "start_time": "2020-12-12T01:05:17.767199",
     "status": "completed"
    },
    "tags": []
   },
   "outputs": [
    {
     "data": {
      "text/plain": [
       "idademae                  0\n",
       "qtdsemanas              226\n",
       "peso                      2\n",
       "apgar1                  100\n",
       "apgar5                   95\n",
       "estadocivil_casada        0\n",
       "estadocivil_separada      0\n",
       "estadocivil_solteira      0\n",
       "estadocivil_uniao         0\n",
       "binario_sexo             39\n",
       "binario_tipoparto         5\n",
       "binario_malformacao     304\n",
       "ord_catprenatal          40\n",
       "dtype: int64"
      ]
     },
     "execution_count": 40,
     "metadata": {},
     "output_type": "execute_result"
    }
   ],
   "source": [
    "X.isnull().sum()"
   ]
  },
  {
   "cell_type": "markdown",
   "metadata": {
    "papermill": {
     "duration": 0.064425,
     "end_time": "2020-12-12T01:05:17.982393",
     "exception": false,
     "start_time": "2020-12-12T01:05:17.917968",
     "status": "completed"
    },
    "tags": []
   },
   "source": [
    "## Usando KFold"
   ]
  },
  {
   "cell_type": "code",
   "execution_count": 41,
   "metadata": {
    "execution": {
     "iopub.execute_input": "2020-12-12T01:05:18.127621Z",
     "iopub.status.busy": "2020-12-12T01:05:18.126921Z",
     "iopub.status.idle": "2020-12-12T01:05:24.606206Z",
     "shell.execute_reply": "2020-12-12T01:05:24.606681Z"
    },
    "papermill": {
     "duration": 6.558787,
     "end_time": "2020-12-12T01:05:24.606824",
     "exception": false,
     "start_time": "2020-12-12T01:05:18.048037",
     "status": "completed"
    },
    "tags": []
   },
   "outputs": [
    {
     "name": "stdout",
     "output_type": "stream",
     "text": [
      "AUC (treino): 0.9558608015655882  AUC (val): 0.9470084042967664\n",
      "Acurácia (treino): 0.937548018878279  Acurácia (val): 0.9258121158911325\n",
      "Log loss (treino): 0.18768810525868443 Log loss (val): 0.22149037678760422\n",
      "\n",
      "AUC (treino): 0.9565258877663725  AUC (val): 0.9498433207098834\n",
      "Acurácia (treino): 0.9360114147733509  Acurácia (val): 0.9306409130816505\n",
      "Log loss (treino): 0.19141783225059172 Log loss (val): 0.20493098588434633\n",
      "\n",
      "AUC (treino): 0.9563553950222203  AUC (val): 0.9442458640260839\n",
      "Acurácia (treino): 0.9352431127208869  Acurácia (val): 0.9315188762071993\n",
      "Log loss (treino): 0.18948038072979903 Log loss (val): 0.2131385276422436\n",
      "\n",
      "AUC (treino): 0.955308435755726  AUC (val): 0.9492439151739096\n",
      "Acurácia (treino): 0.9346943255405554  Acurácia (val): 0.9341527655838455\n",
      "Log loss (treino): 0.1945759788757308 Log loss (val): 0.1958220878554165\n",
      "\n",
      "AUC (treino): 0.9554320851600324  AUC (val): 0.9496092626568157\n",
      "Acurácia (treino): 0.9344820017559262  Acurácia (val): 0.9345630215195433\n",
      "Log loss (treino): 0.19334550760628905 Log loss (val): 0.19777533692700627\n",
      "\n",
      "Média AUC (treino): 0.9558965210539878\n",
      "Média AUC (val): 0.9479901533726919\n",
      "Média Acurácia (treino): 0.9355957747337997\n",
      "Média Acurácia (val): 0.9313375384566742\n",
      "Média Log-loss (treino): 0.19130156094421902\n",
      "Média Log-loss (val): 0.2066314630193234\n"
     ]
    }
   ],
   "source": [
    "auc_treino = []\n",
    "auc_validacao = []\n",
    "acc_treino = []\n",
    "acc_validacao = []\n",
    "logloss_treino = []\n",
    "logloss_validacao = []\n",
    "\n",
    "for tr, val in kf.split(X, y):\n",
    "    \n",
    "    # splita em treino/validação    \n",
    "    X_train, X_val = X.iloc[tr], X.iloc[val]\n",
    "    y_train, y_val = y.iloc[tr], y.iloc[val]\n",
    "    \n",
    "    X_train['prematuro'] = np.where(X_train['qtdsemanas'] < 37, 1, 0)\n",
    "    X_train['pos_termo'] = np.where(X_train['qtdsemanas'] > 42, 1, 0)\n",
    "    X_train['probs'] = gera_probabilidades(X_train)\n",
    "\n",
    "    X_val['prematuro'] = np.where(X_val['qtdsemanas'] < 37, 1, 0)\n",
    "    X_val['pos_termo'] = np.where(X_val['qtdsemanas'] > 42, 1, 0)\n",
    "    X_val['probs'] = gera_probabilidades(X_val)\n",
    "    \n",
    "        \n",
    "    # imputando NaN para dados de treino e validação usando a média\n",
    "    # for col in ['qtdsemanas', 'peso', 'apgar1', 'apgar5']:\n",
    "    #    X_train[col] = X_train[col].fillna(X_train[col].mean())\n",
    "        \n",
    "\n",
    "    # for col in ['qtdsemanas', 'peso', 'apgar1', 'apgar5']:\n",
    "    #    X_val[col] = X_val[col].fillna(X_val[col].mean())\n",
    "       \n",
    "    # treina nos folds de treino\n",
    "    clf = xgb.XGBClassifier(random_state=1, missing=np.nan)\n",
    "    clf.fit(X_train, y_train)\n",
    "    \n",
    "    # calcula probabilidades para treino e validação\n",
    "    # pega segunda coluna: P(Y = 1)\n",
    "    prob_tr = clf.predict_proba(X_train)[:, 1]\n",
    "    prob_val = clf.predict_proba(X_val)[:, 1]\n",
    "    \n",
    "    # calcula AUC\n",
    "    auc_tr = roc_auc_score(y_train, prob_tr)\n",
    "    auc_val = roc_auc_score(y_val, prob_val)\n",
    "    \n",
    "    # calcula acurácia\n",
    "    acc_tr = accuracy_score(y_train, (prob_tr > .5).astype(int))\n",
    "    acc_val = accuracy_score(y_val, (prob_val > .5).astype(int))\n",
    "    \n",
    "    # calcula log-loss\n",
    "    logloss_tr = log_loss(y_train, prob_tr)\n",
    "    logloss_val = log_loss(y_val, prob_val)\n",
    "    \n",
    "    # guarda resultados\n",
    "    auc_treino.append(auc_tr)\n",
    "    auc_validacao.append(auc_val)\n",
    "    acc_treino.append(acc_tr)\n",
    "    acc_validacao.append(acc_val)\n",
    "    logloss_treino.append(logloss_tr)\n",
    "    logloss_validacao.append(logloss_val)\n",
    "    \n",
    "    print('AUC (treino):', auc_tr, ' AUC (val):', auc_val)\n",
    "    print('Acurácia (treino):', acc_tr, ' Acurácia (val):', acc_val)\n",
    "    print('Log loss (treino):', logloss_tr, 'Log loss (val):', logloss_val)\n",
    "    print()\n",
    "    \n",
    "print('Média AUC (treino):', np.mean(auc_treino))\n",
    "print('Média AUC (val):', np.mean(auc_validacao))\n",
    "print('Média Acurácia (treino):', np.mean(acc_treino))\n",
    "print('Média Acurácia (val):', np.mean(acc_validacao))\n",
    "print('Média Log-loss (treino):', np.mean(logloss_treino))\n",
    "print('Média Log-loss (val):', np.mean(logloss_validacao))"
   ]
  },
  {
   "cell_type": "markdown",
   "metadata": {
    "papermill": {
     "duration": 0.064377,
     "end_time": "2020-12-12T01:05:24.735559",
     "exception": false,
     "start_time": "2020-12-12T01:05:24.671182",
     "status": "completed"
    },
    "tags": []
   },
   "source": [
    "Houve uma melhora pequena tanto no $AUC$ (0.9478498979926228 para 0.9479901533726919) quanto no $logloss$.    \n",
    "Será mesmo que faz sentido aumentar a complexidade do modelo em troca desta melhora?         \n",
    "Eu rodei alguns testes com alguns algoritmos (antes de usar a *feature* de probabilidades) de `feature selection` e não obtive melhoras.     \n",
    "      \n",
    "Apesar disso, foi possível perceber que as variáveis `peso`, `apgar_1` e `apgar_5` e `prematuro` (nesta ordem), se mostraram as 4 variáveis mais importantes para o `xgboost`. A variável `prematuro` é a nova variável criada aqui.    "
   ]
  },
  {
   "cell_type": "code",
   "execution_count": 42,
   "metadata": {
    "execution": {
     "iopub.execute_input": "2020-12-12T01:05:24.867683Z",
     "iopub.status.busy": "2020-12-12T01:05:24.867035Z",
     "iopub.status.idle": "2020-12-12T01:05:24.871030Z",
     "shell.execute_reply": "2020-12-12T01:05:24.871428Z"
    },
    "papermill": {
     "duration": 0.072339,
     "end_time": "2020-12-12T01:05:24.871584",
     "exception": false,
     "start_time": "2020-12-12T01:05:24.799245",
     "status": "completed"
    },
    "tags": []
   },
   "outputs": [
    {
     "name": "stdout",
     "output_type": "stream",
     "text": [
      "0.00014025538006912086\n"
     ]
    }
   ],
   "source": [
    "print(0.9479901533726919 - 0.9478498979926228)"
   ]
  },
  {
   "cell_type": "markdown",
   "metadata": {
    "papermill": {
     "duration": 0.07716,
     "end_time": "2020-12-12T01:05:25.013607",
     "exception": false,
     "start_time": "2020-12-12T01:05:24.936447",
     "status": "completed"
    },
    "tags": []
   },
   "source": [
    "## Usando StratifiedKFold"
   ]
  },
  {
   "cell_type": "code",
   "execution_count": 43,
   "metadata": {
    "execution": {
     "iopub.execute_input": "2020-12-12T01:05:25.179202Z",
     "iopub.status.busy": "2020-12-12T01:05:25.178566Z",
     "iopub.status.idle": "2020-12-12T01:05:31.647589Z",
     "shell.execute_reply": "2020-12-12T01:05:31.646937Z"
    },
    "papermill": {
     "duration": 6.548846,
     "end_time": "2020-12-12T01:05:31.647701",
     "exception": false,
     "start_time": "2020-12-12T01:05:25.098855",
     "status": "completed"
    },
    "tags": []
   },
   "outputs": [
    {
     "name": "stdout",
     "output_type": "stream",
     "text": [
      "AUC (treino): 0.9543179383879468  AUC (val): 0.9517016027742056\n",
      "Acurácia (treino): 0.9343650532323565  Acurácia (val): 0.9367866549604916\n",
      "Log loss (treino): 0.19426944707720945 Log loss (val): 0.19473290143831098\n",
      "\n",
      "AUC (treino): 0.9556609949895161  AUC (val): 0.9521934938275929\n",
      "Acurácia (treino): 0.9359016573372846  Acurácia (val): 0.9293239683933274\n",
      "Log loss (treino): 0.19189522140912674 Log loss (val): 0.20397122604675605\n",
      "\n",
      "AUC (treino): 0.9543528055119951  AUC (val): 0.950356533444088\n",
      "Acurácia (treino): 0.935682142465152  Acurácia (val): 0.9258121158911325\n",
      "Log loss (treino): 0.19103146104661045 Log loss (val): 0.21003456616177202\n",
      "\n",
      "AUC (treino): 0.9572353810231501  AUC (val): 0.9413713540791925\n",
      "Acurácia (treino): 0.9351333552848206  Acurácia (val): 0.9341527655838455\n",
      "Log loss (treino): 0.19004042588750275 Log loss (val): 0.21102177513538398\n",
      "\n",
      "AUC (treino): 0.956046115825343  AUC (val): 0.9459199368723789\n",
      "Acurácia (treino): 0.9357989464442493  Acurácia (val): 0.9292929292929293\n",
      "Log loss (treino): 0.1912148997163059 Log loss (val): 0.20680368186440576\n",
      "\n",
      "Média AUC (treino): 0.9555226471475903\n",
      "Média AUC (val): 0.9483085841994916\n",
      "Média Acurácia (treino): 0.9353762309527726\n",
      "Média Acurácia (val): 0.9310736868243452\n",
      "Média Log-loss (treino): 0.19169029102735108\n",
      "Média Log-loss (val): 0.20531283012932575\n"
     ]
    }
   ],
   "source": [
    "auc_treino = []\n",
    "auc_validacao = []\n",
    "acc_treino = []\n",
    "acc_validacao = []\n",
    "logloss_treino = []\n",
    "logloss_validacao = []\n",
    "\n",
    "for tr, val in skf.split(X, y):\n",
    "    \n",
    "    # splita em treino/validação    \n",
    "    X_train, X_val = X.iloc[tr], X.iloc[val]\n",
    "    y_train, y_val = y.iloc[tr], y.iloc[val]\n",
    "    \n",
    "    X_train['prematuro'] = np.where(X_train['qtdsemanas'] < 37, 1, 0)\n",
    "    X_train['pos_termo'] = np.where(X_train['qtdsemanas'] > 42, 1, 0)\n",
    "    X_train['probs'] = gera_probabilidades(X_train)\n",
    "\n",
    "    X_val['prematuro'] = np.where(X_val['qtdsemanas'] < 37, 1, 0)\n",
    "    X_val['pos_termo'] = np.where(X_val['qtdsemanas'] > 42, 1, 0)\n",
    "    X_val['probs'] = gera_probabilidades(X_val)\n",
    "    \n",
    "    \n",
    "    # imputando NaN para dados de treino e validação usando a média\n",
    "    # for col in ['qtdsemanas', 'peso', 'apgar1', 'apgar5']:\n",
    "    #    X_train[col] = X_train[col].fillna(X_train[col].mean())\n",
    "\n",
    "    # for col in ['qtdsemanas', 'peso', 'apgar1', 'apgar5']:\n",
    "    #    X_val[col] = X_val[col].fillna(X_val[col].mean())\n",
    "\n",
    "    \n",
    "    # treina nos folds de treino\n",
    "    clf = xgb.XGBClassifier(random_state=1, missing=np.nan)\n",
    "    clf.fit(X_train, y_train)\n",
    "    \n",
    "    # calcula probabilidades para treino e validação\n",
    "    # pega segunda coluna: P(Y = 1)\n",
    "    prob_tr = clf.predict_proba(X_train)[:, 1]\n",
    "    prob_val = clf.predict_proba(X_val)[:, 1]\n",
    "    \n",
    "    # calcula AUC\n",
    "    auc_tr = roc_auc_score(y_train, prob_tr)\n",
    "    auc_val = roc_auc_score(y_val, prob_val)\n",
    "    \n",
    "    # calcula acurácia\n",
    "    acc_tr = accuracy_score(y_train, (prob_tr > .5).astype(int))\n",
    "    acc_val = accuracy_score(y_val, (prob_val > .5).astype(int))\n",
    "    \n",
    "    # calcula log-loss\n",
    "    logloss_tr = log_loss(y_train, prob_tr)\n",
    "    logloss_val = log_loss(y_val, prob_val)\n",
    "    \n",
    "    # guarda resultados\n",
    "    auc_treino.append(auc_tr)\n",
    "    auc_validacao.append(auc_val)\n",
    "    acc_treino.append(acc_tr)\n",
    "    acc_validacao.append(acc_val)\n",
    "    logloss_treino.append(logloss_tr)\n",
    "    logloss_validacao.append(logloss_val)\n",
    "    \n",
    "    print('AUC (treino):', auc_tr, ' AUC (val):', auc_val)\n",
    "    print('Acurácia (treino):', acc_tr, ' Acurácia (val):', acc_val)\n",
    "    print('Log loss (treino):', logloss_tr, 'Log loss (val):', logloss_val)\n",
    "    print()\n",
    "    \n",
    "print('Média AUC (treino):', np.mean(auc_treino))\n",
    "print('Média AUC (val):', np.mean(auc_validacao))\n",
    "print('Média Acurácia (treino):', np.mean(acc_treino))\n",
    "print('Média Acurácia (val):', np.mean(acc_validacao))\n",
    "print('Média Log-loss (treino):', np.mean(logloss_treino))\n",
    "print('Média Log-loss (val):', np.mean(logloss_validacao))"
   ]
  },
  {
   "cell_type": "markdown",
   "metadata": {
    "papermill": {
     "duration": 0.066363,
     "end_time": "2020-12-12T01:05:31.784270",
     "exception": false,
     "start_time": "2020-12-12T01:05:31.717907",
     "status": "completed"
    },
    "tags": []
   },
   "source": [
    "O AUC para validação mudou de 0.9482892409102384 para 0.9483085841994916"
   ]
  },
  {
   "cell_type": "code",
   "execution_count": 44,
   "metadata": {
    "execution": {
     "iopub.execute_input": "2020-12-12T01:05:31.923556Z",
     "iopub.status.busy": "2020-12-12T01:05:31.922677Z",
     "iopub.status.idle": "2020-12-12T01:05:31.926937Z",
     "shell.execute_reply": "2020-12-12T01:05:31.925844Z"
    },
    "papermill": {
     "duration": 0.074842,
     "end_time": "2020-12-12T01:05:31.927053",
     "exception": false,
     "start_time": "2020-12-12T01:05:31.852211",
     "status": "completed"
    },
    "tags": []
   },
   "outputs": [
    {
     "name": "stdout",
     "output_type": "stream",
     "text": [
      "1.9343289253237472e-05\n"
     ]
    }
   ],
   "source": [
    "print(0.9483085841994916 - 0.9482892409102384)"
   ]
  },
  {
   "cell_type": "markdown",
   "metadata": {
    "papermill": {
     "duration": 0.065934,
     "end_time": "2020-12-12T01:05:32.060792",
     "exception": false,
     "start_time": "2020-12-12T01:05:31.994858",
     "status": "completed"
    },
    "tags": []
   },
   "source": [
    "Em ambos validações, o aumento foi bem baixo, porém vamos submeter."
   ]
  },
  {
   "cell_type": "markdown",
   "metadata": {
    "papermill": {
     "duration": 0.065117,
     "end_time": "2020-12-12T01:05:32.192112",
     "exception": false,
     "start_time": "2020-12-12T01:05:32.126995",
     "status": "completed"
    },
    "tags": []
   },
   "source": [
    "## 2ª submissão"
   ]
  },
  {
   "cell_type": "code",
   "execution_count": 45,
   "metadata": {
    "execution": {
     "iopub.execute_input": "2020-12-12T01:05:32.335889Z",
     "iopub.status.busy": "2020-12-12T01:05:32.335274Z",
     "iopub.status.idle": "2020-12-12T01:05:33.744668Z",
     "shell.execute_reply": "2020-12-12T01:05:33.744179Z"
    },
    "papermill": {
     "duration": 1.486209,
     "end_time": "2020-12-12T01:05:33.744781",
     "exception": false,
     "start_time": "2020-12-12T01:05:32.258572",
     "status": "completed"
    },
    "tags": []
   },
   "outputs": [
    {
     "name": "stdout",
     "output_type": "stream",
     "text": [
      "Modelo treinado\n",
      "Gerando probabilidades...\n",
      "[[0.98075396 0.01924604]\n",
      " [0.9664296  0.03357042]\n",
      " [0.97055626 0.02944372]\n",
      " ...\n",
      " [0.9722435  0.02775653]\n",
      " [0.9737474  0.02625265]\n",
      " [0.8861414  0.11385855]]\n",
      "Gerando submissão...\n",
      "OK\n"
     ]
    }
   ],
   "source": [
    "def gera_submissao():\n",
    "    \n",
    "    # guarda ids\n",
    "    sub = teste.copy()\n",
    "    ids = sub['id']\n",
    "    \n",
    "    # dropa colunas não utilizadas pelo modelo\n",
    "    sub = sub.drop(['id', 'estadocivilmae', 'catprenatal', 'tipoparto', 'sexo', 'malformacao', 'estadocivil_viuva'], axis=1)\n",
    "    \n",
    "    # cria novas features\n",
    "    sub['prematuro'] = np.where(sub['qtdsemanas'] < 37, 1, 0)\n",
    "    sub['pos_termo'] = np.where(sub['qtdsemanas'] > 42, 1, 0)\n",
    "    sub['probs'] = gera_probabilidades(sub)\n",
    "\n",
    "    # imputando NaN\n",
    "    # for col in ['idademae', 'qtdsemanas', 'apgar1', 'apgar5']:\n",
    "    #    sub[col] = sub[col].fillna(sub[col].mean())\n",
    "    \n",
    "    \n",
    "    # treina nos dados completos\n",
    "    X_train = X.copy()\n",
    "    y_train = y.copy()    \n",
    "    \n",
    "    # cria novas features\n",
    "    X_train['prematuro'] = np.where(X_train['qtdsemanas'] < 37, 1, 0)\n",
    "    X_train['pos_termo'] = np.where(X_train['qtdsemanas'] > 42, 1, 0)\n",
    "    X_train['probs'] = gera_probabilidades(X_train)    \n",
    "    \n",
    "    # imputa NaN\n",
    "    # for col in ['qtdsemanas', 'peso', 'apgar1', 'apgar5']:\n",
    "    #    X_train[col] = X_train[col].fillna(X_train[col].mean())\n",
    "    \n",
    "    \n",
    "    clf = xgb.XGBClassifier(random_state=1, missing=np.nan)\n",
    "    clf.fit(X_train, y_train)\n",
    "    print('Modelo treinado')\n",
    "    \n",
    "    # gera probabilidades\n",
    "    print('Gerando probabilidades...')\n",
    "    probs = clf.predict_proba(sub)\n",
    "    print(probs)\n",
    "    \n",
    "    # gerando submissão\n",
    "    print('Gerando submissão...')\n",
    "    print('OK')\n",
    "    \n",
    "    return pd.DataFrame({'id': ids, 'obito': probs[:, 1]})  \n",
    "    \n",
    "    \n",
    "sub2 = gera_submissao()"
   ]
  },
  {
   "cell_type": "code",
   "execution_count": 46,
   "metadata": {
    "execution": {
     "iopub.execute_input": "2020-12-12T01:05:33.882452Z",
     "iopub.status.busy": "2020-12-12T01:05:33.881528Z",
     "iopub.status.idle": "2020-12-12T01:05:33.897788Z",
     "shell.execute_reply": "2020-12-12T01:05:33.897195Z"
    },
    "papermill": {
     "duration": 0.08702,
     "end_time": "2020-12-12T01:05:33.897898",
     "exception": false,
     "start_time": "2020-12-12T01:05:33.810878",
     "status": "completed"
    },
    "tags": []
   },
   "outputs": [],
   "source": [
    "sub2.to_csv('sub2_xgboost_semtunning_prematuro_pos_termo_probscondicionais_missingnp.nan_sem_imputer.csv', index=False)"
   ]
  },
  {
   "cell_type": "markdown",
   "metadata": {
    "papermill": {
     "duration": 0.066,
     "end_time": "2020-12-12T01:05:34.030211",
     "exception": false,
     "start_time": "2020-12-12T01:05:33.964211",
     "status": "completed"
    },
    "tags": []
   },
   "source": [
    "## Resultado:\n",
    "  \n",
    "- AUC (validação KFold): 0.9480558292143977  \n",
    "- AUC (validação StratifieldKFold): 0.9482892409102384\n",
    "            \n",
    "- AUC *leaderboard*: 0.94335\n",
    "     \n",
    "Melhorou um pouco o AUC, tanto localmente quanto na *leaderboard*.    \n",
    "O AUC da *leaderboard* ainda está mais perto da validação KFold.    \n",
    "Pode ser que a melhora tenha sido por acaso, porém podemos pensar que foi por causa das novas *features* também."
   ]
  },
  {
   "cell_type": "markdown",
   "metadata": {
    "papermill": {
     "duration": 0.065732,
     "end_time": "2020-12-12T01:05:34.162223",
     "exception": false,
     "start_time": "2020-12-12T01:05:34.096491",
     "status": "completed"
    },
    "tags": []
   },
   "source": [
    "Eu parei por aqui. As próximas células foram experimentações que não melhoraram o modelo."
   ]
  },
  {
   "cell_type": "markdown",
   "metadata": {
    "papermill": {
     "duration": 0.065462,
     "end_time": "2020-12-12T01:05:34.293439",
     "exception": false,
     "start_time": "2020-12-12T01:05:34.227977",
     "status": "completed"
    },
    "tags": []
   },
   "source": [
    "## Calibração do modelo\n",
    "       \n",
    "Vou fazer uma função que retorna um objeto do modelo XGBoost, porém calibrado. A ideia é reduzir o *brier score*:     https://en.wikipedia.org/wiki/Brier_score       \n",
    "       \n",
    "Esse tipo de método ajusta um modelo de regressão com as probabilidades preditas pelo classificador e tenta \"calibrar\" as probabilidades,\n",
    "diminuindo os momentos que fazemos predições subestimados ou superestimadas. O método usa validação cruzada. Quando a resposta é binária \n",
    "ele utiliza KFold ou StratifiedKfold.   \n",
    "          \n",
    "Este vídeo explica bem o que é calibração de um modelo. É um pouco confuso, mas esse vídeo realmente explica bem o que é isso:         \n",
    "https://www.youtube.com/watch?v=RXMu96RJj_s&list=PLYx7XA2nY5GcDQblpQ_M1V3PQPoLWiDAC&index=12 "
   ]
  },
  {
   "cell_type": "code",
   "execution_count": 47,
   "metadata": {
    "execution": {
     "iopub.execute_input": "2020-12-12T01:05:34.439291Z",
     "iopub.status.busy": "2020-12-12T01:05:34.438665Z",
     "iopub.status.idle": "2020-12-12T01:05:36.770327Z",
     "shell.execute_reply": "2020-12-12T01:05:36.769761Z"
    },
    "papermill": {
     "duration": 2.410147,
     "end_time": "2020-12-12T01:05:36.770447",
     "exception": false,
     "start_time": "2020-12-12T01:05:34.360300",
     "status": "completed"
    },
    "tags": []
   },
   "outputs": [
    {
     "data": {
      "image/png": "[encoded data removed]",
      "text/plain": [
       "<Figure size 432x288 with 1 Axes>"
      ]
     },
     "metadata": {
      "needs_background": "light"
     },
     "output_type": "display_data"
    }
   ],
   "source": [
    "from sklearn.calibration import CalibratedClassifierCV, calibration_curve\n",
    "from sklearn.model_selection import train_test_split\n",
    "from sklearn.metrics import brier_score_loss\n",
    "\n",
    "\n",
    "def calibracao():\n",
    "\n",
    "    # separa em treino e validação\n",
    "    X_train, X_val, y_train, y_val = train_test_split(X, y, test_size=0.67, random_state=0)\n",
    "\n",
    "    # cria novas features\n",
    "    X_train['prematuro'] = np.where(X_train['qtdsemanas'] < 37, 1, 0)\n",
    "    X_train['pos_termo'] = np.where(X_train['qtdsemanas'] > 42, 1, 0)\n",
    "    X_train['probs'] = gera_probabilidades(X_train)      \n",
    "    \n",
    "    # imputa NaN\n",
    "    # for col in ['qtdsemanas', 'peso', 'apgar1', 'apgar5']:\n",
    "    #    X_train[col] = X_train[col].fillna(X_train[col].mean())\n",
    "    \n",
    "    # cria novas features\n",
    "    X_val['prematuro'] = np.where(X_val['qtdsemanas'] < 37, 1, 0)\n",
    "    X_val['pos_termo'] = np.where(X_val['qtdsemanas'] > 42, 1, 0)\n",
    "    X_val['probs'] = gera_probabilidades(X_val)      \n",
    "    \n",
    "    # imputa NaN\n",
    "    # for col in ['qtdsemanas', 'peso', 'apgar1', 'apgar5']:\n",
    "    #    X_val[col] = X_val[col].fillna(X_val[col].mean())\n",
    "    \n",
    "\n",
    "    # treina modelo\n",
    "    clf = xgb.XGBClassifier(random_state=1, missing=np.nan)\n",
    "    clf.fit(X_train, y_train)\n",
    "    probs = clf.predict_proba(X_val)[:, 1]\n",
    "\n",
    "    \n",
    "    # treina calibrador com método isotônico (para amostras pequenas ele não é adequado)\n",
    "    # aqui o argumento cv vai fazer o mesmo que fiz até agora (usar KFold ou StratifiedKFold)\n",
    "    clf_isotonic = CalibratedClassifierCV(clf, cv=5, method='isotonic')\n",
    "    clf_isotonic.fit(X_train, y_train)\n",
    "    prob_pos_isotonic = clf_isotonic.predict_proba(X_val)[:, 1]\n",
    "    \n",
    "    # cria curva de calibração\n",
    "    x_, y_ = calibration_curve(y_val, prob_pos_isotonic, n_bins=10, normalize=True) \n",
    "    \n",
    "    plt.plot([0, 1], [0, 1], linestyle='--', label='Ideal') \n",
    "    plt.plot(y_, x_, marker='.', label='XGBoost') \n",
    "    plt.legend(loc = 'upper left') \n",
    "    plt.xlabel('Média das probabilidades preditas em cada bin') \n",
    "    plt.ylabel('Razão de positivos') \n",
    "    plt.show(); \n",
    "    \n",
    "    return clf_isotonic\n",
    "\n",
    "clf_isotonic = calibracao()"
   ]
  },
  {
   "cell_type": "markdown",
   "metadata": {
    "papermill": {
     "duration": 0.066971,
     "end_time": "2020-12-12T01:05:36.905451",
     "exception": false,
     "start_time": "2020-12-12T01:05:36.838480",
     "status": "completed"
    },
    "tags": []
   },
   "source": [
    "## Usando KFold, com modelo calibrado"
   ]
  },
  {
   "cell_type": "code",
   "execution_count": 48,
   "metadata": {
    "execution": {
     "iopub.execute_input": "2020-12-12T01:05:37.055628Z",
     "iopub.status.busy": "2020-12-12T01:05:37.054520Z",
     "iopub.status.idle": "2020-12-12T01:05:41.148239Z",
     "shell.execute_reply": "2020-12-12T01:05:41.147594Z"
    },
    "papermill": {
     "duration": 4.17595,
     "end_time": "2020-12-12T01:05:41.148379",
     "exception": false,
     "start_time": "2020-12-12T01:05:36.972429",
     "status": "completed"
    },
    "tags": []
   },
   "outputs": [
    {
     "name": "stdout",
     "output_type": "stream",
     "text": [
      "AUC (treino): 0.9516259269109422  AUC (val): 0.9417609050936819\n",
      "Acurácia (treino): 0.9342552957962902  Acurácia (val): 0.9244951712028094\n",
      "Log loss (treino): 0.21355890134075978 Log loss (val): 0.3323735535916042\n",
      "\n",
      "AUC (treino): 0.9504811193410766  AUC (val): 0.9465513229870548\n",
      "Acurácia (treino): 0.9343650532323565  Acurácia (val): 0.9240561896400351\n",
      "Log loss (treino): 0.24125205523956683 Log loss (val): 0.22161309478035252\n",
      "\n",
      "AUC (treino): 0.9520996842560343  AUC (val): 0.9397918930885962\n",
      "Acurácia (treino): 0.9327186916913621  Acurácia (val): 0.9306409130816505\n",
      "Log loss (treino): 0.2282550098553845 Log loss (val): 0.27359557085378805\n",
      "\n",
      "AUC (treino): 0.9480442572220598  AUC (val): 0.956214354566632\n",
      "Acurácia (treino): 0.9298649983536385  Acurácia (val): 0.9420544337137841\n",
      "Log loss (treino): 0.2494388626100224 Log loss (val): 0.18886945915602396\n",
      "\n",
      "AUC (treino): 0.9461032572664256  AUC (val): 0.9637164674964052\n",
      "Acurácia (treino): 0.9303116769095698  Acurácia (val): 0.940272288098375\n",
      "Log loss (treino): 0.2541129195954422 Log loss (val): 0.17013841978202357\n",
      "\n",
      "Média AUC (treino): 0.9496708489993078\n",
      "Média AUC (val): 0.949606988646474\n",
      "Média Acurácia (treino): 0.9323031431966434\n",
      "Média Acurácia (val): 0.9323037991473309\n",
      "Média Log-loss (treino): 0.2373235497282351\n",
      "Média Log-loss (val): 0.23731801963275845\n"
     ]
    }
   ],
   "source": [
    "auc_treino = []\n",
    "auc_validacao = []\n",
    "acc_treino = []\n",
    "acc_validacao = []\n",
    "logloss_treino = []\n",
    "logloss_validacao = []\n",
    "\n",
    "for tr, val in kf.split(X, y):\n",
    "    \n",
    "    # splita em treino/validação    \n",
    "    X_train, X_val = X.iloc[tr], X.iloc[val]\n",
    "    y_train, y_val = y.iloc[tr], y.iloc[val]\n",
    "    \n",
    "    # cria novas features\n",
    "    X_train['prematuro'] = np.where(X_train['qtdsemanas'] < 37, 1, 0)\n",
    "    X_train['pos_termo'] = np.where(X_train['qtdsemanas'] > 42, 1, 0)\n",
    "    X_train['probs'] = gera_probabilidades(X_train)\n",
    "\n",
    "    # cria novas features\n",
    "    X_val['prematuro'] = np.where(X_val['qtdsemanas'] < 37, 1, 0)\n",
    "    X_val['pos_termo'] = np.where(X_val['qtdsemanas'] > 42, 1, 0)\n",
    "    X_val['probs'] = gera_probabilidades(X_val)\n",
    "\n",
    "    \n",
    "    # imputando NaN para dados de treino e validação usando a média\n",
    "    # for col in ['qtdsemanas', 'peso', 'apgar1', 'apgar5']:\n",
    "    #    X_train[col] = X_train[col].fillna(X_train[col].mean())\n",
    "        \n",
    "    # for col in ['qtdsemanas', 'peso', 'apgar1', 'apgar5']:\n",
    "    #    X_val[col] = X_val[col].fillna(X_val[col].mean())\n",
    "\n",
    "    \n",
    "    # calcula probabilidades usando o modelo calibrado\n",
    "    prob_tr = clf_isotonic.predict_proba(X_train)[:, 1]\n",
    "    prob_val = clf_isotonic.predict_proba(X_val)[:, 1]\n",
    "    \n",
    "    # calcula AUC\n",
    "    auc_tr = roc_auc_score(y_train, prob_tr)\n",
    "    auc_val = roc_auc_score(y_val, prob_val)\n",
    "    \n",
    "    # calcula acurácia\n",
    "    acc_tr = accuracy_score(y_train, (prob_tr > .5).astype(int))\n",
    "    acc_val = accuracy_score(y_val, (prob_val > .5).astype(int))\n",
    "    \n",
    "    # calcula log-loss\n",
    "    logloss_tr = log_loss(y_train, prob_tr)\n",
    "    logloss_val = log_loss(y_val, prob_val)\n",
    "    \n",
    "    # guarda resultados\n",
    "    auc_treino.append(auc_tr)\n",
    "    auc_validacao.append(auc_val)\n",
    "    acc_treino.append(acc_tr)\n",
    "    acc_validacao.append(acc_val)\n",
    "    logloss_treino.append(logloss_tr)\n",
    "    logloss_validacao.append(logloss_val)\n",
    "    \n",
    "    print('AUC (treino):', auc_tr, ' AUC (val):', auc_val)\n",
    "    print('Acurácia (treino):', acc_tr, ' Acurácia (val):', acc_val)\n",
    "    print('Log loss (treino):', logloss_tr, 'Log loss (val):', logloss_val)\n",
    "    print()\n",
    "    \n",
    "print('Média AUC (treino):', np.mean(auc_treino))\n",
    "print('Média AUC (val):', np.mean(auc_validacao))\n",
    "print('Média Acurácia (treino):', np.mean(acc_treino))\n",
    "print('Média Acurácia (val):', np.mean(acc_validacao))\n",
    "print('Média Log-loss (treino):', np.mean(logloss_treino))\n",
    "print('Média Log-loss (val):', np.mean(logloss_validacao))"
   ]
  },
  {
   "cell_type": "markdown",
   "metadata": {
    "papermill": {
     "duration": 0.068662,
     "end_time": "2020-12-12T01:05:41.287900",
     "exception": false,
     "start_time": "2020-12-12T01:05:41.219238",
     "status": "completed"
    },
    "tags": []
   },
   "source": [
    "O AUC para validação mudou de 0.9479901533726919 para 0.949606988646474.   \n",
    "Apesar disso, parece que a variância entre os *folds* mudou. Não sei se este modelo ficará melhor que o atual."
   ]
  },
  {
   "cell_type": "code",
   "execution_count": 49,
   "metadata": {
    "execution": {
     "iopub.execute_input": "2020-12-12T01:05:41.433212Z",
     "iopub.status.busy": "2020-12-12T01:05:41.432225Z",
     "iopub.status.idle": "2020-12-12T01:05:41.438945Z",
     "shell.execute_reply": "2020-12-12T01:05:41.438315Z"
    },
    "papermill": {
     "duration": 0.079284,
     "end_time": "2020-12-12T01:05:41.439058",
     "exception": false,
     "start_time": "2020-12-12T01:05:41.359774",
     "status": "completed"
    },
    "tags": []
   },
   "outputs": [
    {
     "name": "stdout",
     "output_type": "stream",
     "text": [
      "0.0016168352737820912\n"
     ]
    }
   ],
   "source": [
    "print(0.949606988646474 - 0.9479901533726919)"
   ]
  },
  {
   "cell_type": "markdown",
   "metadata": {
    "papermill": {
     "duration": 0.069825,
     "end_time": "2020-12-12T01:05:41.578591",
     "exception": false,
     "start_time": "2020-12-12T01:05:41.508766",
     "status": "completed"
    },
    "tags": []
   },
   "source": [
    "## Usando StratifiedKFold, com modelo calibrado"
   ]
  },
  {
   "cell_type": "code",
   "execution_count": 50,
   "metadata": {
    "execution": {
     "iopub.execute_input": "2020-12-12T01:05:41.738332Z",
     "iopub.status.busy": "2020-12-12T01:05:41.731178Z",
     "iopub.status.idle": "2020-12-12T01:05:45.761615Z",
     "shell.execute_reply": "2020-12-12T01:05:45.762098Z"
    },
    "papermill": {
     "duration": 4.112779,
     "end_time": "2020-12-12T01:05:45.762232",
     "exception": false,
     "start_time": "2020-12-12T01:05:41.649453",
     "status": "completed"
    },
    "tags": []
   },
   "outputs": [
    {
     "name": "stdout",
     "output_type": "stream",
     "text": [
      "AUC (treino): 0.9486209942990533  AUC (val): 0.9538548145775891\n",
      "Acurácia (treino): 0.9316211173306992  Acurácia (val): 0.9350307287093942\n",
      "Log loss (treino): 0.24605031382540746 Log loss (val): 0.20242216678404285\n",
      "\n",
      "AUC (treino): 0.9493569564196598  AUC (val): 0.9507998859092979\n",
      "Acurácia (treino): 0.9329382065634947  Acurácia (val): 0.9297629499561019\n",
      "Log loss (treino): 0.2333625061452578 Log loss (val): 0.25316782779099783\n",
      "\n",
      "AUC (treino): 0.9484434377695947  AUC (val): 0.9545463643596658\n",
      "Acurácia (treino): 0.933047963999561  Acurácia (val): 0.9293239683933274\n",
      "Log loss (treino): 0.22579398749640386 Log loss (val): 0.2834385799462692\n",
      "\n",
      "AUC (treino): 0.9516292805688967  AUC (val): 0.9415513008149587\n",
      "Acurácia (treino): 0.9314016024585665  Acurácia (val): 0.935908691834943\n",
      "Log loss (treino): 0.23914131627002017 Log loss (val): 0.2300551240830478\n",
      "\n",
      "AUC (treino): 0.9503022421642999  AUC (val): 0.9472628007674653\n",
      "Acurácia (treino): 0.9325065847234416  Acurácia (val): 0.9314888010540184\n",
      "Log loss (treino): 0.24227092465108938 Log loss (val): 0.21752720236126927\n",
      "\n",
      "Média AUC (treino): 0.9496705822443008\n",
      "Média AUC (val): 0.9496030332857954\n",
      "Média Acurácia (treino): 0.9323030950151526\n",
      "Média Acurácia (val): 0.9323030279895569\n",
      "Média Log-loss (treino): 0.23732380967763572\n",
      "Média Log-loss (val): 0.2373221801931254\n"
     ]
    }
   ],
   "source": [
    "auc_treino = []\n",
    "auc_validacao = []\n",
    "acc_treino = []\n",
    "acc_validacao = []\n",
    "logloss_treino = []\n",
    "logloss_validacao = []\n",
    "\n",
    "for tr, val in skf.split(X, y):\n",
    "    \n",
    "    # splita em treino/validação    \n",
    "    X_train, X_val = X.iloc[tr], X.iloc[val]\n",
    "    y_train, y_val = y.iloc[tr], y.iloc[val]\n",
    "    \n",
    "    # cria novas features\n",
    "    X_train['prematuro'] = np.where(X_train['qtdsemanas'] < 37, 1, 0)\n",
    "    X_train['pos_termo'] = np.where(X_train['qtdsemanas'] > 42, 1, 0)\n",
    "    X_train['probs'] = gera_probabilidades(X_train)\n",
    "\n",
    "    # cria novas features\n",
    "    X_val['prematuro'] = np.where(X_val['qtdsemanas'] < 37, 1, 0)\n",
    "    X_val['pos_termo'] = np.where(X_val['qtdsemanas'] > 42, 1, 0)\n",
    "    X_val['probs'] = gera_probabilidades(X_val)\n",
    "    \n",
    "    \n",
    "    # imputando NaN para dados de treino e validação usando a média\n",
    "    # for col in ['qtdsemanas', 'peso', 'apgar1', 'apgar5']:\n",
    "    #    X_train[col] = X_train[col].fillna(X_train[col].mean())\n",
    "\n",
    "    # for col in ['qtdsemanas', 'peso', 'apgar1', 'apgar5']:\n",
    "    #    X_val[col] = X_val[col].fillna(X_val[col].mean())\n",
    "\n",
    "    \n",
    "    # calcula probabilidades com o modelo calibrado\n",
    "    prob_tr = clf_isotonic.predict_proba(X_train)[:, 1]\n",
    "    prob_val = clf_isotonic.predict_proba(X_val)[:, 1]\n",
    "    \n",
    "    # calcula AUC\n",
    "    auc_tr = roc_auc_score(y_train, prob_tr)\n",
    "    auc_val = roc_auc_score(y_val, prob_val)\n",
    "    \n",
    "    # calcula acurácia\n",
    "    acc_tr = accuracy_score(y_train, (prob_tr > .5).astype(int))\n",
    "    acc_val = accuracy_score(y_val, (prob_val > .5).astype(int))\n",
    "    \n",
    "    # calcula log-loss\n",
    "    logloss_tr = log_loss(y_train, prob_tr)\n",
    "    logloss_val = log_loss(y_val, prob_val)\n",
    "    \n",
    "    # guarda resultados\n",
    "    auc_treino.append(auc_tr)\n",
    "    auc_validacao.append(auc_val)\n",
    "    acc_treino.append(acc_tr)\n",
    "    acc_validacao.append(acc_val)\n",
    "    logloss_treino.append(logloss_tr)\n",
    "    logloss_validacao.append(logloss_val)\n",
    "    \n",
    "    print('AUC (treino):', auc_tr, ' AUC (val):', auc_val)\n",
    "    print('Acurácia (treino):', acc_tr, ' Acurácia (val):', acc_val)\n",
    "    print('Log loss (treino):', logloss_tr, 'Log loss (val):', logloss_val)\n",
    "    print()\n",
    "    \n",
    "print('Média AUC (treino):', np.mean(auc_treino))\n",
    "print('Média AUC (val):', np.mean(auc_validacao))\n",
    "print('Média Acurácia (treino):', np.mean(acc_treino))\n",
    "print('Média Acurácia (val):', np.mean(acc_validacao))\n",
    "print('Média Log-loss (treino):', np.mean(logloss_treino))\n",
    "print('Média Log-loss (val):', np.mean(logloss_validacao))"
   ]
  },
  {
   "cell_type": "markdown",
   "metadata": {
    "papermill": {
     "duration": 0.070627,
     "end_time": "2020-12-12T01:05:45.903699",
     "exception": false,
     "start_time": "2020-12-12T01:05:45.833072",
     "status": "completed"
    },
    "tags": []
   },
   "source": [
    "O AUC para validação mudou de 0.9482892409102384 para 0.9496030332857954"
   ]
  },
  {
   "cell_type": "code",
   "execution_count": 51,
   "metadata": {
    "execution": {
     "iopub.execute_input": "2020-12-12T01:05:46.055625Z",
     "iopub.status.busy": "2020-12-12T01:05:46.054764Z",
     "iopub.status.idle": "2020-12-12T01:05:46.058460Z",
     "shell.execute_reply": "2020-12-12T01:05:46.057885Z"
    },
    "papermill": {
     "duration": 0.0813,
     "end_time": "2020-12-12T01:05:46.058583",
     "exception": false,
     "start_time": "2020-12-12T01:05:45.977283",
     "status": "completed"
    },
    "tags": []
   },
   "outputs": [
    {
     "name": "stdout",
     "output_type": "stream",
     "text": [
      "0.0013137923755570657\n"
     ]
    }
   ],
   "source": [
    "print(0.9496030332857954 - 0.9482892409102384)"
   ]
  },
  {
   "cell_type": "markdown",
   "metadata": {
    "papermill": {
     "duration": 0.069921,
     "end_time": "2020-12-12T01:05:46.199075",
     "exception": false,
     "start_time": "2020-12-12T01:05:46.129154",
     "status": "completed"
    },
    "tags": []
   },
   "source": [
    "## 3ª submissão"
   ]
  },
  {
   "cell_type": "code",
   "execution_count": 52,
   "metadata": {
    "execution": {
     "iopub.execute_input": "2020-12-12T01:05:46.351346Z",
     "iopub.status.busy": "2020-12-12T01:05:46.350425Z",
     "iopub.status.idle": "2020-12-12T01:05:47.051444Z",
     "shell.execute_reply": "2020-12-12T01:05:47.050527Z"
    },
    "papermill": {
     "duration": 0.782356,
     "end_time": "2020-12-12T01:05:47.051660",
     "exception": false,
     "start_time": "2020-12-12T01:05:46.269304",
     "status": "completed"
    },
    "tags": []
   },
   "outputs": [
    {
     "name": "stdout",
     "output_type": "stream",
     "text": [
      "Gerando probabilidades...\n",
      "[[0.97966743 0.02033257]\n",
      " [0.96095505 0.03904495]\n",
      " [0.98668546 0.01331454]\n",
      " ...\n",
      " [0.96467363 0.03532637]\n",
      " [0.96777317 0.03222683]\n",
      " [0.92892046 0.07107954]]\n",
      "Gerando submissão...\n",
      "OK\n"
     ]
    }
   ],
   "source": [
    "def gera_submissao():\n",
    "    \n",
    "    # guarda ids\n",
    "    sub = teste.copy()\n",
    "    ids = sub['id']\n",
    "    \n",
    "    # dropa colunas não utilizadas pelo modelo\n",
    "    sub = sub.drop(['id', 'estadocivilmae', 'catprenatal', 'tipoparto', 'sexo', 'malformacao', 'estadocivil_viuva'], axis=1)\n",
    "    \n",
    "    # cria novas features\n",
    "    sub['prematuro'] = np.where(sub['qtdsemanas'] < 37, 1, 0)\n",
    "    sub['pos_termo'] = np.where(sub['qtdsemanas'] > 42, 1, 0)\n",
    "    sub['probs'] = gera_probabilidades(sub) \n",
    "\n",
    "    # imputando NaN\n",
    "    # for col in ['idademae', 'qtdsemanas', 'apgar1', 'apgar5']:\n",
    "    #    sub[col] = sub[col].fillna(sub[col].mean())\n",
    "\n",
    "    \n",
    "    # treina nos dados completos\n",
    "    # aqui precisamos imputar novamente, porque os dados originais não estão imputados\n",
    "    X_train = X.copy()\n",
    "    y_train = y.copy()    \n",
    "    \n",
    "    # cria novas features\n",
    "    X_train['prematuro'] = np.where(X_train['qtdsemanas'] < 37, 1, 0)\n",
    "    X_train['pos_termo'] = np.where(X_train['qtdsemanas'] > 42, 1, 0)\n",
    "    X_train['probs'] = gera_probabilidades(X_train)    \n",
    "    \n",
    "    # imputa NaN\n",
    "    # for col in ['qtdsemanas', 'peso', 'apgar1', 'apgar5']:\n",
    "    #    X_train[col] = X_train[col].fillna(X_train[col].mean())\n",
    "    \n",
    "    # gera probabilidades com o modelo calibrado\n",
    "    print('Gerando probabilidades...')\n",
    "    probs = clf_isotonic.predict_proba(sub)\n",
    "    print(probs)\n",
    "    \n",
    "    # gerando submissão\n",
    "    print('Gerando submissão...')\n",
    "    print('OK')\n",
    "    \n",
    "    return pd.DataFrame({'id': ids, 'obito': probs[:, 1]})  \n",
    "    \n",
    "    \n",
    "sub3 = gera_submissao()"
   ]
  },
  {
   "cell_type": "code",
   "execution_count": 53,
   "metadata": {
    "execution": {
     "iopub.execute_input": "2020-12-12T01:05:47.206802Z",
     "iopub.status.busy": "2020-12-12T01:05:47.206141Z",
     "iopub.status.idle": "2020-12-12T01:05:47.224071Z",
     "shell.execute_reply": "2020-12-12T01:05:47.223411Z"
    },
    "papermill": {
     "duration": 0.094608,
     "end_time": "2020-12-12T01:05:47.224184",
     "exception": false,
     "start_time": "2020-12-12T01:05:47.129576",
     "status": "completed"
    },
    "tags": []
   },
   "outputs": [],
   "source": [
    "sub3.to_csv('sub3_xgboost_calibradocom5folds_test_frac0.67_com_prematuro_pos_termo_probscondicionais_missingnp.nan_sem_imputer.csv', index=False)"
   ]
  },
  {
   "cell_type": "markdown",
   "metadata": {
    "papermill": {
     "duration": 0.071478,
     "end_time": "2020-12-12T01:05:47.367246",
     "exception": false,
     "start_time": "2020-12-12T01:05:47.295768",
     "status": "completed"
    },
    "tags": []
   },
   "source": [
    "## Resultado\n",
    "       \n",
    "- AUC (Kfold): 0.949606988646474       \n",
    "- AUC (StratifiedKFold): 0.9496030332857954\n",
    "    \n",
    "- AUC (public *leaderboard*): 0.94115\n",
    "     \n",
    "O AUC caiu um pouco na *public leaderboard*."
   ]
  },
  {
   "cell_type": "markdown",
   "metadata": {
    "papermill": {
     "duration": 0.070224,
     "end_time": "2020-12-12T01:05:47.508280",
     "exception": false,
     "start_time": "2020-12-12T01:05:47.438056",
     "status": "completed"
    },
    "tags": []
   },
   "source": [
    "## Alguns outros *insights*"
   ]
  },
  {
   "cell_type": "code",
   "execution_count": 54,
   "metadata": {
    "execution": {
     "iopub.execute_input": "2020-12-12T01:05:47.660137Z",
     "iopub.status.busy": "2020-12-12T01:05:47.654093Z",
     "iopub.status.idle": "2020-12-12T01:05:47.664897Z",
     "shell.execute_reply": "2020-12-12T01:05:47.664373Z"
    },
    "papermill": {
     "duration": 0.086153,
     "end_time": "2020-12-12T01:05:47.665005",
     "exception": false,
     "start_time": "2020-12-12T01:05:47.578852",
     "status": "completed"
    },
    "tags": []
   },
   "outputs": [
    {
     "data": {
      "text/html": [
       "<div>\n",
       "<style scoped>\n",
       "    .dataframe tbody tr th:only-of-type {\n",
       "        vertical-align: middle;\n",
       "    }\n",
       "\n",
       "    .dataframe tbody tr th {\n",
       "        vertical-align: top;\n",
       "    }\n",
       "\n",
       "    .dataframe thead th {\n",
       "        text-align: right;\n",
       "    }\n",
       "</style>\n",
       "<table border=\"1\" class=\"dataframe\">\n",
       "  <thead>\n",
       "    <tr style=\"text-align: right;\">\n",
       "      <th></th>\n",
       "      <th>apgar1</th>\n",
       "      <th>apgar5</th>\n",
       "      <th>obito</th>\n",
       "    </tr>\n",
       "  </thead>\n",
       "  <tbody>\n",
       "    <tr>\n",
       "      <th>0</th>\n",
       "      <td>9.0</td>\n",
       "      <td>10.0</td>\n",
       "      <td>0</td>\n",
       "    </tr>\n",
       "    <tr>\n",
       "      <th>1</th>\n",
       "      <td>9.0</td>\n",
       "      <td>10.0</td>\n",
       "      <td>0</td>\n",
       "    </tr>\n",
       "    <tr>\n",
       "      <th>2</th>\n",
       "      <td>9.0</td>\n",
       "      <td>10.0</td>\n",
       "      <td>0</td>\n",
       "    </tr>\n",
       "    <tr>\n",
       "      <th>3</th>\n",
       "      <td>8.0</td>\n",
       "      <td>9.0</td>\n",
       "      <td>0</td>\n",
       "    </tr>\n",
       "    <tr>\n",
       "      <th>4</th>\n",
       "      <td>8.0</td>\n",
       "      <td>9.0</td>\n",
       "      <td>0</td>\n",
       "    </tr>\n",
       "    <tr>\n",
       "      <th>5</th>\n",
       "      <td>9.0</td>\n",
       "      <td>10.0</td>\n",
       "      <td>0</td>\n",
       "    </tr>\n",
       "    <tr>\n",
       "      <th>6</th>\n",
       "      <td>0.0</td>\n",
       "      <td>6.0</td>\n",
       "      <td>1</td>\n",
       "    </tr>\n",
       "    <tr>\n",
       "      <th>7</th>\n",
       "      <td>9.0</td>\n",
       "      <td>10.0</td>\n",
       "      <td>0</td>\n",
       "    </tr>\n",
       "    <tr>\n",
       "      <th>8</th>\n",
       "      <td>8.0</td>\n",
       "      <td>9.0</td>\n",
       "      <td>0</td>\n",
       "    </tr>\n",
       "    <tr>\n",
       "      <th>9</th>\n",
       "      <td>9.0</td>\n",
       "      <td>10.0</td>\n",
       "      <td>0</td>\n",
       "    </tr>\n",
       "  </tbody>\n",
       "</table>\n",
       "</div>"
      ],
      "text/plain": [
       "   apgar1  apgar5  obito\n",
       "0     9.0    10.0      0\n",
       "1     9.0    10.0      0\n",
       "2     9.0    10.0      0\n",
       "3     8.0     9.0      0\n",
       "4     8.0     9.0      0\n",
       "5     9.0    10.0      0\n",
       "6     0.0     6.0      1\n",
       "7     9.0    10.0      0\n",
       "8     8.0     9.0      0\n",
       "9     9.0    10.0      0"
      ]
     },
     "execution_count": 54,
     "metadata": {},
     "output_type": "execute_result"
    }
   ],
   "source": [
    "apgar_obito = pd.DataFrame({'apgar1': X['apgar1'], 'apgar5': X['apgar5'], 'obito': y})\n",
    "apgar_obito.head(10)"
   ]
  },
  {
   "cell_type": "code",
   "execution_count": 55,
   "metadata": {
    "execution": {
     "iopub.execute_input": "2020-12-12T01:05:47.820996Z",
     "iopub.status.busy": "2020-12-12T01:05:47.819865Z",
     "iopub.status.idle": "2020-12-12T01:05:48.336513Z",
     "shell.execute_reply": "2020-12-12T01:05:48.335554Z"
    },
    "papermill": {
     "duration": 0.598663,
     "end_time": "2020-12-12T01:05:48.336668",
     "exception": false,
     "start_time": "2020-12-12T01:05:47.738005",
     "status": "completed"
    },
    "tags": []
   },
   "outputs": [
    {
     "data": {
      "image/png": "[encoded data removed]",
      "text/plain": [
       "<Figure size 936x720 with 2 Axes>"
      ]
     },
     "metadata": {
      "needs_background": "light"
     },
     "output_type": "display_data"
    }
   ],
   "source": [
    "import seaborn as sns\n",
    "\n",
    "fig, _ = plt.subplots(figsize=(13, 10))\n",
    "\n",
    "piv = pd.pivot_table(apgar_obito[apgar_obito['obito'] == 1][['apgar1', 'apgar5']].groupby(['apgar1', 'apgar5']).size().reset_index(name='obitos'),\n",
    "                     values='obitos', index=['apgar1'], columns=['apgar5'])\n",
    "ax = sns.heatmap(piv, annot=True)\n",
    "plt.title('Número de óbitos')\n",
    "fig.show();"
   ]
  },
  {
   "cell_type": "markdown",
   "metadata": {
    "papermill": {
     "duration": 0.07428,
     "end_time": "2020-12-12T01:05:48.486743",
     "exception": false,
     "start_time": "2020-12-12T01:05:48.412463",
     "status": "completed"
    },
    "tags": []
   },
   "source": [
    "Intuitivamente eu pensei que teríamos mais óbitos quando as 2 variáveis são pequenas (entre 0 e 3), porém podemos ver que há muitos casos quando os valores são grandes (entre 6 e 10)."
   ]
  },
  {
   "cell_type": "code",
   "execution_count": 56,
   "metadata": {
    "execution": {
     "iopub.execute_input": "2020-12-12T01:05:48.689692Z",
     "iopub.status.busy": "2020-12-12T01:05:48.684872Z",
     "iopub.status.idle": "2020-12-12T01:05:49.030418Z",
     "shell.execute_reply": "2020-12-12T01:05:49.030931Z"
    },
    "papermill": {
     "duration": 0.469839,
     "end_time": "2020-12-12T01:05:49.031067",
     "exception": false,
     "start_time": "2020-12-12T01:05:48.561228",
     "status": "completed"
    },
    "tags": []
   },
   "outputs": [
    {
     "data": {
      "image/png": "[encoded data removed]",
      "text/plain": [
       "<Figure size 720x720 with 1 Axes>"
      ]
     },
     "metadata": {
      "needs_background": "light"
     },
     "output_type": "display_data"
    }
   ],
   "source": [
    "fig, _ = plt.subplots(figsize=(10, 10))\n",
    "\n",
    "plt.scatter(X['peso'], X['qtdsemanas'], c=y)\n",
    "plt.xlabel('peso')\n",
    "plt.ylabel('qtdsemanas')\n",
    "\n",
    "fig.show();"
   ]
  },
  {
   "cell_type": "markdown",
   "metadata": {
    "papermill": {
     "duration": 0.077358,
     "end_time": "2020-12-12T01:05:49.185573",
     "exception": false,
     "start_time": "2020-12-12T01:05:49.108215",
     "status": "completed"
    },
    "tags": []
   },
   "source": [
    "A relação entre `peso` e `qtdsemanas` também é interessante."
   ]
  },
  {
   "cell_type": "markdown",
   "metadata": {
    "papermill": {
     "duration": 0.076077,
     "end_time": "2020-12-12T01:05:49.338123",
     "exception": false,
     "start_time": "2020-12-12T01:05:49.262046",
     "status": "completed"
    },
    "tags": []
   },
   "source": [
    "## Conclusão:  \n",
    "     \n",
    "- As submissões com o modelo calibrado também não melhoraram, apesar de localmente melhorarem muito. O curioso é que este\n",
    "modelo calibrado foi o melhor modelo no *private leaderboard*. Talvez calibrar os modelos seja uma boa forma para que seu\n",
    "modelo consiga generalizar para dados novos.   \n",
    "        \n",
    "No final das contas eu usei a submissão 2 como principal, e a submissão 1 como secundária. Ambas ficaram bem próximas no *private leaderboard*."
   ]
  }
 ],
 "metadata": {
  "kernelspec": {
   "display_name": "Python 3",
   "language": "python",
   "name": "python3"
  },
  "language_info": {
   "codemirror_mode": {
    "name": "ipython",
    "version": 3
   },
   "file_extension": ".py",
   "mimetype": "text/x-python",
   "name": "python",
   "nbconvert_exporter": "python",
   "pygments_lexer": "ipython3",
   "version": "3.7.6"
  },
  "papermill": {
   "duration": 57.212366,
   "end_time": "2020-12-12T01:05:49.525119",
   "environment_variables": {},
   "exception": null,
   "input_path": "__notebook__.ipynb",
   "output_path": "__notebook__.ipynb",
   "parameters": {},
   "start_time": "2020-12-12T01:04:52.312753",
   "version": "2.1.0"
  }
 },
 "nbformat": 4,
 "nbformat_minor": 4
}
